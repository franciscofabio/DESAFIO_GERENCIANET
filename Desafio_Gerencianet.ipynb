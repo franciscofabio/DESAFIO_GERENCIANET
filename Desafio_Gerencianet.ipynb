{
 "cells": [
  {
   "cell_type": "markdown",
   "id": "c7fc0ee9-e473-4f2e-b61c-5b5ed4bc02bc",
   "metadata": {},
   "source": [
    "### 1. Conectar ao banco e desenvolver as querys para obter os dados"
   ]
  },
  {
   "cell_type": "markdown",
   "id": "74d57b17-3277-4993-b4ab-1067dd87d93a",
   "metadata": {},
   "source": [
    "#### Fazendo Download do zip"
   ]
  },
  {
   "cell_type": "code",
   "execution_count": 1,
   "id": "35a909a5-cb80-4548-91d8-37945e18ae8a",
   "metadata": {},
   "outputs": [
    {
     "data": {
      "text/plain": [
       "('desafio-tecnico.zip', <http.client.HTTPMessage at 0x1bb2b8b4e50>)"
      ]
     },
     "execution_count": 1,
     "metadata": {},
     "output_type": "execute_result"
    }
   ],
   "source": [
    "from urllib import request\n",
    "file_url = 'https://s3.amazonaws.com/gerencianet-pub-prod-1/printscreen/2021/desafio-tecnico.zip'\n",
    "file = 'desafio-tecnico.zip'\n",
    "request.urlretrieve(file_url , file )"
   ]
  },
  {
   "cell_type": "markdown",
   "id": "b8d0c7f7-dcc6-4807-9ee3-009c1d4adfe5",
   "metadata": {},
   "source": [
    "#### Extraindo o zip"
   ]
  },
  {
   "cell_type": "code",
   "execution_count": 2,
   "id": "b625a3b2-5747-465e-9c02-9644262a2b0d",
   "metadata": {},
   "outputs": [],
   "source": [
    "from zipfile import ZipFile\n",
    "z = ZipFile(file, 'r')\n",
    "z.extractall()\n",
    "z.close()"
   ]
  },
  {
   "cell_type": "markdown",
   "id": "68466ade-cd90-45a1-a0a5-b6be32154a78",
   "metadata": {},
   "source": [
    "#### Importando os dados do SQLite"
   ]
  },
  {
   "cell_type": "code",
   "execution_count": 3,
   "id": "9b8d2bb1-6fea-49da-bd01-86fe7f20dba6",
   "metadata": {},
   "outputs": [],
   "source": [
    "import sqlite3\n",
    "import pandas as pd\n",
    "import numpy as np\n",
    "con = sqlite3.connect(\"desafio-tecnico.db\")"
   ]
  },
  {
   "cell_type": "markdown",
   "id": "e1663cfa-4680-4319-b0c1-7934f61f5bfb",
   "metadata": {},
   "source": [
    "#### Função para trasformar tabelas SQLite em DataFrame pandas"
   ]
  },
  {
   "cell_type": "code",
   "execution_count": 4,
   "id": "a510800a-d61a-4cbb-abc7-7081af4f4204",
   "metadata": {},
   "outputs": [],
   "source": [
    "def parse_to_df(table,database):\n",
    "    con = sqlite3.connect(database)\n",
    "    query = ''' SELECT * FROM '''+table\n",
    "    df = pd.read_sql_query(query, con)\n",
    "    return df"
   ]
  },
  {
   "cell_type": "markdown",
   "id": "af90e75c-7dd2-4427-bc6e-b170546e3440",
   "metadata": {},
   "source": [
    "#### Transformar Tabela accounts em dataframe df_accounts"
   ]
  },
  {
   "cell_type": "code",
   "execution_count": 5,
   "id": "40da8b5a-444e-44de-a65c-c532ecb481fa",
   "metadata": {},
   "outputs": [],
   "source": [
    "df_accounts = parse_to_df('accounts',\"desafio-tecnico.db\")"
   ]
  },
  {
   "cell_type": "code",
   "execution_count": 6,
   "id": "700ed8d0-8a82-4305-b54b-43c694cfa481",
   "metadata": {},
   "outputs": [
    {
     "data": {
      "text/html": [
       "<div>\n",
       "<style scoped>\n",
       "    .dataframe tbody tr th:only-of-type {\n",
       "        vertical-align: middle;\n",
       "    }\n",
       "\n",
       "    .dataframe tbody tr th {\n",
       "        vertical-align: top;\n",
       "    }\n",
       "\n",
       "    .dataframe thead th {\n",
       "        text-align: right;\n",
       "    }\n",
       "</style>\n",
       "<table border=\"1\" class=\"dataframe\">\n",
       "  <thead>\n",
       "    <tr style=\"text-align: right;\">\n",
       "      <th></th>\n",
       "      <th>id</th>\n",
       "      <th>account_number</th>\n",
       "      <th>birth</th>\n",
       "      <th>occupation</th>\n",
       "      <th>email</th>\n",
       "      <th>address_id</th>\n",
       "      <th>created_at</th>\n",
       "    </tr>\n",
       "  </thead>\n",
       "  <tbody>\n",
       "    <tr>\n",
       "      <th>0</th>\n",
       "      <td>1</td>\n",
       "      <td>155938</td>\n",
       "      <td>1984-10-29</td>\n",
       "      <td>Outros</td>\n",
       "      <td>mariaceciliaazevedo042@example.com</td>\n",
       "      <td>1</td>\n",
       "      <td>2021-04-01 02:30:00</td>\n",
       "    </tr>\n",
       "    <tr>\n",
       "      <th>1</th>\n",
       "      <td>2</td>\n",
       "      <td>747007</td>\n",
       "      <td>1977-03-26</td>\n",
       "      <td>Corretor</td>\n",
       "      <td>ananunes3@example.com</td>\n",
       "      <td>2</td>\n",
       "      <td>2021-04-01 02:00:00</td>\n",
       "    </tr>\n",
       "    <tr>\n",
       "      <th>2</th>\n",
       "      <td>3</td>\n",
       "      <td>208404</td>\n",
       "      <td>1984-01-26</td>\n",
       "      <td>Analista</td>\n",
       "      <td>luizfernandovieira@example.com</td>\n",
       "      <td>3</td>\n",
       "      <td>2021-04-01 11:30:00</td>\n",
       "    </tr>\n",
       "    <tr>\n",
       "      <th>3</th>\n",
       "      <td>4</td>\n",
       "      <td>66402</td>\n",
       "      <td>1982-06-30</td>\n",
       "      <td>Investidor</td>\n",
       "      <td>gabriellynascimento6@example.com</td>\n",
       "      <td>4</td>\n",
       "      <td>2021-04-01 14:30:00</td>\n",
       "    </tr>\n",
       "    <tr>\n",
       "      <th>4</th>\n",
       "      <td>5</td>\n",
       "      <td>277012</td>\n",
       "      <td>1967-01-11</td>\n",
       "      <td>Outros</td>\n",
       "      <td>aliciagoncalves7@example.com</td>\n",
       "      <td>5</td>\n",
       "      <td>2021-04-02 15:30:00</td>\n",
       "    </tr>\n",
       "  </tbody>\n",
       "</table>\n",
       "</div>"
      ],
      "text/plain": [
       "   id  account_number       birth  occupation  \\\n",
       "0   1          155938  1984-10-29      Outros   \n",
       "1   2          747007  1977-03-26    Corretor   \n",
       "2   3          208404  1984-01-26    Analista   \n",
       "3   4           66402  1982-06-30  Investidor   \n",
       "4   5          277012  1967-01-11      Outros   \n",
       "\n",
       "                                email  address_id           created_at  \n",
       "0  mariaceciliaazevedo042@example.com           1  2021-04-01 02:30:00  \n",
       "1               ananunes3@example.com           2  2021-04-01 02:00:00  \n",
       "2      luizfernandovieira@example.com           3  2021-04-01 11:30:00  \n",
       "3    gabriellynascimento6@example.com           4  2021-04-01 14:30:00  \n",
       "4        aliciagoncalves7@example.com           5  2021-04-02 15:30:00  "
      ]
     },
     "execution_count": 6,
     "metadata": {},
     "output_type": "execute_result"
    }
   ],
   "source": [
    "df_accounts.head()"
   ]
  },
  {
   "cell_type": "markdown",
   "id": "30321c3f-bd51-43a6-8527-50ea698a981c",
   "metadata": {},
   "source": [
    "#### Transformar Tabela address em dataframe df_address"
   ]
  },
  {
   "cell_type": "code",
   "execution_count": 7,
   "id": "88e739f6-1140-47c7-9e35-8c5f765e33ff",
   "metadata": {},
   "outputs": [
    {
     "data": {
      "text/html": [
       "<div>\n",
       "<style scoped>\n",
       "    .dataframe tbody tr th:only-of-type {\n",
       "        vertical-align: middle;\n",
       "    }\n",
       "\n",
       "    .dataframe tbody tr th {\n",
       "        vertical-align: top;\n",
       "    }\n",
       "\n",
       "    .dataframe thead th {\n",
       "        text-align: right;\n",
       "    }\n",
       "</style>\n",
       "<table border=\"1\" class=\"dataframe\">\n",
       "  <thead>\n",
       "    <tr style=\"text-align: right;\">\n",
       "      <th></th>\n",
       "      <th>id</th>\n",
       "      <th>state</th>\n",
       "      <th>city</th>\n",
       "      <th>created_at</th>\n",
       "    </tr>\n",
       "  </thead>\n",
       "  <tbody>\n",
       "    <tr>\n",
       "      <th>0</th>\n",
       "      <td>1</td>\n",
       "      <td>RJ</td>\n",
       "      <td>Carmo</td>\n",
       "      <td>2021-04-01 02:30:00</td>\n",
       "    </tr>\n",
       "    <tr>\n",
       "      <th>1</th>\n",
       "      <td>2</td>\n",
       "      <td>MG</td>\n",
       "      <td>Bertopolis</td>\n",
       "      <td>2021-04-01 02:00:00</td>\n",
       "    </tr>\n",
       "    <tr>\n",
       "      <th>2</th>\n",
       "      <td>3</td>\n",
       "      <td>MG</td>\n",
       "      <td>Olaria</td>\n",
       "      <td>2021-04-01 11:30:00</td>\n",
       "    </tr>\n",
       "    <tr>\n",
       "      <th>3</th>\n",
       "      <td>4</td>\n",
       "      <td>PR</td>\n",
       "      <td>Icaraima</td>\n",
       "      <td>2021-04-01 14:30:00</td>\n",
       "    </tr>\n",
       "    <tr>\n",
       "      <th>4</th>\n",
       "      <td>5</td>\n",
       "      <td>ES</td>\n",
       "      <td>Ecoporanga</td>\n",
       "      <td>2021-04-02 15:30:00</td>\n",
       "    </tr>\n",
       "  </tbody>\n",
       "</table>\n",
       "</div>"
      ],
      "text/plain": [
       "   id state        city           created_at\n",
       "0   1    RJ       Carmo  2021-04-01 02:30:00\n",
       "1   2    MG  Bertopolis  2021-04-01 02:00:00\n",
       "2   3    MG      Olaria  2021-04-01 11:30:00\n",
       "3   4    PR    Icaraima  2021-04-01 14:30:00\n",
       "4   5    ES  Ecoporanga  2021-04-02 15:30:00"
      ]
     },
     "execution_count": 7,
     "metadata": {},
     "output_type": "execute_result"
    }
   ],
   "source": [
    "df_address = parse_to_df('address','desafio-tecnico.db')\n",
    "df_address.head()"
   ]
  },
  {
   "cell_type": "markdown",
   "id": "1a42ca49-f095-4d15-90da-94c009fc5be3",
   "metadata": {},
   "source": [
    "#### Transformar Tabela levels em dataframe df_levels"
   ]
  },
  {
   "cell_type": "code",
   "execution_count": 8,
   "id": "ea7166ff-ecce-4492-b9d1-557197e3b97b",
   "metadata": {},
   "outputs": [
    {
     "data": {
      "text/html": [
       "<div>\n",
       "<style scoped>\n",
       "    .dataframe tbody tr th:only-of-type {\n",
       "        vertical-align: middle;\n",
       "    }\n",
       "\n",
       "    .dataframe tbody tr th {\n",
       "        vertical-align: top;\n",
       "    }\n",
       "\n",
       "    .dataframe thead th {\n",
       "        text-align: right;\n",
       "    }\n",
       "</style>\n",
       "<table border=\"1\" class=\"dataframe\">\n",
       "  <thead>\n",
       "    <tr style=\"text-align: right;\">\n",
       "      <th></th>\n",
       "      <th>id</th>\n",
       "      <th>account_number</th>\n",
       "      <th>level</th>\n",
       "      <th>created_at</th>\n",
       "    </tr>\n",
       "  </thead>\n",
       "  <tbody>\n",
       "    <tr>\n",
       "      <th>0</th>\n",
       "      <td>1</td>\n",
       "      <td>155938</td>\n",
       "      <td>F</td>\n",
       "      <td>2021-04-20 08:00:00</td>\n",
       "    </tr>\n",
       "    <tr>\n",
       "      <th>1</th>\n",
       "      <td>2</td>\n",
       "      <td>747007</td>\n",
       "      <td>D</td>\n",
       "      <td>2021-04-19 19:30:00</td>\n",
       "    </tr>\n",
       "    <tr>\n",
       "      <th>2</th>\n",
       "      <td>4</td>\n",
       "      <td>66402</td>\n",
       "      <td>D</td>\n",
       "      <td>2021-04-28 21:00:00</td>\n",
       "    </tr>\n",
       "    <tr>\n",
       "      <th>3</th>\n",
       "      <td>5</td>\n",
       "      <td>277012</td>\n",
       "      <td>D</td>\n",
       "      <td>2021-04-19 12:00:00</td>\n",
       "    </tr>\n",
       "    <tr>\n",
       "      <th>4</th>\n",
       "      <td>6</td>\n",
       "      <td>228213</td>\n",
       "      <td>D</td>\n",
       "      <td>2021-04-26 15:00:00</td>\n",
       "    </tr>\n",
       "  </tbody>\n",
       "</table>\n",
       "</div>"
      ],
      "text/plain": [
       "   id  account_number level           created_at\n",
       "0   1          155938     F  2021-04-20 08:00:00\n",
       "1   2          747007     D  2021-04-19 19:30:00\n",
       "2   4           66402     D  2021-04-28 21:00:00\n",
       "3   5          277012     D  2021-04-19 12:00:00\n",
       "4   6          228213     D  2021-04-26 15:00:00"
      ]
     },
     "execution_count": 8,
     "metadata": {},
     "output_type": "execute_result"
    }
   ],
   "source": [
    "df_levels = parse_to_df('levels','desafio-tecnico.db')\n",
    "df_levels.head()"
   ]
  },
  {
   "cell_type": "code",
   "execution_count": 9,
   "id": "d0135016-379b-413a-9475-29c8bfaf5f13",
   "metadata": {},
   "outputs": [
    {
     "data": {
      "text/plain": [
       "array(['F', 'D', 'C', 'A', 'B'], dtype=object)"
      ]
     },
     "execution_count": 9,
     "metadata": {},
     "output_type": "execute_result"
    }
   ],
   "source": [
    "df_levels.level.unique()"
   ]
  },
  {
   "cell_type": "code",
   "execution_count": 10,
   "id": "3914d189-e8f5-4327-ae87-b8ba6480ed49",
   "metadata": {},
   "outputs": [
    {
     "data": {
      "text/plain": [
       "926"
      ]
     },
     "execution_count": 10,
     "metadata": {},
     "output_type": "execute_result"
    }
   ],
   "source": [
    "df_levels.account_number.nunique()"
   ]
  },
  {
   "cell_type": "markdown",
   "id": "4acf6845-d7d5-4f05-9c9e-fc0799b450ba",
   "metadata": {},
   "source": [
    "#### Transformar Tabela charges em dataframe df_charges"
   ]
  },
  {
   "cell_type": "code",
   "execution_count": 11,
   "id": "be0bf8c1-3c18-40bb-93c9-5b838f544fbd",
   "metadata": {},
   "outputs": [
    {
     "data": {
      "text/html": [
       "<div>\n",
       "<style scoped>\n",
       "    .dataframe tbody tr th:only-of-type {\n",
       "        vertical-align: middle;\n",
       "    }\n",
       "\n",
       "    .dataframe tbody tr th {\n",
       "        vertical-align: top;\n",
       "    }\n",
       "\n",
       "    .dataframe thead th {\n",
       "        text-align: right;\n",
       "    }\n",
       "</style>\n",
       "<table border=\"1\" class=\"dataframe\">\n",
       "  <thead>\n",
       "    <tr style=\"text-align: right;\">\n",
       "      <th></th>\n",
       "      <th>id</th>\n",
       "      <th>account_number</th>\n",
       "      <th>status</th>\n",
       "      <th>value</th>\n",
       "      <th>created_at</th>\n",
       "    </tr>\n",
       "  </thead>\n",
       "  <tbody>\n",
       "    <tr>\n",
       "      <th>0</th>\n",
       "      <td>1</td>\n",
       "      <td>155938</td>\n",
       "      <td>paid</td>\n",
       "      <td>11992</td>\n",
       "      <td>2021-04-01 03:00:00</td>\n",
       "    </tr>\n",
       "    <tr>\n",
       "      <th>1</th>\n",
       "      <td>2</td>\n",
       "      <td>155938</td>\n",
       "      <td>paid</td>\n",
       "      <td>9689</td>\n",
       "      <td>2021-04-01 13:30:00</td>\n",
       "    </tr>\n",
       "    <tr>\n",
       "      <th>2</th>\n",
       "      <td>3</td>\n",
       "      <td>155938</td>\n",
       "      <td>paid</td>\n",
       "      <td>11579</td>\n",
       "      <td>2021-04-01 11:30:00</td>\n",
       "    </tr>\n",
       "    <tr>\n",
       "      <th>3</th>\n",
       "      <td>4</td>\n",
       "      <td>747007</td>\n",
       "      <td>unpaid</td>\n",
       "      <td>3134</td>\n",
       "      <td>2021-04-02 12:00:00</td>\n",
       "    </tr>\n",
       "    <tr>\n",
       "      <th>4</th>\n",
       "      <td>5</td>\n",
       "      <td>747007</td>\n",
       "      <td>paid</td>\n",
       "      <td>3085</td>\n",
       "      <td>2021-04-02 19:00:00</td>\n",
       "    </tr>\n",
       "  </tbody>\n",
       "</table>\n",
       "</div>"
      ],
      "text/plain": [
       "   id  account_number  status  value           created_at\n",
       "0   1          155938    paid  11992  2021-04-01 03:00:00\n",
       "1   2          155938    paid   9689  2021-04-01 13:30:00\n",
       "2   3          155938    paid  11579  2021-04-01 11:30:00\n",
       "3   4          747007  unpaid   3134  2021-04-02 12:00:00\n",
       "4   5          747007    paid   3085  2021-04-02 19:00:00"
      ]
     },
     "execution_count": 11,
     "metadata": {},
     "output_type": "execute_result"
    }
   ],
   "source": [
    "df_charges = parse_to_df('charges','desafio-tecnico.db')\n",
    "df_charges.head()"
   ]
  },
  {
   "cell_type": "markdown",
   "id": "4d18c808-1735-402d-92a0-9655b69850be",
   "metadata": {},
   "source": [
    "#### Transformar Tabela transactions em dataframe df_transactions"
   ]
  },
  {
   "cell_type": "code",
   "execution_count": 12,
   "id": "e59f5c34-2b06-493b-ae4c-c48443c8b6ea",
   "metadata": {},
   "outputs": [
    {
     "data": {
      "text/html": [
       "<div>\n",
       "<style scoped>\n",
       "    .dataframe tbody tr th:only-of-type {\n",
       "        vertical-align: middle;\n",
       "    }\n",
       "\n",
       "    .dataframe tbody tr th {\n",
       "        vertical-align: top;\n",
       "    }\n",
       "\n",
       "    .dataframe thead th {\n",
       "        text-align: right;\n",
       "    }\n",
       "</style>\n",
       "<table border=\"1\" class=\"dataframe\">\n",
       "  <thead>\n",
       "    <tr style=\"text-align: right;\">\n",
       "      <th></th>\n",
       "      <th>id</th>\n",
       "      <th>account_number</th>\n",
       "      <th>transaction_type_id</th>\n",
       "      <th>value</th>\n",
       "      <th>created_at</th>\n",
       "    </tr>\n",
       "  </thead>\n",
       "  <tbody>\n",
       "    <tr>\n",
       "      <th>0</th>\n",
       "      <td>1</td>\n",
       "      <td>155938</td>\n",
       "      <td>1</td>\n",
       "      <td>11992</td>\n",
       "      <td>2021-04-01 03:00:00</td>\n",
       "    </tr>\n",
       "    <tr>\n",
       "      <th>1</th>\n",
       "      <td>2</td>\n",
       "      <td>155938</td>\n",
       "      <td>1</td>\n",
       "      <td>9689</td>\n",
       "      <td>2021-04-01 13:30:00</td>\n",
       "    </tr>\n",
       "    <tr>\n",
       "      <th>2</th>\n",
       "      <td>3</td>\n",
       "      <td>155938</td>\n",
       "      <td>1</td>\n",
       "      <td>11579</td>\n",
       "      <td>2021-04-01 11:30:00</td>\n",
       "    </tr>\n",
       "    <tr>\n",
       "      <th>3</th>\n",
       "      <td>4</td>\n",
       "      <td>155938</td>\n",
       "      <td>3</td>\n",
       "      <td>11168</td>\n",
       "      <td>2021-04-01 11:00:00</td>\n",
       "    </tr>\n",
       "    <tr>\n",
       "      <th>4</th>\n",
       "      <td>5</td>\n",
       "      <td>155938</td>\n",
       "      <td>3</td>\n",
       "      <td>10772</td>\n",
       "      <td>2021-04-01 21:00:00</td>\n",
       "    </tr>\n",
       "  </tbody>\n",
       "</table>\n",
       "</div>"
      ],
      "text/plain": [
       "   id  account_number  transaction_type_id  value           created_at\n",
       "0   1          155938                    1  11992  2021-04-01 03:00:00\n",
       "1   2          155938                    1   9689  2021-04-01 13:30:00\n",
       "2   3          155938                    1  11579  2021-04-01 11:30:00\n",
       "3   4          155938                    3  11168  2021-04-01 11:00:00\n",
       "4   5          155938                    3  10772  2021-04-01 21:00:00"
      ]
     },
     "execution_count": 12,
     "metadata": {},
     "output_type": "execute_result"
    }
   ],
   "source": [
    "df_transactions = parse_to_df('transactions','desafio-tecnico.db')\n",
    "df_transactions.head()"
   ]
  },
  {
   "cell_type": "markdown",
   "id": "b0b504e6-f0c8-4e4a-bbd2-06fa48787bd6",
   "metadata": {},
   "source": [
    "#### Transformar Tabela df_transaction_type em dataframe df_df_transaction_type"
   ]
  },
  {
   "cell_type": "code",
   "execution_count": 13,
   "id": "f8a60bbd-ffe1-44bc-b214-4d542dd1d453",
   "metadata": {},
   "outputs": [
    {
     "data": {
      "text/html": [
       "<div>\n",
       "<style scoped>\n",
       "    .dataframe tbody tr th:only-of-type {\n",
       "        vertical-align: middle;\n",
       "    }\n",
       "\n",
       "    .dataframe tbody tr th {\n",
       "        vertical-align: top;\n",
       "    }\n",
       "\n",
       "    .dataframe thead th {\n",
       "        text-align: right;\n",
       "    }\n",
       "</style>\n",
       "<table border=\"1\" class=\"dataframe\">\n",
       "  <thead>\n",
       "    <tr style=\"text-align: right;\">\n",
       "      <th></th>\n",
       "      <th>id</th>\n",
       "      <th>description</th>\n",
       "      <th>description_long</th>\n",
       "    </tr>\n",
       "  </thead>\n",
       "  <tbody>\n",
       "    <tr>\n",
       "      <th>0</th>\n",
       "      <td>1</td>\n",
       "      <td>boleto_recebido</td>\n",
       "      <td>BOLETO RECEBIDO PELO CLIENTE</td>\n",
       "    </tr>\n",
       "    <tr>\n",
       "      <th>1</th>\n",
       "      <td>2</td>\n",
       "      <td>pix_enviado</td>\n",
       "      <td>PIX ENVIADO PELO CLIENTE PARA UMA CONTA EXTERNA</td>\n",
       "    </tr>\n",
       "    <tr>\n",
       "      <th>2</th>\n",
       "      <td>3</td>\n",
       "      <td>pix_recebido</td>\n",
       "      <td>PIX RECEBIDO PELO CLIENTE</td>\n",
       "    </tr>\n",
       "  </tbody>\n",
       "</table>\n",
       "</div>"
      ],
      "text/plain": [
       "   id      description                                 description_long\n",
       "0   1  boleto_recebido                     BOLETO RECEBIDO PELO CLIENTE\n",
       "1   2      pix_enviado  PIX ENVIADO PELO CLIENTE PARA UMA CONTA EXTERNA\n",
       "2   3     pix_recebido                        PIX RECEBIDO PELO CLIENTE"
      ]
     },
     "execution_count": 13,
     "metadata": {},
     "output_type": "execute_result"
    }
   ],
   "source": [
    "df_transaction_type = parse_to_df('transaction_type','desafio-tecnico.db')\n",
    "df_transaction_type.head()"
   ]
  },
  {
   "cell_type": "markdown",
   "id": "efc0a0d7-1efc-4a78-8abd-1b4d8169370e",
   "metadata": {},
   "source": [
    "- #### Juntando tabela de contas com os endereços"
   ]
  },
  {
   "cell_type": "code",
   "execution_count": 14,
   "id": "8a063c5d-d0f6-41c0-9096-e6fbe9d0de7d",
   "metadata": {},
   "outputs": [
    {
     "data": {
      "text/plain": [
       "(1029, 11)"
      ]
     },
     "execution_count": 14,
     "metadata": {},
     "output_type": "execute_result"
    }
   ],
   "source": [
    "df_address['address_id'] = df_address['id']\n",
    "df_accounts_with_address = pd.merge(df_accounts, df_address, how='left', on='address_id')\n",
    "df_accounts_with_address.shape"
   ]
  },
  {
   "cell_type": "markdown",
   "id": "7f6f2051-dc93-427b-ae90-433e761b2ce3",
   "metadata": {},
   "source": [
    "- ##### Renomeando colunas para melhor compreenção"
   ]
  },
  {
   "cell_type": "code",
   "execution_count": 15,
   "id": "193c0896-85f7-47b0-b7ab-57a12ca72a83",
   "metadata": {},
   "outputs": [],
   "source": [
    "df_accounts_with_address.rename(columns={'id_x':'id_acc','id_y':'id_add','created_at_x':'created_at_acc'},inplace=True)"
   ]
  },
  {
   "cell_type": "code",
   "execution_count": 16,
   "id": "0aa39571-2732-4cfa-a4ca-d415256ceaf2",
   "metadata": {},
   "outputs": [],
   "source": [
    "df_accounts_with_address.drop(columns=['created_at_y'], inplace=True)"
   ]
  },
  {
   "cell_type": "code",
   "execution_count": 17,
   "id": "78b622ed-12b9-47be-9bd0-8cb1e75da2b0",
   "metadata": {},
   "outputs": [
    {
     "data": {
      "text/html": [
       "<div>\n",
       "<style scoped>\n",
       "    .dataframe tbody tr th:only-of-type {\n",
       "        vertical-align: middle;\n",
       "    }\n",
       "\n",
       "    .dataframe tbody tr th {\n",
       "        vertical-align: top;\n",
       "    }\n",
       "\n",
       "    .dataframe thead th {\n",
       "        text-align: right;\n",
       "    }\n",
       "</style>\n",
       "<table border=\"1\" class=\"dataframe\">\n",
       "  <thead>\n",
       "    <tr style=\"text-align: right;\">\n",
       "      <th></th>\n",
       "      <th>id_acc</th>\n",
       "      <th>account_number</th>\n",
       "      <th>birth</th>\n",
       "      <th>occupation</th>\n",
       "      <th>email</th>\n",
       "      <th>address_id</th>\n",
       "      <th>created_at_acc</th>\n",
       "      <th>id_add</th>\n",
       "      <th>state</th>\n",
       "      <th>city</th>\n",
       "    </tr>\n",
       "  </thead>\n",
       "  <tbody>\n",
       "    <tr>\n",
       "      <th>0</th>\n",
       "      <td>1</td>\n",
       "      <td>155938</td>\n",
       "      <td>1984-10-29</td>\n",
       "      <td>Outros</td>\n",
       "      <td>mariaceciliaazevedo042@example.com</td>\n",
       "      <td>1</td>\n",
       "      <td>2021-04-01 02:30:00</td>\n",
       "      <td>1</td>\n",
       "      <td>RJ</td>\n",
       "      <td>Carmo</td>\n",
       "    </tr>\n",
       "    <tr>\n",
       "      <th>1</th>\n",
       "      <td>2</td>\n",
       "      <td>747007</td>\n",
       "      <td>1977-03-26</td>\n",
       "      <td>Corretor</td>\n",
       "      <td>ananunes3@example.com</td>\n",
       "      <td>2</td>\n",
       "      <td>2021-04-01 02:00:00</td>\n",
       "      <td>2</td>\n",
       "      <td>MG</td>\n",
       "      <td>Bertopolis</td>\n",
       "    </tr>\n",
       "    <tr>\n",
       "      <th>2</th>\n",
       "      <td>3</td>\n",
       "      <td>208404</td>\n",
       "      <td>1984-01-26</td>\n",
       "      <td>Analista</td>\n",
       "      <td>luizfernandovieira@example.com</td>\n",
       "      <td>3</td>\n",
       "      <td>2021-04-01 11:30:00</td>\n",
       "      <td>3</td>\n",
       "      <td>MG</td>\n",
       "      <td>Olaria</td>\n",
       "    </tr>\n",
       "    <tr>\n",
       "      <th>3</th>\n",
       "      <td>4</td>\n",
       "      <td>66402</td>\n",
       "      <td>1982-06-30</td>\n",
       "      <td>Investidor</td>\n",
       "      <td>gabriellynascimento6@example.com</td>\n",
       "      <td>4</td>\n",
       "      <td>2021-04-01 14:30:00</td>\n",
       "      <td>4</td>\n",
       "      <td>PR</td>\n",
       "      <td>Icaraima</td>\n",
       "    </tr>\n",
       "    <tr>\n",
       "      <th>4</th>\n",
       "      <td>5</td>\n",
       "      <td>277012</td>\n",
       "      <td>1967-01-11</td>\n",
       "      <td>Outros</td>\n",
       "      <td>aliciagoncalves7@example.com</td>\n",
       "      <td>5</td>\n",
       "      <td>2021-04-02 15:30:00</td>\n",
       "      <td>5</td>\n",
       "      <td>ES</td>\n",
       "      <td>Ecoporanga</td>\n",
       "    </tr>\n",
       "  </tbody>\n",
       "</table>\n",
       "</div>"
      ],
      "text/plain": [
       "   id_acc  account_number       birth  occupation  \\\n",
       "0       1          155938  1984-10-29      Outros   \n",
       "1       2          747007  1977-03-26    Corretor   \n",
       "2       3          208404  1984-01-26    Analista   \n",
       "3       4           66402  1982-06-30  Investidor   \n",
       "4       5          277012  1967-01-11      Outros   \n",
       "\n",
       "                                email  address_id       created_at_acc  \\\n",
       "0  mariaceciliaazevedo042@example.com           1  2021-04-01 02:30:00   \n",
       "1               ananunes3@example.com           2  2021-04-01 02:00:00   \n",
       "2      luizfernandovieira@example.com           3  2021-04-01 11:30:00   \n",
       "3    gabriellynascimento6@example.com           4  2021-04-01 14:30:00   \n",
       "4        aliciagoncalves7@example.com           5  2021-04-02 15:30:00   \n",
       "\n",
       "   id_add state        city  \n",
       "0       1    RJ       Carmo  \n",
       "1       2    MG  Bertopolis  \n",
       "2       3    MG      Olaria  \n",
       "3       4    PR    Icaraima  \n",
       "4       5    ES  Ecoporanga  "
      ]
     },
     "execution_count": 17,
     "metadata": {},
     "output_type": "execute_result"
    }
   ],
   "source": [
    "df_accounts_with_address.head()"
   ]
  },
  {
   "cell_type": "markdown",
   "id": "d35fee55-b529-409e-9ec6-73919e567c2b",
   "metadata": {},
   "source": [
    "#### Juntar Tabela de contas/endereço com a Tabela de levels"
   ]
  },
  {
   "cell_type": "code",
   "execution_count": 18,
   "id": "10502ff0-77f1-46d0-adcf-192cf5216819",
   "metadata": {},
   "outputs": [
    {
     "data": {
      "text/plain": [
       "(1029, 13)"
      ]
     },
     "execution_count": 18,
     "metadata": {},
     "output_type": "execute_result"
    }
   ],
   "source": [
    "df_accounts_with_address_levels = pd.merge(df_accounts_with_address, df_levels, how='left', on='account_number')\n",
    "df_accounts_with_address_levels.shape"
   ]
  },
  {
   "cell_type": "code",
   "execution_count": 19,
   "id": "95feadd6-fd27-4dab-9835-5d6bbc914777",
   "metadata": {},
   "outputs": [
    {
     "data": {
      "text/html": [
       "<div>\n",
       "<style scoped>\n",
       "    .dataframe tbody tr th:only-of-type {\n",
       "        vertical-align: middle;\n",
       "    }\n",
       "\n",
       "    .dataframe tbody tr th {\n",
       "        vertical-align: top;\n",
       "    }\n",
       "\n",
       "    .dataframe thead th {\n",
       "        text-align: right;\n",
       "    }\n",
       "</style>\n",
       "<table border=\"1\" class=\"dataframe\">\n",
       "  <thead>\n",
       "    <tr style=\"text-align: right;\">\n",
       "      <th></th>\n",
       "      <th>id_acc</th>\n",
       "      <th>account_number</th>\n",
       "      <th>birth</th>\n",
       "      <th>occupation</th>\n",
       "      <th>email</th>\n",
       "      <th>address_id</th>\n",
       "      <th>created_at_acc</th>\n",
       "      <th>id_add</th>\n",
       "      <th>state</th>\n",
       "      <th>city</th>\n",
       "      <th>id</th>\n",
       "      <th>level</th>\n",
       "    </tr>\n",
       "  </thead>\n",
       "  <tbody>\n",
       "    <tr>\n",
       "      <th>0</th>\n",
       "      <td>1</td>\n",
       "      <td>155938</td>\n",
       "      <td>1984-10-29</td>\n",
       "      <td>Outros</td>\n",
       "      <td>mariaceciliaazevedo042@example.com</td>\n",
       "      <td>1</td>\n",
       "      <td>2021-04-01 02:30:00</td>\n",
       "      <td>1</td>\n",
       "      <td>RJ</td>\n",
       "      <td>Carmo</td>\n",
       "      <td>1.0</td>\n",
       "      <td>F</td>\n",
       "    </tr>\n",
       "    <tr>\n",
       "      <th>1</th>\n",
       "      <td>2</td>\n",
       "      <td>747007</td>\n",
       "      <td>1977-03-26</td>\n",
       "      <td>Corretor</td>\n",
       "      <td>ananunes3@example.com</td>\n",
       "      <td>2</td>\n",
       "      <td>2021-04-01 02:00:00</td>\n",
       "      <td>2</td>\n",
       "      <td>MG</td>\n",
       "      <td>Bertopolis</td>\n",
       "      <td>2.0</td>\n",
       "      <td>D</td>\n",
       "    </tr>\n",
       "    <tr>\n",
       "      <th>2</th>\n",
       "      <td>3</td>\n",
       "      <td>208404</td>\n",
       "      <td>1984-01-26</td>\n",
       "      <td>Analista</td>\n",
       "      <td>luizfernandovieira@example.com</td>\n",
       "      <td>3</td>\n",
       "      <td>2021-04-01 11:30:00</td>\n",
       "      <td>3</td>\n",
       "      <td>MG</td>\n",
       "      <td>Olaria</td>\n",
       "      <td>NaN</td>\n",
       "      <td>NaN</td>\n",
       "    </tr>\n",
       "    <tr>\n",
       "      <th>3</th>\n",
       "      <td>4</td>\n",
       "      <td>66402</td>\n",
       "      <td>1982-06-30</td>\n",
       "      <td>Investidor</td>\n",
       "      <td>gabriellynascimento6@example.com</td>\n",
       "      <td>4</td>\n",
       "      <td>2021-04-01 14:30:00</td>\n",
       "      <td>4</td>\n",
       "      <td>PR</td>\n",
       "      <td>Icaraima</td>\n",
       "      <td>4.0</td>\n",
       "      <td>D</td>\n",
       "    </tr>\n",
       "    <tr>\n",
       "      <th>4</th>\n",
       "      <td>5</td>\n",
       "      <td>277012</td>\n",
       "      <td>1967-01-11</td>\n",
       "      <td>Outros</td>\n",
       "      <td>aliciagoncalves7@example.com</td>\n",
       "      <td>5</td>\n",
       "      <td>2021-04-02 15:30:00</td>\n",
       "      <td>5</td>\n",
       "      <td>ES</td>\n",
       "      <td>Ecoporanga</td>\n",
       "      <td>5.0</td>\n",
       "      <td>D</td>\n",
       "    </tr>\n",
       "    <tr>\n",
       "      <th>...</th>\n",
       "      <td>...</td>\n",
       "      <td>...</td>\n",
       "      <td>...</td>\n",
       "      <td>...</td>\n",
       "      <td>...</td>\n",
       "      <td>...</td>\n",
       "      <td>...</td>\n",
       "      <td>...</td>\n",
       "      <td>...</td>\n",
       "      <td>...</td>\n",
       "      <td>...</td>\n",
       "      <td>...</td>\n",
       "    </tr>\n",
       "    <tr>\n",
       "      <th>1024</th>\n",
       "      <td>1025</td>\n",
       "      <td>385922</td>\n",
       "      <td>2003-05-20</td>\n",
       "      <td>Analista</td>\n",
       "      <td>evelynviana3@example.com</td>\n",
       "      <td>745</td>\n",
       "      <td>2021-07-10 03:30:00</td>\n",
       "      <td>745</td>\n",
       "      <td>GO</td>\n",
       "      <td>Monte Alegre de Goias</td>\n",
       "      <td>1025.0</td>\n",
       "      <td>D</td>\n",
       "    </tr>\n",
       "    <tr>\n",
       "      <th>1025</th>\n",
       "      <td>1026</td>\n",
       "      <td>37393</td>\n",
       "      <td>1996-01-20</td>\n",
       "      <td>Investidor</td>\n",
       "      <td>anaclaraporto9@example.com</td>\n",
       "      <td>505</td>\n",
       "      <td>2021-07-10 04:30:00</td>\n",
       "      <td>505</td>\n",
       "      <td>PR</td>\n",
       "      <td>Paraiso do Norte</td>\n",
       "      <td>1026.0</td>\n",
       "      <td>C</td>\n",
       "    </tr>\n",
       "    <tr>\n",
       "      <th>1026</th>\n",
       "      <td>1027</td>\n",
       "      <td>714025</td>\n",
       "      <td>1981-07-21</td>\n",
       "      <td>Corretor</td>\n",
       "      <td>miguelribeiro3@example.com</td>\n",
       "      <td>746</td>\n",
       "      <td>2021-07-10 15:00:00</td>\n",
       "      <td>746</td>\n",
       "      <td>GO</td>\n",
       "      <td>Sao Luis de Montes Belos</td>\n",
       "      <td>1027.0</td>\n",
       "      <td>D</td>\n",
       "    </tr>\n",
       "    <tr>\n",
       "      <th>1027</th>\n",
       "      <td>1028</td>\n",
       "      <td>708615</td>\n",
       "      <td>1967-03-14</td>\n",
       "      <td>Corretor</td>\n",
       "      <td>mariaeduardadarocha@example.com</td>\n",
       "      <td>747</td>\n",
       "      <td>2021-07-10 21:30:00</td>\n",
       "      <td>747</td>\n",
       "      <td>SC</td>\n",
       "      <td>Zortea</td>\n",
       "      <td>1028.0</td>\n",
       "      <td>D</td>\n",
       "    </tr>\n",
       "    <tr>\n",
       "      <th>1028</th>\n",
       "      <td>1029</td>\n",
       "      <td>418641</td>\n",
       "      <td>1992-06-10</td>\n",
       "      <td>Corretor</td>\n",
       "      <td>heitordaluz@example.com</td>\n",
       "      <td>12</td>\n",
       "      <td>2021-07-10 02:00:00</td>\n",
       "      <td>12</td>\n",
       "      <td>RJ</td>\n",
       "      <td>Italva</td>\n",
       "      <td>1029.0</td>\n",
       "      <td>F</td>\n",
       "    </tr>\n",
       "  </tbody>\n",
       "</table>\n",
       "<p>1029 rows × 12 columns</p>\n",
       "</div>"
      ],
      "text/plain": [
       "      id_acc  account_number       birth  occupation  \\\n",
       "0          1          155938  1984-10-29      Outros   \n",
       "1          2          747007  1977-03-26    Corretor   \n",
       "2          3          208404  1984-01-26    Analista   \n",
       "3          4           66402  1982-06-30  Investidor   \n",
       "4          5          277012  1967-01-11      Outros   \n",
       "...      ...             ...         ...         ...   \n",
       "1024    1025          385922  2003-05-20    Analista   \n",
       "1025    1026           37393  1996-01-20  Investidor   \n",
       "1026    1027          714025  1981-07-21    Corretor   \n",
       "1027    1028          708615  1967-03-14    Corretor   \n",
       "1028    1029          418641  1992-06-10    Corretor   \n",
       "\n",
       "                                   email  address_id       created_at_acc  \\\n",
       "0     mariaceciliaazevedo042@example.com           1  2021-04-01 02:30:00   \n",
       "1                  ananunes3@example.com           2  2021-04-01 02:00:00   \n",
       "2         luizfernandovieira@example.com           3  2021-04-01 11:30:00   \n",
       "3       gabriellynascimento6@example.com           4  2021-04-01 14:30:00   \n",
       "4           aliciagoncalves7@example.com           5  2021-04-02 15:30:00   \n",
       "...                                  ...         ...                  ...   \n",
       "1024            evelynviana3@example.com         745  2021-07-10 03:30:00   \n",
       "1025          anaclaraporto9@example.com         505  2021-07-10 04:30:00   \n",
       "1026          miguelribeiro3@example.com         746  2021-07-10 15:00:00   \n",
       "1027     mariaeduardadarocha@example.com         747  2021-07-10 21:30:00   \n",
       "1028             heitordaluz@example.com          12  2021-07-10 02:00:00   \n",
       "\n",
       "      id_add state                      city      id level  \n",
       "0          1    RJ                     Carmo     1.0     F  \n",
       "1          2    MG                Bertopolis     2.0     D  \n",
       "2          3    MG                    Olaria     NaN   NaN  \n",
       "3          4    PR                  Icaraima     4.0     D  \n",
       "4          5    ES                Ecoporanga     5.0     D  \n",
       "...      ...   ...                       ...     ...   ...  \n",
       "1024     745    GO     Monte Alegre de Goias  1025.0     D  \n",
       "1025     505    PR          Paraiso do Norte  1026.0     C  \n",
       "1026     746    GO  Sao Luis de Montes Belos  1027.0     D  \n",
       "1027     747    SC                    Zortea  1028.0     D  \n",
       "1028      12    RJ                    Italva  1029.0     F  \n",
       "\n",
       "[1029 rows x 12 columns]"
      ]
     },
     "execution_count": 19,
     "metadata": {},
     "output_type": "execute_result"
    }
   ],
   "source": [
    "df_accounts_with_address_levels.drop(columns=['created_at'],inplace=True)\n",
    "df_accounts_with_address_levels"
   ]
  },
  {
   "cell_type": "markdown",
   "id": "52ffb90d-6025-44cb-81a3-c704f847daf9",
   "metadata": {},
   "source": [
    "#### Inserindo a informação de charges:\n",
    "- #### criação de variavel paid (Contem a qtd de boletos que foram pagos) \n",
    "- #### e unpaid (Contém a qtd de boletos não pagos)"
   ]
  },
  {
   "cell_type": "code",
   "execution_count": 20,
   "id": "3bcf6592-f403-4e35-bc20-6d8a26bf7a31",
   "metadata": {},
   "outputs": [
    {
     "data": {
      "text/html": [
       "<div>\n",
       "<style scoped>\n",
       "    .dataframe tbody tr th:only-of-type {\n",
       "        vertical-align: middle;\n",
       "    }\n",
       "\n",
       "    .dataframe tbody tr th {\n",
       "        vertical-align: top;\n",
       "    }\n",
       "\n",
       "    .dataframe thead th {\n",
       "        text-align: right;\n",
       "    }\n",
       "</style>\n",
       "<table border=\"1\" class=\"dataframe\">\n",
       "  <thead>\n",
       "    <tr style=\"text-align: right;\">\n",
       "      <th>status</th>\n",
       "      <th>account_number</th>\n",
       "      <th>paid</th>\n",
       "      <th>unpaid</th>\n",
       "    </tr>\n",
       "  </thead>\n",
       "  <tbody>\n",
       "    <tr>\n",
       "      <th>0</th>\n",
       "      <td>2711</td>\n",
       "      <td>144.0</td>\n",
       "      <td>75.0</td>\n",
       "    </tr>\n",
       "    <tr>\n",
       "      <th>1</th>\n",
       "      <td>2763</td>\n",
       "      <td>128.0</td>\n",
       "      <td>95.0</td>\n",
       "    </tr>\n",
       "    <tr>\n",
       "      <th>2</th>\n",
       "      <td>2957</td>\n",
       "      <td>32.0</td>\n",
       "      <td>30.0</td>\n",
       "    </tr>\n",
       "    <tr>\n",
       "      <th>3</th>\n",
       "      <td>3478</td>\n",
       "      <td>18.0</td>\n",
       "      <td>18.0</td>\n",
       "    </tr>\n",
       "    <tr>\n",
       "      <th>4</th>\n",
       "      <td>5561</td>\n",
       "      <td>26.0</td>\n",
       "      <td>40.0</td>\n",
       "    </tr>\n",
       "    <tr>\n",
       "      <th>...</th>\n",
       "      <td>...</td>\n",
       "      <td>...</td>\n",
       "      <td>...</td>\n",
       "    </tr>\n",
       "    <tr>\n",
       "      <th>875</th>\n",
       "      <td>995447</td>\n",
       "      <td>136.0</td>\n",
       "      <td>138.0</td>\n",
       "    </tr>\n",
       "    <tr>\n",
       "      <th>876</th>\n",
       "      <td>997838</td>\n",
       "      <td>23.0</td>\n",
       "      <td>70.0</td>\n",
       "    </tr>\n",
       "    <tr>\n",
       "      <th>877</th>\n",
       "      <td>998364</td>\n",
       "      <td>110.0</td>\n",
       "      <td>25.0</td>\n",
       "    </tr>\n",
       "    <tr>\n",
       "      <th>878</th>\n",
       "      <td>998440</td>\n",
       "      <td>25.0</td>\n",
       "      <td>19.0</td>\n",
       "    </tr>\n",
       "    <tr>\n",
       "      <th>879</th>\n",
       "      <td>999828</td>\n",
       "      <td>44.0</td>\n",
       "      <td>23.0</td>\n",
       "    </tr>\n",
       "  </tbody>\n",
       "</table>\n",
       "<p>880 rows × 3 columns</p>\n",
       "</div>"
      ],
      "text/plain": [
       "status  account_number   paid  unpaid\n",
       "0                 2711  144.0    75.0\n",
       "1                 2763  128.0    95.0\n",
       "2                 2957   32.0    30.0\n",
       "3                 3478   18.0    18.0\n",
       "4                 5561   26.0    40.0\n",
       "..                 ...    ...     ...\n",
       "875             995447  136.0   138.0\n",
       "876             997838   23.0    70.0\n",
       "877             998364  110.0    25.0\n",
       "878             998440   25.0    19.0\n",
       "879             999828   44.0    23.0\n",
       "\n",
       "[880 rows x 3 columns]"
      ]
     },
     "execution_count": 20,
     "metadata": {},
     "output_type": "execute_result"
    }
   ],
   "source": [
    "df_charges_group = df_charges.groupby(['account_number','status']).count().reset_index()[['account_number','status','value']]\n",
    "df_charges_group = df_charges_group.pivot(index=\"account_number\", columns=\"status\", values=\"value\").reset_index().fillna(0)\n",
    "df_charges_group"
   ]
  },
  {
   "cell_type": "markdown",
   "id": "35ce3f32-2c7f-484a-a8d7-4f3db3d4965a",
   "metadata": {},
   "source": [
    "- ##### Juntando atraves de join a informação de df_charges_group com df_accounts_with_address_levels"
   ]
  },
  {
   "cell_type": "code",
   "execution_count": 21,
   "id": "90bd7e0f-95e8-4f4f-aba4-47267145e5b3",
   "metadata": {},
   "outputs": [
    {
     "name": "stdout",
     "output_type": "stream",
     "text": [
      "(1029, 14)\n"
     ]
    },
    {
     "data": {
      "text/html": [
       "<div>\n",
       "<style scoped>\n",
       "    .dataframe tbody tr th:only-of-type {\n",
       "        vertical-align: middle;\n",
       "    }\n",
       "\n",
       "    .dataframe tbody tr th {\n",
       "        vertical-align: top;\n",
       "    }\n",
       "\n",
       "    .dataframe thead th {\n",
       "        text-align: right;\n",
       "    }\n",
       "</style>\n",
       "<table border=\"1\" class=\"dataframe\">\n",
       "  <thead>\n",
       "    <tr style=\"text-align: right;\">\n",
       "      <th></th>\n",
       "      <th>id_acc</th>\n",
       "      <th>account_number</th>\n",
       "      <th>birth</th>\n",
       "      <th>occupation</th>\n",
       "      <th>email</th>\n",
       "      <th>address_id</th>\n",
       "      <th>created_at_acc</th>\n",
       "      <th>id_add</th>\n",
       "      <th>state</th>\n",
       "      <th>city</th>\n",
       "      <th>id</th>\n",
       "      <th>level</th>\n",
       "      <th>paid</th>\n",
       "      <th>unpaid</th>\n",
       "    </tr>\n",
       "  </thead>\n",
       "  <tbody>\n",
       "    <tr>\n",
       "      <th>0</th>\n",
       "      <td>1</td>\n",
       "      <td>155938</td>\n",
       "      <td>1984-10-29</td>\n",
       "      <td>Outros</td>\n",
       "      <td>mariaceciliaazevedo042@example.com</td>\n",
       "      <td>1</td>\n",
       "      <td>2021-04-01 02:30:00</td>\n",
       "      <td>1</td>\n",
       "      <td>RJ</td>\n",
       "      <td>Carmo</td>\n",
       "      <td>1.0</td>\n",
       "      <td>F</td>\n",
       "      <td>30.0</td>\n",
       "      <td>39.0</td>\n",
       "    </tr>\n",
       "    <tr>\n",
       "      <th>1</th>\n",
       "      <td>2</td>\n",
       "      <td>747007</td>\n",
       "      <td>1977-03-26</td>\n",
       "      <td>Corretor</td>\n",
       "      <td>ananunes3@example.com</td>\n",
       "      <td>2</td>\n",
       "      <td>2021-04-01 02:00:00</td>\n",
       "      <td>2</td>\n",
       "      <td>MG</td>\n",
       "      <td>Bertopolis</td>\n",
       "      <td>2.0</td>\n",
       "      <td>D</td>\n",
       "      <td>113.0</td>\n",
       "      <td>153.0</td>\n",
       "    </tr>\n",
       "    <tr>\n",
       "      <th>2</th>\n",
       "      <td>3</td>\n",
       "      <td>208404</td>\n",
       "      <td>1984-01-26</td>\n",
       "      <td>Analista</td>\n",
       "      <td>luizfernandovieira@example.com</td>\n",
       "      <td>3</td>\n",
       "      <td>2021-04-01 11:30:00</td>\n",
       "      <td>3</td>\n",
       "      <td>MG</td>\n",
       "      <td>Olaria</td>\n",
       "      <td>NaN</td>\n",
       "      <td>NaN</td>\n",
       "      <td>64.0</td>\n",
       "      <td>79.0</td>\n",
       "    </tr>\n",
       "    <tr>\n",
       "      <th>3</th>\n",
       "      <td>4</td>\n",
       "      <td>66402</td>\n",
       "      <td>1982-06-30</td>\n",
       "      <td>Investidor</td>\n",
       "      <td>gabriellynascimento6@example.com</td>\n",
       "      <td>4</td>\n",
       "      <td>2021-04-01 14:30:00</td>\n",
       "      <td>4</td>\n",
       "      <td>PR</td>\n",
       "      <td>Icaraima</td>\n",
       "      <td>4.0</td>\n",
       "      <td>D</td>\n",
       "      <td>184.0</td>\n",
       "      <td>33.0</td>\n",
       "    </tr>\n",
       "    <tr>\n",
       "      <th>4</th>\n",
       "      <td>5</td>\n",
       "      <td>277012</td>\n",
       "      <td>1967-01-11</td>\n",
       "      <td>Outros</td>\n",
       "      <td>aliciagoncalves7@example.com</td>\n",
       "      <td>5</td>\n",
       "      <td>2021-04-02 15:30:00</td>\n",
       "      <td>5</td>\n",
       "      <td>ES</td>\n",
       "      <td>Ecoporanga</td>\n",
       "      <td>5.0</td>\n",
       "      <td>D</td>\n",
       "      <td>90.0</td>\n",
       "      <td>112.0</td>\n",
       "    </tr>\n",
       "  </tbody>\n",
       "</table>\n",
       "</div>"
      ],
      "text/plain": [
       "   id_acc  account_number       birth  occupation  \\\n",
       "0       1          155938  1984-10-29      Outros   \n",
       "1       2          747007  1977-03-26    Corretor   \n",
       "2       3          208404  1984-01-26    Analista   \n",
       "3       4           66402  1982-06-30  Investidor   \n",
       "4       5          277012  1967-01-11      Outros   \n",
       "\n",
       "                                email  address_id       created_at_acc  \\\n",
       "0  mariaceciliaazevedo042@example.com           1  2021-04-01 02:30:00   \n",
       "1               ananunes3@example.com           2  2021-04-01 02:00:00   \n",
       "2      luizfernandovieira@example.com           3  2021-04-01 11:30:00   \n",
       "3    gabriellynascimento6@example.com           4  2021-04-01 14:30:00   \n",
       "4        aliciagoncalves7@example.com           5  2021-04-02 15:30:00   \n",
       "\n",
       "   id_add state        city   id level   paid  unpaid  \n",
       "0       1    RJ       Carmo  1.0     F   30.0    39.0  \n",
       "1       2    MG  Bertopolis  2.0     D  113.0   153.0  \n",
       "2       3    MG      Olaria  NaN   NaN   64.0    79.0  \n",
       "3       4    PR    Icaraima  4.0     D  184.0    33.0  \n",
       "4       5    ES  Ecoporanga  5.0     D   90.0   112.0  "
      ]
     },
     "execution_count": 21,
     "metadata": {},
     "output_type": "execute_result"
    }
   ],
   "source": [
    "df_accounts_with_address_levels_charges = pd.merge(df_accounts_with_address_levels, df_charges_group, how='left', on='account_number')\n",
    "print(df_accounts_with_address_levels_charges.shape)\n",
    "df_accounts_with_address_levels_charges.head()"
   ]
  },
  {
   "cell_type": "markdown",
   "id": "bfc9d4a2-7352-4201-8a66-42b43d1782eb",
   "metadata": {},
   "source": [
    "- ##### Preenchendo os NaN de paid e unpaid com 0."
   ]
  },
  {
   "cell_type": "code",
   "execution_count": 22,
   "id": "d415c3dd-0f58-413d-9ca0-a84d53c06df7",
   "metadata": {},
   "outputs": [
    {
     "name": "stdout",
     "output_type": "stream",
     "text": [
      "<class 'pandas.core.frame.DataFrame'>\n",
      "Int64Index: 1029 entries, 0 to 1028\n",
      "Data columns (total 2 columns):\n",
      " #   Column  Non-Null Count  Dtype  \n",
      "---  ------  --------------  -----  \n",
      " 0   paid    880 non-null    float64\n",
      " 1   unpaid  880 non-null    float64\n",
      "dtypes: float64(2)\n",
      "memory usage: 24.1 KB\n",
      "----------------------------------------\n",
      ":::> Quantidade de NaN em paid e unpaid\n"
     ]
    },
    {
     "data": {
      "text/plain": [
       "paid      149\n",
       "unpaid    149\n",
       "dtype: int64"
      ]
     },
     "execution_count": 22,
     "metadata": {},
     "output_type": "execute_result"
    }
   ],
   "source": [
    "df_accounts_with_address_levels_charges[['paid','unpaid']].info()\n",
    "print(f\"-\"*40)\n",
    "print(f\":::> Quantidade de NaN em paid e unpaid\")\n",
    "df_accounts_with_address_levels_charges[['paid','unpaid']].isna().sum()"
   ]
  },
  {
   "cell_type": "markdown",
   "id": "b2deb011-8189-41b0-85b0-7e804ee1ad42",
   "metadata": {},
   "source": [
    "- ##### Preenchendo os NaN de charger com 0"
   ]
  },
  {
   "cell_type": "code",
   "execution_count": 23,
   "id": "62c1ba23-8b3a-4880-9d3e-5572b351aab7",
   "metadata": {},
   "outputs": [],
   "source": [
    "df_accounts_with_address_levels_charges['paid'].fillna(0, inplace=True)\n",
    "df_accounts_with_address_levels_charges['unpaid'].fillna(0, inplace=True)"
   ]
  },
  {
   "cell_type": "markdown",
   "id": "d675f000-5c4e-4c8e-b636-b90da68d25cb",
   "metadata": {},
   "source": [
    "- ##### Convertendo as colunas paid e unpaid em inteiro"
   ]
  },
  {
   "cell_type": "code",
   "execution_count": 24,
   "id": "b9dd007d-78bc-435d-8ac4-c5b62e918946",
   "metadata": {},
   "outputs": [],
   "source": [
    "df_accounts_with_address_levels_charges['paid'] = df_accounts_with_address_levels_charges['paid'].astype(int)\n",
    "df_accounts_with_address_levels_charges['unpaid'] = df_accounts_with_address_levels_charges['unpaid'].astype(int)"
   ]
  },
  {
   "cell_type": "code",
   "execution_count": 25,
   "id": "34a6fe4d-5a8c-4d29-a30d-a1d3a19e6044",
   "metadata": {},
   "outputs": [
    {
     "name": "stdout",
     "output_type": "stream",
     "text": [
      "<class 'pandas.core.frame.DataFrame'>\n",
      "Int64Index: 1029 entries, 0 to 1028\n",
      "Data columns (total 14 columns):\n",
      " #   Column          Non-Null Count  Dtype  \n",
      "---  ------          --------------  -----  \n",
      " 0   id_acc          1029 non-null   int64  \n",
      " 1   account_number  1029 non-null   int64  \n",
      " 2   birth           1029 non-null   object \n",
      " 3   occupation      1029 non-null   object \n",
      " 4   email           1029 non-null   object \n",
      " 5   address_id      1029 non-null   int64  \n",
      " 6   created_at_acc  1029 non-null   object \n",
      " 7   id_add          1029 non-null   int64  \n",
      " 8   state           1029 non-null   object \n",
      " 9   city            1029 non-null   object \n",
      " 10  id              926 non-null    float64\n",
      " 11  level           926 non-null    object \n",
      " 12  paid            1029 non-null   int32  \n",
      " 13  unpaid          1029 non-null   int32  \n",
      "dtypes: float64(1), int32(2), int64(4), object(7)\n",
      "memory usage: 112.5+ KB\n"
     ]
    }
   ],
   "source": [
    "df_accounts_with_address_levels_charges.info()"
   ]
  },
  {
   "cell_type": "markdown",
   "id": "393ba355-0c38-4613-9c57-7a5e9e935015",
   "metadata": {},
   "source": [
    "#### Inserindo informação de level para uma nova variavel como sendo licita (0) ou ilicita (1), sendo A,B,C e D = licita e F = ilicita"
   ]
  },
  {
   "cell_type": "code",
   "execution_count": 26,
   "id": "8f2ae587-74ac-41f2-ab75-4e19a1a8f89b",
   "metadata": {},
   "outputs": [],
   "source": [
    "df_accounts_with_address_levels_charges['target'] = df_accounts_with_address_levels_charges['level'].map({'A':0,'B':0,'C':0,'D':0,'F':1}, na_action='ignore')"
   ]
  },
  {
   "cell_type": "markdown",
   "id": "b96010cc-a984-4615-8c3c-ac28c4e31bbd",
   "metadata": {},
   "source": [
    "##### Convertendo account_number para object"
   ]
  },
  {
   "cell_type": "code",
   "execution_count": 27,
   "id": "0b8e2098-6e1e-4bdb-b45b-0d91e712fb78",
   "metadata": {},
   "outputs": [],
   "source": [
    "df_accounts_with_address_levels_charges['account_number'] = df_accounts_with_address_levels_charges['account_number'].astype(str)"
   ]
  },
  {
   "cell_type": "code",
   "execution_count": 28,
   "id": "6f9fa377-70df-42af-9c45-e5ad90dae450",
   "metadata": {},
   "outputs": [],
   "source": [
    "#### Deletando variaveis e Dataframes que não estão sendo usado\n",
    "del df_accounts, df_accounts_with_address, df_accounts_with_address_levels, df_address, df_charges, df_charges_group,df_levels\n",
    "del df_transaction_type, df_transactions"
   ]
  },
  {
   "cell_type": "code",
   "execution_count": 29,
   "id": "49125435-4f0a-4e85-a7a8-821f544b20c9",
   "metadata": {},
   "outputs": [],
   "source": [
    "#dir()"
   ]
  },
  {
   "cell_type": "markdown",
   "id": "ec0cadff-1190-4c0b-b2c7-6a446f0c7cdb",
   "metadata": {},
   "source": [
    "### 2. Descritiva do Dataset com os merges(join)"
   ]
  },
  {
   "cell_type": "code",
   "execution_count": 30,
   "id": "8c8bea0c-e28b-40cb-8686-a76b66a9c4f4",
   "metadata": {},
   "outputs": [],
   "source": [
    "import matplotlib.pyplot as plt\n",
    "import seaborn as sns\n",
    "import warnings\n",
    "warnings.filterwarnings('ignore')"
   ]
  },
  {
   "cell_type": "code",
   "execution_count": 31,
   "id": "24c5d6db-cbc2-4bf5-a56f-d40593fc0a07",
   "metadata": {},
   "outputs": [
    {
     "data": {
      "text/html": [
       "<div>\n",
       "<style scoped>\n",
       "    .dataframe tbody tr th:only-of-type {\n",
       "        vertical-align: middle;\n",
       "    }\n",
       "\n",
       "    .dataframe tbody tr th {\n",
       "        vertical-align: top;\n",
       "    }\n",
       "\n",
       "    .dataframe thead th {\n",
       "        text-align: right;\n",
       "    }\n",
       "</style>\n",
       "<table border=\"1\" class=\"dataframe\">\n",
       "  <thead>\n",
       "    <tr style=\"text-align: right;\">\n",
       "      <th></th>\n",
       "      <th>id_acc</th>\n",
       "      <th>address_id</th>\n",
       "      <th>id_add</th>\n",
       "      <th>id</th>\n",
       "      <th>paid</th>\n",
       "      <th>unpaid</th>\n",
       "      <th>target</th>\n",
       "    </tr>\n",
       "  </thead>\n",
       "  <tbody>\n",
       "    <tr>\n",
       "      <th>count</th>\n",
       "      <td>1029.000000</td>\n",
       "      <td>1029.000000</td>\n",
       "      <td>1029.000000</td>\n",
       "      <td>926.000000</td>\n",
       "      <td>1029.000000</td>\n",
       "      <td>1029.000000</td>\n",
       "      <td>926.000000</td>\n",
       "    </tr>\n",
       "    <tr>\n",
       "      <th>mean</th>\n",
       "      <td>515.000000</td>\n",
       "      <td>340.163265</td>\n",
       "      <td>340.163265</td>\n",
       "      <td>518.062635</td>\n",
       "      <td>94.059281</td>\n",
       "      <td>56.056365</td>\n",
       "      <td>0.220302</td>\n",
       "    </tr>\n",
       "    <tr>\n",
       "      <th>std</th>\n",
       "      <td>297.191016</td>\n",
       "      <td>213.681298</td>\n",
       "      <td>213.681298</td>\n",
       "      <td>297.499508</td>\n",
       "      <td>99.035757</td>\n",
       "      <td>58.770052</td>\n",
       "      <td>0.414674</td>\n",
       "    </tr>\n",
       "    <tr>\n",
       "      <th>min</th>\n",
       "      <td>1.000000</td>\n",
       "      <td>1.000000</td>\n",
       "      <td>1.000000</td>\n",
       "      <td>1.000000</td>\n",
       "      <td>0.000000</td>\n",
       "      <td>0.000000</td>\n",
       "      <td>0.000000</td>\n",
       "    </tr>\n",
       "    <tr>\n",
       "      <th>25%</th>\n",
       "      <td>258.000000</td>\n",
       "      <td>148.000000</td>\n",
       "      <td>148.000000</td>\n",
       "      <td>259.250000</td>\n",
       "      <td>20.000000</td>\n",
       "      <td>20.000000</td>\n",
       "      <td>0.000000</td>\n",
       "    </tr>\n",
       "    <tr>\n",
       "      <th>50%</th>\n",
       "      <td>515.000000</td>\n",
       "      <td>328.000000</td>\n",
       "      <td>328.000000</td>\n",
       "      <td>522.500000</td>\n",
       "      <td>78.000000</td>\n",
       "      <td>42.000000</td>\n",
       "      <td>0.000000</td>\n",
       "    </tr>\n",
       "    <tr>\n",
       "      <th>75%</th>\n",
       "      <td>772.000000</td>\n",
       "      <td>518.000000</td>\n",
       "      <td>518.000000</td>\n",
       "      <td>772.750000</td>\n",
       "      <td>134.000000</td>\n",
       "      <td>77.000000</td>\n",
       "      <td>0.000000</td>\n",
       "    </tr>\n",
       "    <tr>\n",
       "      <th>max</th>\n",
       "      <td>1029.000000</td>\n",
       "      <td>747.000000</td>\n",
       "      <td>747.000000</td>\n",
       "      <td>1029.000000</td>\n",
       "      <td>764.000000</td>\n",
       "      <td>534.000000</td>\n",
       "      <td>1.000000</td>\n",
       "    </tr>\n",
       "  </tbody>\n",
       "</table>\n",
       "</div>"
      ],
      "text/plain": [
       "            id_acc   address_id       id_add           id         paid  \\\n",
       "count  1029.000000  1029.000000  1029.000000   926.000000  1029.000000   \n",
       "mean    515.000000   340.163265   340.163265   518.062635    94.059281   \n",
       "std     297.191016   213.681298   213.681298   297.499508    99.035757   \n",
       "min       1.000000     1.000000     1.000000     1.000000     0.000000   \n",
       "25%     258.000000   148.000000   148.000000   259.250000    20.000000   \n",
       "50%     515.000000   328.000000   328.000000   522.500000    78.000000   \n",
       "75%     772.000000   518.000000   518.000000   772.750000   134.000000   \n",
       "max    1029.000000   747.000000   747.000000  1029.000000   764.000000   \n",
       "\n",
       "            unpaid      target  \n",
       "count  1029.000000  926.000000  \n",
       "mean     56.056365    0.220302  \n",
       "std      58.770052    0.414674  \n",
       "min       0.000000    0.000000  \n",
       "25%      20.000000    0.000000  \n",
       "50%      42.000000    0.000000  \n",
       "75%      77.000000    0.000000  \n",
       "max     534.000000    1.000000  "
      ]
     },
     "execution_count": 31,
     "metadata": {},
     "output_type": "execute_result"
    }
   ],
   "source": [
    "df_accounts_with_address_levels_charges.describe()"
   ]
  },
  {
   "cell_type": "code",
   "execution_count": 32,
   "id": "a07a3817-3471-442a-b36c-d2e147950559",
   "metadata": {},
   "outputs": [
    {
     "data": {
      "text/html": [
       "<div>\n",
       "<style scoped>\n",
       "    .dataframe tbody tr th:only-of-type {\n",
       "        vertical-align: middle;\n",
       "    }\n",
       "\n",
       "    .dataframe tbody tr th {\n",
       "        vertical-align: top;\n",
       "    }\n",
       "\n",
       "    .dataframe thead th {\n",
       "        text-align: right;\n",
       "    }\n",
       "</style>\n",
       "<table border=\"1\" class=\"dataframe\">\n",
       "  <thead>\n",
       "    <tr style=\"text-align: right;\">\n",
       "      <th></th>\n",
       "      <th>id_acc</th>\n",
       "      <th>account_number</th>\n",
       "      <th>birth</th>\n",
       "      <th>occupation</th>\n",
       "      <th>email</th>\n",
       "      <th>address_id</th>\n",
       "      <th>created_at_acc</th>\n",
       "      <th>id_add</th>\n",
       "      <th>state</th>\n",
       "      <th>city</th>\n",
       "      <th>id</th>\n",
       "      <th>level</th>\n",
       "      <th>paid</th>\n",
       "      <th>unpaid</th>\n",
       "      <th>target</th>\n",
       "    </tr>\n",
       "  </thead>\n",
       "  <tbody>\n",
       "    <tr>\n",
       "      <th>1024</th>\n",
       "      <td>1025</td>\n",
       "      <td>385922</td>\n",
       "      <td>2003-05-20</td>\n",
       "      <td>Analista</td>\n",
       "      <td>evelynviana3@example.com</td>\n",
       "      <td>745</td>\n",
       "      <td>2021-07-10 03:30:00</td>\n",
       "      <td>745</td>\n",
       "      <td>GO</td>\n",
       "      <td>Monte Alegre de Goias</td>\n",
       "      <td>1025.0</td>\n",
       "      <td>D</td>\n",
       "      <td>0</td>\n",
       "      <td>0</td>\n",
       "      <td>0.0</td>\n",
       "    </tr>\n",
       "    <tr>\n",
       "      <th>1025</th>\n",
       "      <td>1026</td>\n",
       "      <td>37393</td>\n",
       "      <td>1996-01-20</td>\n",
       "      <td>Investidor</td>\n",
       "      <td>anaclaraporto9@example.com</td>\n",
       "      <td>505</td>\n",
       "      <td>2021-07-10 04:30:00</td>\n",
       "      <td>505</td>\n",
       "      <td>PR</td>\n",
       "      <td>Paraiso do Norte</td>\n",
       "      <td>1026.0</td>\n",
       "      <td>C</td>\n",
       "      <td>0</td>\n",
       "      <td>0</td>\n",
       "      <td>0.0</td>\n",
       "    </tr>\n",
       "    <tr>\n",
       "      <th>1026</th>\n",
       "      <td>1027</td>\n",
       "      <td>714025</td>\n",
       "      <td>1981-07-21</td>\n",
       "      <td>Corretor</td>\n",
       "      <td>miguelribeiro3@example.com</td>\n",
       "      <td>746</td>\n",
       "      <td>2021-07-10 15:00:00</td>\n",
       "      <td>746</td>\n",
       "      <td>GO</td>\n",
       "      <td>Sao Luis de Montes Belos</td>\n",
       "      <td>1027.0</td>\n",
       "      <td>D</td>\n",
       "      <td>0</td>\n",
       "      <td>0</td>\n",
       "      <td>0.0</td>\n",
       "    </tr>\n",
       "    <tr>\n",
       "      <th>1027</th>\n",
       "      <td>1028</td>\n",
       "      <td>708615</td>\n",
       "      <td>1967-03-14</td>\n",
       "      <td>Corretor</td>\n",
       "      <td>mariaeduardadarocha@example.com</td>\n",
       "      <td>747</td>\n",
       "      <td>2021-07-10 21:30:00</td>\n",
       "      <td>747</td>\n",
       "      <td>SC</td>\n",
       "      <td>Zortea</td>\n",
       "      <td>1028.0</td>\n",
       "      <td>D</td>\n",
       "      <td>0</td>\n",
       "      <td>0</td>\n",
       "      <td>0.0</td>\n",
       "    </tr>\n",
       "    <tr>\n",
       "      <th>1028</th>\n",
       "      <td>1029</td>\n",
       "      <td>418641</td>\n",
       "      <td>1992-06-10</td>\n",
       "      <td>Corretor</td>\n",
       "      <td>heitordaluz@example.com</td>\n",
       "      <td>12</td>\n",
       "      <td>2021-07-10 02:00:00</td>\n",
       "      <td>12</td>\n",
       "      <td>RJ</td>\n",
       "      <td>Italva</td>\n",
       "      <td>1029.0</td>\n",
       "      <td>F</td>\n",
       "      <td>1</td>\n",
       "      <td>0</td>\n",
       "      <td>1.0</td>\n",
       "    </tr>\n",
       "  </tbody>\n",
       "</table>\n",
       "</div>"
      ],
      "text/plain": [
       "      id_acc account_number       birth  occupation  \\\n",
       "1024    1025         385922  2003-05-20    Analista   \n",
       "1025    1026          37393  1996-01-20  Investidor   \n",
       "1026    1027         714025  1981-07-21    Corretor   \n",
       "1027    1028         708615  1967-03-14    Corretor   \n",
       "1028    1029         418641  1992-06-10    Corretor   \n",
       "\n",
       "                                email  address_id       created_at_acc  \\\n",
       "1024         evelynviana3@example.com         745  2021-07-10 03:30:00   \n",
       "1025       anaclaraporto9@example.com         505  2021-07-10 04:30:00   \n",
       "1026       miguelribeiro3@example.com         746  2021-07-10 15:00:00   \n",
       "1027  mariaeduardadarocha@example.com         747  2021-07-10 21:30:00   \n",
       "1028          heitordaluz@example.com          12  2021-07-10 02:00:00   \n",
       "\n",
       "      id_add state                      city      id level  paid  unpaid  \\\n",
       "1024     745    GO     Monte Alegre de Goias  1025.0     D     0       0   \n",
       "1025     505    PR          Paraiso do Norte  1026.0     C     0       0   \n",
       "1026     746    GO  Sao Luis de Montes Belos  1027.0     D     0       0   \n",
       "1027     747    SC                    Zortea  1028.0     D     0       0   \n",
       "1028      12    RJ                    Italva  1029.0     F     1       0   \n",
       "\n",
       "      target  \n",
       "1024     0.0  \n",
       "1025     0.0  \n",
       "1026     0.0  \n",
       "1027     0.0  \n",
       "1028     1.0  "
      ]
     },
     "execution_count": 32,
     "metadata": {},
     "output_type": "execute_result"
    }
   ],
   "source": [
    "df_accounts_with_address_levels_charges.tail()"
   ]
  },
  {
   "cell_type": "markdown",
   "id": "22d63fc4-4b9d-4397-b542-240d5fedbc84",
   "metadata": {},
   "source": [
    "- ##### Visualizando boletos pagos e não pagos por estado"
   ]
  },
  {
   "cell_type": "code",
   "execution_count": 33,
   "id": "999435fe-53d3-42a7-b84e-a71f031a212c",
   "metadata": {},
   "outputs": [
    {
     "data": {
      "text/html": [
       "<div>\n",
       "<style scoped>\n",
       "    .dataframe tbody tr th:only-of-type {\n",
       "        vertical-align: middle;\n",
       "    }\n",
       "\n",
       "    .dataframe tbody tr th {\n",
       "        vertical-align: top;\n",
       "    }\n",
       "\n",
       "    .dataframe thead th {\n",
       "        text-align: right;\n",
       "    }\n",
       "</style>\n",
       "<table border=\"1\" class=\"dataframe\">\n",
       "  <thead>\n",
       "    <tr style=\"text-align: right;\">\n",
       "      <th></th>\n",
       "      <th>state</th>\n",
       "      <th>paid</th>\n",
       "      <th>unpaid</th>\n",
       "    </tr>\n",
       "  </thead>\n",
       "  <tbody>\n",
       "    <tr>\n",
       "      <th>0</th>\n",
       "      <td>BA</td>\n",
       "      <td>5311</td>\n",
       "      <td>2508</td>\n",
       "    </tr>\n",
       "    <tr>\n",
       "      <th>1</th>\n",
       "      <td>ES</td>\n",
       "      <td>11736</td>\n",
       "      <td>7234</td>\n",
       "    </tr>\n",
       "    <tr>\n",
       "      <th>2</th>\n",
       "      <td>GO</td>\n",
       "      <td>4801</td>\n",
       "      <td>2635</td>\n",
       "    </tr>\n",
       "    <tr>\n",
       "      <th>3</th>\n",
       "      <td>MG</td>\n",
       "      <td>33597</td>\n",
       "      <td>19057</td>\n",
       "    </tr>\n",
       "    <tr>\n",
       "      <th>4</th>\n",
       "      <td>PR</td>\n",
       "      <td>14903</td>\n",
       "      <td>11264</td>\n",
       "    </tr>\n",
       "    <tr>\n",
       "      <th>5</th>\n",
       "      <td>RJ</td>\n",
       "      <td>14503</td>\n",
       "      <td>9824</td>\n",
       "    </tr>\n",
       "    <tr>\n",
       "      <th>6</th>\n",
       "      <td>SC</td>\n",
       "      <td>6170</td>\n",
       "      <td>2403</td>\n",
       "    </tr>\n",
       "    <tr>\n",
       "      <th>7</th>\n",
       "      <td>SP</td>\n",
       "      <td>5766</td>\n",
       "      <td>2757</td>\n",
       "    </tr>\n",
       "  </tbody>\n",
       "</table>\n",
       "</div>"
      ],
      "text/plain": [
       "  state   paid  unpaid\n",
       "0    BA   5311    2508\n",
       "1    ES  11736    7234\n",
       "2    GO   4801    2635\n",
       "3    MG  33597   19057\n",
       "4    PR  14903   11264\n",
       "5    RJ  14503    9824\n",
       "6    SC   6170    2403\n",
       "7    SP   5766    2757"
      ]
     },
     "execution_count": 33,
     "metadata": {},
     "output_type": "execute_result"
    }
   ],
   "source": [
    "df_paid_unpaid_to_state = df_accounts_with_address_levels_charges.groupby(['state']).sum().reset_index()[['state','paid','unpaid']]\n",
    "df_paid_unpaid_to_state"
   ]
  },
  {
   "cell_type": "code",
   "execution_count": 34,
   "id": "c749d8ff-f3ec-44c5-a31e-cd62dbe68115",
   "metadata": {},
   "outputs": [],
   "source": [
    "data_plot = df_paid_unpaid_to_state[['state','unpaid']].sort_values('unpaid',ascending=False)"
   ]
  },
  {
   "cell_type": "code",
   "execution_count": 35,
   "id": "c4c87a76-d383-467c-ba7d-f54cb1a7adae",
   "metadata": {},
   "outputs": [
    {
     "data": {
      "image/png": "[encoded data removed]",
      "text/plain": [
       "<Figure size 2000x900 with 1 Axes>"
      ]
     },
     "metadata": {},
     "output_type": "display_data"
    }
   ],
   "source": [
    "f,ax = plt.subplots(figsize=(20,9))\n",
    "\n",
    "data_plot = df_paid_unpaid_to_state[['state','unpaid']].sort_values('unpaid',ascending=False)\n",
    "\n",
    "ax.bar(data_plot['state'],data_plot['unpaid'])\n",
    "ax.set_xticklabels(data_plot['state'].values,rotation=90,fontsize='15')\n",
    "ax.set_xlabel('Estado',fontsize='17')\n",
    "ax.set_ylabel('Total Boletos não pagos',fontsize='17')\n",
    "ax.set_title('Quantidade de Boletos não pagos por estado',fontsize='20')\n",
    "plt.show()"
   ]
  },
  {
   "cell_type": "code",
   "execution_count": 36,
   "id": "a97c4b54-1205-48d7-8805-a4d7ee86e446",
   "metadata": {},
   "outputs": [
    {
     "data": {
      "image/png": "[encoded data removed]",
      "text/plain": [
       "<Figure size 2000x900 with 1 Axes>"
      ]
     },
     "metadata": {},
     "output_type": "display_data"
    }
   ],
   "source": [
    "f,ax = plt.subplots(figsize=(20,9))\n",
    "\n",
    "data_plot = df_paid_unpaid_to_state[['state','paid']].sort_values('paid',ascending=False)\n",
    "\n",
    "ax.bar(data_plot['state'],data_plot['paid'])\n",
    "ax.set_xticklabels(data_plot['state'].values,rotation=90,fontsize='15')\n",
    "ax.set_xlabel('Estado',fontsize='17')\n",
    "ax.set_ylabel('Total Boletos pagos',fontsize='17')\n",
    "ax.set_title('Quantidade de Boletos pagos por estado',fontsize='20')\n",
    "plt.show()"
   ]
  },
  {
   "cell_type": "markdown",
   "id": "44fa9493-f90a-4356-af7f-11a9fd658b38",
   "metadata": {},
   "source": [
    "- ##### Vizualizando as contas que tem mais boletos não pagos"
   ]
  },
  {
   "cell_type": "code",
   "execution_count": 37,
   "id": "8de1dad5-6621-41a1-b1fb-fc4657b58f82",
   "metadata": {},
   "outputs": [
    {
     "data": {
      "text/html": [
       "<div>\n",
       "<style scoped>\n",
       "    .dataframe tbody tr th:only-of-type {\n",
       "        vertical-align: middle;\n",
       "    }\n",
       "\n",
       "    .dataframe tbody tr th {\n",
       "        vertical-align: top;\n",
       "    }\n",
       "\n",
       "    .dataframe thead th {\n",
       "        text-align: right;\n",
       "    }\n",
       "</style>\n",
       "<table border=\"1\" class=\"dataframe\">\n",
       "  <thead>\n",
       "    <tr style=\"text-align: right;\">\n",
       "      <th></th>\n",
       "      <th>account_number</th>\n",
       "      <th>state</th>\n",
       "      <th>unpaid</th>\n",
       "    </tr>\n",
       "  </thead>\n",
       "  <tbody>\n",
       "    <tr>\n",
       "      <th>153</th>\n",
       "      <td>253345</td>\n",
       "      <td>MG</td>\n",
       "      <td>534</td>\n",
       "    </tr>\n",
       "    <tr>\n",
       "      <th>355</th>\n",
       "      <td>422360</td>\n",
       "      <td>MG</td>\n",
       "      <td>463</td>\n",
       "    </tr>\n",
       "    <tr>\n",
       "      <th>116</th>\n",
       "      <td>221895</td>\n",
       "      <td>MG</td>\n",
       "      <td>437</td>\n",
       "    </tr>\n",
       "    <tr>\n",
       "      <th>220</th>\n",
       "      <td>309054</td>\n",
       "      <td>RJ</td>\n",
       "      <td>385</td>\n",
       "    </tr>\n",
       "    <tr>\n",
       "      <th>275</th>\n",
       "      <td>355091</td>\n",
       "      <td>ES</td>\n",
       "      <td>356</td>\n",
       "    </tr>\n",
       "    <tr>\n",
       "      <th>630</th>\n",
       "      <td>662383</td>\n",
       "      <td>RJ</td>\n",
       "      <td>352</td>\n",
       "    </tr>\n",
       "    <tr>\n",
       "      <th>230</th>\n",
       "      <td>317265</td>\n",
       "      <td>RJ</td>\n",
       "      <td>313</td>\n",
       "    </tr>\n",
       "    <tr>\n",
       "      <th>912</th>\n",
       "      <td>911353</td>\n",
       "      <td>PR</td>\n",
       "      <td>313</td>\n",
       "    </tr>\n",
       "    <tr>\n",
       "      <th>60</th>\n",
       "      <td>164397</td>\n",
       "      <td>MG</td>\n",
       "      <td>305</td>\n",
       "    </tr>\n",
       "    <tr>\n",
       "      <th>746</th>\n",
       "      <td>76284</td>\n",
       "      <td>MG</td>\n",
       "      <td>291</td>\n",
       "    </tr>\n",
       "  </tbody>\n",
       "</table>\n",
       "</div>"
      ],
      "text/plain": [
       "    account_number state  unpaid\n",
       "153         253345    MG     534\n",
       "355         422360    MG     463\n",
       "116         221895    MG     437\n",
       "220         309054    RJ     385\n",
       "275         355091    ES     356\n",
       "630         662383    RJ     352\n",
       "230         317265    RJ     313\n",
       "912         911353    PR     313\n",
       "60          164397    MG     305\n",
       "746          76284    MG     291"
      ]
     },
     "execution_count": 37,
     "metadata": {},
     "output_type": "execute_result"
    }
   ],
   "source": [
    "acc_largest_unpaid = df_accounts_with_address_levels_charges[['account_number','state','unpaid']].groupby(['account_number','state']).sum().reset_index()\n",
    "acc_largest_unpaid.nlargest(10,'unpaid')"
   ]
  },
  {
   "cell_type": "markdown",
   "id": "879dbc23-b0c4-4e4f-aa6b-b87547ec75ac",
   "metadata": {},
   "source": [
    "#### OBS: Vemos que dentre as 10 contas que mais tem boletos não pagos 50% são de MG confirmando o mesmo como estado de maior inadimplencia"
   ]
  },
  {
   "cell_type": "markdown",
   "id": "09ba3f63-f2b4-4c0f-886e-4e0ad4232e31",
   "metadata": {},
   "source": [
    "- ##### Copia de segurança do dataframe"
   ]
  },
  {
   "cell_type": "code",
   "execution_count": 38,
   "id": "8763ee79-0192-4fb9-8fc6-a3496ef9e06f",
   "metadata": {},
   "outputs": [],
   "source": [
    "df = df_accounts_with_address_levels_charges.copy()"
   ]
  },
  {
   "cell_type": "code",
   "execution_count": 39,
   "id": "d6314035-4988-40cb-a1fa-0ca2920a5390",
   "metadata": {},
   "outputs": [],
   "source": [
    "df = df_accounts_with_address_levels_charges.drop(columns=['id_acc','address_id','id_add','id','level','birth','email','created_at_acc'])"
   ]
  },
  {
   "cell_type": "code",
   "execution_count": 40,
   "id": "f24d93b4-000d-470a-bb6e-4f432a0fc125",
   "metadata": {},
   "outputs": [],
   "source": [
    "# Dados com Classificação levels\n",
    "df_train = df.loc[df['target'].notna()]\n",
    "# Dados sem classificação levels\n",
    "df_test = df.loc[df['target'].isna()].drop(columns=['target'])"
   ]
  },
  {
   "cell_type": "code",
   "execution_count": 41,
   "id": "6194eee1-623e-4c00-b856-2ad38be1cfb3",
   "metadata": {},
   "outputs": [
    {
     "name": "stdout",
     "output_type": "stream",
     "text": [
      "<class 'pandas.core.frame.DataFrame'>\n",
      "Int64Index: 926 entries, 0 to 1028\n",
      "Data columns (total 7 columns):\n",
      " #   Column          Non-Null Count  Dtype  \n",
      "---  ------          --------------  -----  \n",
      " 0   account_number  926 non-null    object \n",
      " 1   occupation      926 non-null    object \n",
      " 2   state           926 non-null    object \n",
      " 3   city            926 non-null    object \n",
      " 4   paid            926 non-null    int32  \n",
      " 5   unpaid          926 non-null    int32  \n",
      " 6   target          926 non-null    float64\n",
      "dtypes: float64(1), int32(2), object(4)\n",
      "memory usage: 50.6+ KB\n"
     ]
    }
   ],
   "source": [
    "df_train.info()"
   ]
  },
  {
   "cell_type": "code",
   "execution_count": 42,
   "id": "edb6f813-bcdb-4972-9b6b-7fd3dfe2ad24",
   "metadata": {},
   "outputs": [
    {
     "name": "stdout",
     "output_type": "stream",
     "text": [
      "<class 'pandas.core.frame.DataFrame'>\n",
      "Int64Index: 103 entries, 2 to 1010\n",
      "Data columns (total 6 columns):\n",
      " #   Column          Non-Null Count  Dtype \n",
      "---  ------          --------------  ----- \n",
      " 0   account_number  103 non-null    object\n",
      " 1   occupation      103 non-null    object\n",
      " 2   state           103 non-null    object\n",
      " 3   city            103 non-null    object\n",
      " 4   paid            103 non-null    int32 \n",
      " 5   unpaid          103 non-null    int32 \n",
      "dtypes: int32(2), object(4)\n",
      "memory usage: 4.8+ KB\n"
     ]
    }
   ],
   "source": [
    "df_test.info()"
   ]
  },
  {
   "cell_type": "markdown",
   "id": "5ad089dc-ff2e-4988-884e-ddd6ce545e44",
   "metadata": {},
   "source": [
    "### 3. Desenvolvimento do modelo para classificar as contas em lícitas (0) ou ilícitas (1) utilizando pycaret AutoML com metrica de accuracia e observando a precisão junto com ROC para evitar overfit"
   ]
  },
  {
   "cell_type": "markdown",
   "id": "6e210628-3cb6-488a-b693-01ac71a5fc47",
   "metadata": {},
   "source": [
    "- #### Utilizando AutoML com pycarat, Treinar, testar, ajustar, avaliar e tunar"
   ]
  },
  {
   "cell_type": "code",
   "execution_count": 43,
   "id": "514e5c47-e85c-403a-bc5a-4257cc800309",
   "metadata": {},
   "outputs": [],
   "source": [
    "#!pip install --user PyQt5"
   ]
  },
  {
   "cell_type": "code",
   "execution_count": 44,
   "id": "6b50655d-2aa7-4cba-8882-f31c07a8894c",
   "metadata": {},
   "outputs": [],
   "source": [
    "#!pip install --pre pycaret"
   ]
  },
  {
   "cell_type": "code",
   "execution_count": 45,
   "id": "8026db11-b9c2-445c-8792-e96d94d1f3ec",
   "metadata": {},
   "outputs": [],
   "source": [
    "from pycaret.classification import *"
   ]
  },
  {
   "cell_type": "code",
   "execution_count": 46,
   "id": "eddc0b78-ebef-49ad-8932-2392540e7e81",
   "metadata": {},
   "outputs": [
    {
     "data": {
      "text/html": [
       "<style type=\"text/css\">\n",
       "#T_52558_row9_col1 {\n",
       "  background-color: lightgreen;\n",
       "}\n",
       "</style>\n",
       "<table id=\"T_52558\">\n",
       "  <thead>\n",
       "    <tr>\n",
       "      <th class=\"blank level0\" >&nbsp;</th>\n",
       "      <th id=\"T_52558_level0_col0\" class=\"col_heading level0 col0\" >Description</th>\n",
       "      <th id=\"T_52558_level0_col1\" class=\"col_heading level0 col1\" >Value</th>\n",
       "    </tr>\n",
       "  </thead>\n",
       "  <tbody>\n",
       "    <tr>\n",
       "      <th id=\"T_52558_level0_row0\" class=\"row_heading level0 row0\" >0</th>\n",
       "      <td id=\"T_52558_row0_col0\" class=\"data row0 col0\" >Session id</td>\n",
       "      <td id=\"T_52558_row0_col1\" class=\"data row0 col1\" >3528</td>\n",
       "    </tr>\n",
       "    <tr>\n",
       "      <th id=\"T_52558_level0_row1\" class=\"row_heading level0 row1\" >1</th>\n",
       "      <td id=\"T_52558_row1_col0\" class=\"data row1 col0\" >Target</td>\n",
       "      <td id=\"T_52558_row1_col1\" class=\"data row1 col1\" >target</td>\n",
       "    </tr>\n",
       "    <tr>\n",
       "      <th id=\"T_52558_level0_row2\" class=\"row_heading level0 row2\" >2</th>\n",
       "      <td id=\"T_52558_row2_col0\" class=\"data row2 col0\" >Target type</td>\n",
       "      <td id=\"T_52558_row2_col1\" class=\"data row2 col1\" >Binary</td>\n",
       "    </tr>\n",
       "    <tr>\n",
       "      <th id=\"T_52558_level0_row3\" class=\"row_heading level0 row3\" >3</th>\n",
       "      <td id=\"T_52558_row3_col0\" class=\"data row3 col0\" >Original data shape</td>\n",
       "      <td id=\"T_52558_row3_col1\" class=\"data row3 col1\" >(926, 7)</td>\n",
       "    </tr>\n",
       "    <tr>\n",
       "      <th id=\"T_52558_level0_row4\" class=\"row_heading level0 row4\" >4</th>\n",
       "      <td id=\"T_52558_row4_col0\" class=\"data row4 col0\" >Transformed data shape</td>\n",
       "      <td id=\"T_52558_row4_col1\" class=\"data row4 col1\" >(926, 6)</td>\n",
       "    </tr>\n",
       "    <tr>\n",
       "      <th id=\"T_52558_level0_row5\" class=\"row_heading level0 row5\" >5</th>\n",
       "      <td id=\"T_52558_row5_col0\" class=\"data row5 col0\" >Transformed train set shape</td>\n",
       "      <td id=\"T_52558_row5_col1\" class=\"data row5 col1\" >(648, 6)</td>\n",
       "    </tr>\n",
       "    <tr>\n",
       "      <th id=\"T_52558_level0_row6\" class=\"row_heading level0 row6\" >6</th>\n",
       "      <td id=\"T_52558_row6_col0\" class=\"data row6 col0\" >Transformed test set shape</td>\n",
       "      <td id=\"T_52558_row6_col1\" class=\"data row6 col1\" >(278, 6)</td>\n",
       "    </tr>\n",
       "    <tr>\n",
       "      <th id=\"T_52558_level0_row7\" class=\"row_heading level0 row7\" >7</th>\n",
       "      <td id=\"T_52558_row7_col0\" class=\"data row7 col0\" >Numeric features</td>\n",
       "      <td id=\"T_52558_row7_col1\" class=\"data row7 col1\" >2</td>\n",
       "    </tr>\n",
       "    <tr>\n",
       "      <th id=\"T_52558_level0_row8\" class=\"row_heading level0 row8\" >8</th>\n",
       "      <td id=\"T_52558_row8_col0\" class=\"data row8 col0\" >Categorical features</td>\n",
       "      <td id=\"T_52558_row8_col1\" class=\"data row8 col1\" >4</td>\n",
       "    </tr>\n",
       "    <tr>\n",
       "      <th id=\"T_52558_level0_row9\" class=\"row_heading level0 row9\" >9</th>\n",
       "      <td id=\"T_52558_row9_col0\" class=\"data row9 col0\" >Preprocess</td>\n",
       "      <td id=\"T_52558_row9_col1\" class=\"data row9 col1\" >True</td>\n",
       "    </tr>\n",
       "    <tr>\n",
       "      <th id=\"T_52558_level0_row10\" class=\"row_heading level0 row10\" >10</th>\n",
       "      <td id=\"T_52558_row10_col0\" class=\"data row10 col0\" >Imputation type</td>\n",
       "      <td id=\"T_52558_row10_col1\" class=\"data row10 col1\" >simple</td>\n",
       "    </tr>\n",
       "    <tr>\n",
       "      <th id=\"T_52558_level0_row11\" class=\"row_heading level0 row11\" >11</th>\n",
       "      <td id=\"T_52558_row11_col0\" class=\"data row11 col0\" >Numeric imputation</td>\n",
       "      <td id=\"T_52558_row11_col1\" class=\"data row11 col1\" >mean</td>\n",
       "    </tr>\n",
       "    <tr>\n",
       "      <th id=\"T_52558_level0_row12\" class=\"row_heading level0 row12\" >12</th>\n",
       "      <td id=\"T_52558_row12_col0\" class=\"data row12 col0\" >Categorical imputation</td>\n",
       "      <td id=\"T_52558_row12_col1\" class=\"data row12 col1\" >constant</td>\n",
       "    </tr>\n",
       "    <tr>\n",
       "      <th id=\"T_52558_level0_row13\" class=\"row_heading level0 row13\" >13</th>\n",
       "      <td id=\"T_52558_row13_col0\" class=\"data row13 col0\" >Maximum one-hot encoding</td>\n",
       "      <td id=\"T_52558_row13_col1\" class=\"data row13 col1\" >5</td>\n",
       "    </tr>\n",
       "    <tr>\n",
       "      <th id=\"T_52558_level0_row14\" class=\"row_heading level0 row14\" >14</th>\n",
       "      <td id=\"T_52558_row14_col0\" class=\"data row14 col0\" >Encoding method</td>\n",
       "      <td id=\"T_52558_row14_col1\" class=\"data row14 col1\" >None</td>\n",
       "    </tr>\n",
       "    <tr>\n",
       "      <th id=\"T_52558_level0_row15\" class=\"row_heading level0 row15\" >15</th>\n",
       "      <td id=\"T_52558_row15_col0\" class=\"data row15 col0\" >Low variance threshold</td>\n",
       "      <td id=\"T_52558_row15_col1\" class=\"data row15 col1\" >0</td>\n",
       "    </tr>\n",
       "    <tr>\n",
       "      <th id=\"T_52558_level0_row16\" class=\"row_heading level0 row16\" >16</th>\n",
       "      <td id=\"T_52558_row16_col0\" class=\"data row16 col0\" >Fold Generator</td>\n",
       "      <td id=\"T_52558_row16_col1\" class=\"data row16 col1\" >StratifiedKFold</td>\n",
       "    </tr>\n",
       "    <tr>\n",
       "      <th id=\"T_52558_level0_row17\" class=\"row_heading level0 row17\" >17</th>\n",
       "      <td id=\"T_52558_row17_col0\" class=\"data row17 col0\" >Fold Number</td>\n",
       "      <td id=\"T_52558_row17_col1\" class=\"data row17 col1\" >10</td>\n",
       "    </tr>\n",
       "    <tr>\n",
       "      <th id=\"T_52558_level0_row18\" class=\"row_heading level0 row18\" >18</th>\n",
       "      <td id=\"T_52558_row18_col0\" class=\"data row18 col0\" >CPU Jobs</td>\n",
       "      <td id=\"T_52558_row18_col1\" class=\"data row18 col1\" >-1</td>\n",
       "    </tr>\n",
       "    <tr>\n",
       "      <th id=\"T_52558_level0_row19\" class=\"row_heading level0 row19\" >19</th>\n",
       "      <td id=\"T_52558_row19_col0\" class=\"data row19 col0\" >Use GPU</td>\n",
       "      <td id=\"T_52558_row19_col1\" class=\"data row19 col1\" >False</td>\n",
       "    </tr>\n",
       "    <tr>\n",
       "      <th id=\"T_52558_level0_row20\" class=\"row_heading level0 row20\" >20</th>\n",
       "      <td id=\"T_52558_row20_col0\" class=\"data row20 col0\" >Log Experiment</td>\n",
       "      <td id=\"T_52558_row20_col1\" class=\"data row20 col1\" >False</td>\n",
       "    </tr>\n",
       "    <tr>\n",
       "      <th id=\"T_52558_level0_row21\" class=\"row_heading level0 row21\" >21</th>\n",
       "      <td id=\"T_52558_row21_col0\" class=\"data row21 col0\" >Experiment Name</td>\n",
       "      <td id=\"T_52558_row21_col1\" class=\"data row21 col1\" >clf-default-name</td>\n",
       "    </tr>\n",
       "    <tr>\n",
       "      <th id=\"T_52558_level0_row22\" class=\"row_heading level0 row22\" >22</th>\n",
       "      <td id=\"T_52558_row22_col0\" class=\"data row22 col0\" >USI</td>\n",
       "      <td id=\"T_52558_row22_col1\" class=\"data row22 col1\" >3aa6</td>\n",
       "    </tr>\n",
       "  </tbody>\n",
       "</table>\n"
      ],
      "text/plain": [
       "<pandas.io.formats.style.Styler at 0x1bb4a66f730>"
      ]
     },
     "metadata": {},
     "output_type": "display_data"
    }
   ],
   "source": [
    "s = setup(data = df_train, target = 'target')"
   ]
  },
  {
   "cell_type": "code",
   "execution_count": 47,
   "id": "1801c8c6-c16a-4e3e-a342-bea2e7fd0612",
   "metadata": {},
   "outputs": [
    {
     "data": {
      "text/html": [],
      "text/plain": [
       "<IPython.core.display.HTML object>"
      ]
     },
     "metadata": {},
     "output_type": "display_data"
    },
    {
     "data": {
      "text/html": [
       "<style type=\"text/css\">\n",
       "#T_bff41 th {\n",
       "  text-align: left;\n",
       "}\n",
       "#T_bff41_row0_col0, #T_bff41_row0_col2, #T_bff41_row0_col3, #T_bff41_row0_col4, #T_bff41_row0_col5, #T_bff41_row0_col6, #T_bff41_row0_col7, #T_bff41_row1_col0, #T_bff41_row1_col1, #T_bff41_row1_col2, #T_bff41_row1_col4, #T_bff41_row2_col0, #T_bff41_row2_col1, #T_bff41_row2_col2, #T_bff41_row2_col3, #T_bff41_row2_col4, #T_bff41_row2_col5, #T_bff41_row2_col6, #T_bff41_row2_col7, #T_bff41_row3_col0, #T_bff41_row3_col1, #T_bff41_row3_col3, #T_bff41_row3_col4, #T_bff41_row3_col5, #T_bff41_row3_col6, #T_bff41_row3_col7, #T_bff41_row4_col0, #T_bff41_row4_col1, #T_bff41_row4_col2, #T_bff41_row4_col3, #T_bff41_row4_col4, #T_bff41_row4_col5, #T_bff41_row4_col6, #T_bff41_row4_col7, #T_bff41_row5_col0, #T_bff41_row5_col1, #T_bff41_row5_col2, #T_bff41_row5_col3, #T_bff41_row5_col5, #T_bff41_row5_col6, #T_bff41_row5_col7, #T_bff41_row6_col0, #T_bff41_row6_col1, #T_bff41_row6_col2, #T_bff41_row6_col3, #T_bff41_row6_col4, #T_bff41_row6_col5, #T_bff41_row6_col6, #T_bff41_row6_col7, #T_bff41_row7_col0, #T_bff41_row7_col1, #T_bff41_row7_col2, #T_bff41_row7_col3, #T_bff41_row7_col4, #T_bff41_row7_col5, #T_bff41_row7_col6, #T_bff41_row7_col7, #T_bff41_row8_col0, #T_bff41_row8_col1, #T_bff41_row8_col2, #T_bff41_row8_col3, #T_bff41_row8_col4, #T_bff41_row8_col5, #T_bff41_row8_col6, #T_bff41_row8_col7, #T_bff41_row9_col0, #T_bff41_row9_col1, #T_bff41_row9_col2, #T_bff41_row9_col3, #T_bff41_row9_col4, #T_bff41_row9_col5, #T_bff41_row9_col6, #T_bff41_row9_col7, #T_bff41_row10_col0, #T_bff41_row10_col1, #T_bff41_row10_col2, #T_bff41_row10_col3, #T_bff41_row10_col4, #T_bff41_row10_col5, #T_bff41_row10_col6, #T_bff41_row10_col7, #T_bff41_row11_col0, #T_bff41_row11_col1, #T_bff41_row11_col2, #T_bff41_row11_col3, #T_bff41_row11_col4, #T_bff41_row11_col5, #T_bff41_row11_col6, #T_bff41_row11_col7, #T_bff41_row12_col0, #T_bff41_row12_col1, #T_bff41_row12_col2, #T_bff41_row12_col3, #T_bff41_row12_col4, #T_bff41_row12_col5, #T_bff41_row12_col6, #T_bff41_row12_col7, #T_bff41_row13_col0, #T_bff41_row13_col1, #T_bff41_row13_col2, #T_bff41_row13_col3, #T_bff41_row13_col4, #T_bff41_row13_col5, #T_bff41_row13_col6, #T_bff41_row13_col7 {\n",
       "  text-align: left;\n",
       "}\n",
       "#T_bff41_row0_col1, #T_bff41_row1_col3, #T_bff41_row1_col5, #T_bff41_row1_col6, #T_bff41_row1_col7, #T_bff41_row3_col2, #T_bff41_row5_col4 {\n",
       "  text-align: left;\n",
       "  background-color: yellow;\n",
       "}\n",
       "#T_bff41_row0_col8, #T_bff41_row1_col8, #T_bff41_row2_col8, #T_bff41_row3_col8, #T_bff41_row4_col8, #T_bff41_row5_col8, #T_bff41_row6_col8, #T_bff41_row8_col8, #T_bff41_row9_col8, #T_bff41_row10_col8, #T_bff41_row11_col8, #T_bff41_row12_col8, #T_bff41_row13_col8 {\n",
       "  text-align: left;\n",
       "  background-color: lightgrey;\n",
       "}\n",
       "#T_bff41_row7_col8 {\n",
       "  text-align: left;\n",
       "  background-color: yellow;\n",
       "  background-color: lightgrey;\n",
       "}\n",
       "</style>\n",
       "<table id=\"T_bff41\">\n",
       "  <thead>\n",
       "    <tr>\n",
       "      <th class=\"blank level0\" >&nbsp;</th>\n",
       "      <th id=\"T_bff41_level0_col0\" class=\"col_heading level0 col0\" >Model</th>\n",
       "      <th id=\"T_bff41_level0_col1\" class=\"col_heading level0 col1\" >Accuracy</th>\n",
       "      <th id=\"T_bff41_level0_col2\" class=\"col_heading level0 col2\" >AUC</th>\n",
       "      <th id=\"T_bff41_level0_col3\" class=\"col_heading level0 col3\" >Recall</th>\n",
       "      <th id=\"T_bff41_level0_col4\" class=\"col_heading level0 col4\" >Prec.</th>\n",
       "      <th id=\"T_bff41_level0_col5\" class=\"col_heading level0 col5\" >F1</th>\n",
       "      <th id=\"T_bff41_level0_col6\" class=\"col_heading level0 col6\" >Kappa</th>\n",
       "      <th id=\"T_bff41_level0_col7\" class=\"col_heading level0 col7\" >MCC</th>\n",
       "      <th id=\"T_bff41_level0_col8\" class=\"col_heading level0 col8\" >TT (Sec)</th>\n",
       "    </tr>\n",
       "  </thead>\n",
       "  <tbody>\n",
       "    <tr>\n",
       "      <th id=\"T_bff41_level0_row0\" class=\"row_heading level0 row0\" >rf</th>\n",
       "      <td id=\"T_bff41_row0_col0\" class=\"data row0 col0\" >Random Forest Classifier</td>\n",
       "      <td id=\"T_bff41_row0_col1\" class=\"data row0 col1\" >0.9042</td>\n",
       "      <td id=\"T_bff41_row0_col2\" class=\"data row0 col2\" >0.9477</td>\n",
       "      <td id=\"T_bff41_row0_col3\" class=\"data row0 col3\" >0.7357</td>\n",
       "      <td id=\"T_bff41_row0_col4\" class=\"data row0 col4\" >0.8328</td>\n",
       "      <td id=\"T_bff41_row0_col5\" class=\"data row0 col5\" >0.7763</td>\n",
       "      <td id=\"T_bff41_row0_col6\" class=\"data row0 col6\" >0.7160</td>\n",
       "      <td id=\"T_bff41_row0_col7\" class=\"data row0 col7\" >0.7216</td>\n",
       "      <td id=\"T_bff41_row0_col8\" class=\"data row0 col8\" >0.0950</td>\n",
       "    </tr>\n",
       "    <tr>\n",
       "      <th id=\"T_bff41_level0_row1\" class=\"row_heading level0 row1\" >nb</th>\n",
       "      <td id=\"T_bff41_row1_col0\" class=\"data row1 col0\" >Naive Bayes</td>\n",
       "      <td id=\"T_bff41_row1_col1\" class=\"data row1 col1\" >0.9028</td>\n",
       "      <td id=\"T_bff41_row1_col2\" class=\"data row1 col2\" >0.9479</td>\n",
       "      <td id=\"T_bff41_row1_col3\" class=\"data row1 col3\" >0.8267</td>\n",
       "      <td id=\"T_bff41_row1_col4\" class=\"data row1 col4\" >0.7644</td>\n",
       "      <td id=\"T_bff41_row1_col5\" class=\"data row1 col5\" >0.7894</td>\n",
       "      <td id=\"T_bff41_row1_col6\" class=\"data row1 col6\" >0.7268</td>\n",
       "      <td id=\"T_bff41_row1_col7\" class=\"data row1 col7\" >0.7315</td>\n",
       "      <td id=\"T_bff41_row1_col8\" class=\"data row1 col8\" >0.0420</td>\n",
       "    </tr>\n",
       "    <tr>\n",
       "      <th id=\"T_bff41_level0_row2\" class=\"row_heading level0 row2\" >qda</th>\n",
       "      <td id=\"T_bff41_row2_col0\" class=\"data row2 col0\" >Quadratic Discriminant Analysis</td>\n",
       "      <td id=\"T_bff41_row2_col1\" class=\"data row2 col1\" >0.8981</td>\n",
       "      <td id=\"T_bff41_row2_col2\" class=\"data row2 col2\" >0.9473</td>\n",
       "      <td id=\"T_bff41_row2_col3\" class=\"data row2 col3\" >0.7914</td>\n",
       "      <td id=\"T_bff41_row2_col4\" class=\"data row2 col4\" >0.7619</td>\n",
       "      <td id=\"T_bff41_row2_col5\" class=\"data row2 col5\" >0.7730</td>\n",
       "      <td id=\"T_bff41_row2_col6\" class=\"data row2 col6\" >0.7076</td>\n",
       "      <td id=\"T_bff41_row2_col7\" class=\"data row2 col7\" >0.7104</td>\n",
       "      <td id=\"T_bff41_row2_col8\" class=\"data row2 col8\" >0.0410</td>\n",
       "    </tr>\n",
       "    <tr>\n",
       "      <th id=\"T_bff41_level0_row3\" class=\"row_heading level0 row3\" >lr</th>\n",
       "      <td id=\"T_bff41_row3_col0\" class=\"data row3 col0\" >Logistic Regression</td>\n",
       "      <td id=\"T_bff41_row3_col1\" class=\"data row3 col1\" >0.8904</td>\n",
       "      <td id=\"T_bff41_row3_col2\" class=\"data row3 col2\" >0.9494</td>\n",
       "      <td id=\"T_bff41_row3_col3\" class=\"data row3 col3\" >0.6648</td>\n",
       "      <td id=\"T_bff41_row3_col4\" class=\"data row3 col4\" >0.8251</td>\n",
       "      <td id=\"T_bff41_row3_col5\" class=\"data row3 col5\" >0.7248</td>\n",
       "      <td id=\"T_bff41_row3_col6\" class=\"data row3 col6\" >0.6584</td>\n",
       "      <td id=\"T_bff41_row3_col7\" class=\"data row3 col7\" >0.6714</td>\n",
       "      <td id=\"T_bff41_row3_col8\" class=\"data row3 col8\" >0.9400</td>\n",
       "    </tr>\n",
       "    <tr>\n",
       "      <th id=\"T_bff41_level0_row4\" class=\"row_heading level0 row4\" >knn</th>\n",
       "      <td id=\"T_bff41_row4_col0\" class=\"data row4 col0\" >K Neighbors Classifier</td>\n",
       "      <td id=\"T_bff41_row4_col1\" class=\"data row4 col1\" >0.8874</td>\n",
       "      <td id=\"T_bff41_row4_col2\" class=\"data row4 col2\" >0.9065</td>\n",
       "      <td id=\"T_bff41_row4_col3\" class=\"data row4 col3\" >0.6786</td>\n",
       "      <td id=\"T_bff41_row4_col4\" class=\"data row4 col4\" >0.7969</td>\n",
       "      <td id=\"T_bff41_row4_col5\" class=\"data row4 col5\" >0.7279</td>\n",
       "      <td id=\"T_bff41_row4_col6\" class=\"data row4 col6\" >0.6576</td>\n",
       "      <td id=\"T_bff41_row4_col7\" class=\"data row4 col7\" >0.6646</td>\n",
       "      <td id=\"T_bff41_row4_col8\" class=\"data row4 col8\" >0.0540</td>\n",
       "    </tr>\n",
       "    <tr>\n",
       "      <th id=\"T_bff41_level0_row5\" class=\"row_heading level0 row5\" >et</th>\n",
       "      <td id=\"T_bff41_row5_col0\" class=\"data row5 col0\" >Extra Trees Classifier</td>\n",
       "      <td id=\"T_bff41_row5_col1\" class=\"data row5 col1\" >0.8781</td>\n",
       "      <td id=\"T_bff41_row5_col2\" class=\"data row5 col2\" >0.9291</td>\n",
       "      <td id=\"T_bff41_row5_col3\" class=\"data row5 col3\" >0.5319</td>\n",
       "      <td id=\"T_bff41_row5_col4\" class=\"data row5 col4\" >0.8706</td>\n",
       "      <td id=\"T_bff41_row5_col5\" class=\"data row5 col5\" >0.6582</td>\n",
       "      <td id=\"T_bff41_row5_col6\" class=\"data row5 col6\" >0.5894</td>\n",
       "      <td id=\"T_bff41_row5_col7\" class=\"data row5 col7\" >0.6170</td>\n",
       "      <td id=\"T_bff41_row5_col8\" class=\"data row5 col8\" >0.0890</td>\n",
       "    </tr>\n",
       "    <tr>\n",
       "      <th id=\"T_bff41_level0_row6\" class=\"row_heading level0 row6\" >lda</th>\n",
       "      <td id=\"T_bff41_row6_col0\" class=\"data row6 col0\" >Linear Discriminant Analysis</td>\n",
       "      <td id=\"T_bff41_row6_col1\" class=\"data row6 col1\" >0.8689</td>\n",
       "      <td id=\"T_bff41_row6_col2\" class=\"data row6 col2\" >0.9230</td>\n",
       "      <td id=\"T_bff41_row6_col3\" class=\"data row6 col3\" >0.6167</td>\n",
       "      <td id=\"T_bff41_row6_col4\" class=\"data row6 col4\" >0.7537</td>\n",
       "      <td id=\"T_bff41_row6_col5\" class=\"data row6 col5\" >0.6750</td>\n",
       "      <td id=\"T_bff41_row6_col6\" class=\"data row6 col6\" >0.5943</td>\n",
       "      <td id=\"T_bff41_row6_col7\" class=\"data row6 col7\" >0.6010</td>\n",
       "      <td id=\"T_bff41_row6_col8\" class=\"data row6 col8\" >0.0410</td>\n",
       "    </tr>\n",
       "    <tr>\n",
       "      <th id=\"T_bff41_level0_row7\" class=\"row_heading level0 row7\" >ridge</th>\n",
       "      <td id=\"T_bff41_row7_col0\" class=\"data row7 col0\" >Ridge Classifier</td>\n",
       "      <td id=\"T_bff41_row7_col1\" class=\"data row7 col1\" >0.8688</td>\n",
       "      <td id=\"T_bff41_row7_col2\" class=\"data row7 col2\" >0.0000</td>\n",
       "      <td id=\"T_bff41_row7_col3\" class=\"data row7 col3\" >0.5810</td>\n",
       "      <td id=\"T_bff41_row7_col4\" class=\"data row7 col4\" >0.7857</td>\n",
       "      <td id=\"T_bff41_row7_col5\" class=\"data row7 col5\" >0.6626</td>\n",
       "      <td id=\"T_bff41_row7_col6\" class=\"data row7 col6\" >0.5837</td>\n",
       "      <td id=\"T_bff41_row7_col7\" class=\"data row7 col7\" >0.5971</td>\n",
       "      <td id=\"T_bff41_row7_col8\" class=\"data row7 col8\" >0.0290</td>\n",
       "    </tr>\n",
       "    <tr>\n",
       "      <th id=\"T_bff41_level0_row8\" class=\"row_heading level0 row8\" >dt</th>\n",
       "      <td id=\"T_bff41_row8_col0\" class=\"data row8 col0\" >Decision Tree Classifier</td>\n",
       "      <td id=\"T_bff41_row8_col1\" class=\"data row8 col1\" >0.8578</td>\n",
       "      <td id=\"T_bff41_row8_col2\" class=\"data row8 col2\" >0.8082</td>\n",
       "      <td id=\"T_bff41_row8_col3\" class=\"data row8 col3\" >0.7195</td>\n",
       "      <td id=\"T_bff41_row8_col4\" class=\"data row8 col4\" >0.6905</td>\n",
       "      <td id=\"T_bff41_row8_col5\" class=\"data row8 col5\" >0.6968</td>\n",
       "      <td id=\"T_bff41_row8_col6\" class=\"data row8 col6\" >0.6063</td>\n",
       "      <td id=\"T_bff41_row8_col7\" class=\"data row8 col7\" >0.6117</td>\n",
       "      <td id=\"T_bff41_row8_col8\" class=\"data row8 col8\" >0.0390</td>\n",
       "    </tr>\n",
       "    <tr>\n",
       "      <th id=\"T_bff41_level0_row9\" class=\"row_heading level0 row9\" >lightgbm</th>\n",
       "      <td id=\"T_bff41_row9_col0\" class=\"data row9 col0\" >Light Gradient Boosting Machine</td>\n",
       "      <td id=\"T_bff41_row9_col1\" class=\"data row9 col1\" >0.8100</td>\n",
       "      <td id=\"T_bff41_row9_col2\" class=\"data row9 col2\" >0.9125</td>\n",
       "      <td id=\"T_bff41_row9_col3\" class=\"data row9 col3\" >0.4490</td>\n",
       "      <td id=\"T_bff41_row9_col4\" class=\"data row9 col4\" >0.6193</td>\n",
       "      <td id=\"T_bff41_row9_col5\" class=\"data row9 col5\" >0.5166</td>\n",
       "      <td id=\"T_bff41_row9_col6\" class=\"data row9 col6\" >0.4020</td>\n",
       "      <td id=\"T_bff41_row9_col7\" class=\"data row9 col7\" >0.4126</td>\n",
       "      <td id=\"T_bff41_row9_col8\" class=\"data row9 col8\" >0.2230</td>\n",
       "    </tr>\n",
       "    <tr>\n",
       "      <th id=\"T_bff41_level0_row10\" class=\"row_heading level0 row10\" >ada</th>\n",
       "      <td id=\"T_bff41_row10_col0\" class=\"data row10 col0\" >Ada Boost Classifier</td>\n",
       "      <td id=\"T_bff41_row10_col1\" class=\"data row10 col1\" >0.7962</td>\n",
       "      <td id=\"T_bff41_row10_col2\" class=\"data row10 col2\" >0.8878</td>\n",
       "      <td id=\"T_bff41_row10_col3\" class=\"data row10 col3\" >0.5490</td>\n",
       "      <td id=\"T_bff41_row10_col4\" class=\"data row10 col4\" >0.5461</td>\n",
       "      <td id=\"T_bff41_row10_col5\" class=\"data row10 col5\" >0.5440</td>\n",
       "      <td id=\"T_bff41_row10_col6\" class=\"data row10 col6\" >0.4138</td>\n",
       "      <td id=\"T_bff41_row10_col7\" class=\"data row10 col7\" >0.4159</td>\n",
       "      <td id=\"T_bff41_row10_col8\" class=\"data row10 col8\" >0.0670</td>\n",
       "    </tr>\n",
       "    <tr>\n",
       "      <th id=\"T_bff41_level0_row11\" class=\"row_heading level0 row11\" >dummy</th>\n",
       "      <td id=\"T_bff41_row11_col0\" class=\"data row11 col0\" >Dummy Classifier</td>\n",
       "      <td id=\"T_bff41_row11_col1\" class=\"data row11 col1\" >0.7793</td>\n",
       "      <td id=\"T_bff41_row11_col2\" class=\"data row11 col2\" >0.5000</td>\n",
       "      <td id=\"T_bff41_row11_col3\" class=\"data row11 col3\" >0.0000</td>\n",
       "      <td id=\"T_bff41_row11_col4\" class=\"data row11 col4\" >0.0000</td>\n",
       "      <td id=\"T_bff41_row11_col5\" class=\"data row11 col5\" >0.0000</td>\n",
       "      <td id=\"T_bff41_row11_col6\" class=\"data row11 col6\" >0.0000</td>\n",
       "      <td id=\"T_bff41_row11_col7\" class=\"data row11 col7\" >0.0000</td>\n",
       "      <td id=\"T_bff41_row11_col8\" class=\"data row11 col8\" >0.0460</td>\n",
       "    </tr>\n",
       "    <tr>\n",
       "      <th id=\"T_bff41_level0_row12\" class=\"row_heading level0 row12\" >svm</th>\n",
       "      <td id=\"T_bff41_row12_col0\" class=\"data row12 col0\" >SVM - Linear Kernel</td>\n",
       "      <td id=\"T_bff41_row12_col1\" class=\"data row12 col1\" >0.7747</td>\n",
       "      <td id=\"T_bff41_row12_col2\" class=\"data row12 col2\" >0.0000</td>\n",
       "      <td id=\"T_bff41_row12_col3\" class=\"data row12 col3\" >0.3286</td>\n",
       "      <td id=\"T_bff41_row12_col4\" class=\"data row12 col4\" >0.4487</td>\n",
       "      <td id=\"T_bff41_row12_col5\" class=\"data row12 col5\" >0.3697</td>\n",
       "      <td id=\"T_bff41_row12_col6\" class=\"data row12 col6\" >0.2452</td>\n",
       "      <td id=\"T_bff41_row12_col7\" class=\"data row12 col7\" >0.2505</td>\n",
       "      <td id=\"T_bff41_row12_col8\" class=\"data row12 col8\" >0.0300</td>\n",
       "    </tr>\n",
       "    <tr>\n",
       "      <th id=\"T_bff41_level0_row13\" class=\"row_heading level0 row13\" >gbc</th>\n",
       "      <td id=\"T_bff41_row13_col0\" class=\"data row13 col0\" >Gradient Boosting Classifier</td>\n",
       "      <td id=\"T_bff41_row13_col1\" class=\"data row13 col1\" >0.7714</td>\n",
       "      <td id=\"T_bff41_row13_col2\" class=\"data row13 col2\" >0.8677</td>\n",
       "      <td id=\"T_bff41_row13_col3\" class=\"data row13 col3\" >0.4919</td>\n",
       "      <td id=\"T_bff41_row13_col4\" class=\"data row13 col4\" >0.5154</td>\n",
       "      <td id=\"T_bff41_row13_col5\" class=\"data row13 col5\" >0.4995</td>\n",
       "      <td id=\"T_bff41_row13_col6\" class=\"data row13 col6\" >0.3541</td>\n",
       "      <td id=\"T_bff41_row13_col7\" class=\"data row13 col7\" >0.3549</td>\n",
       "      <td id=\"T_bff41_row13_col8\" class=\"data row13 col8\" >0.0650</td>\n",
       "    </tr>\n",
       "  </tbody>\n",
       "</table>\n"
      ],
      "text/plain": [
       "<pandas.io.formats.style.Styler at 0x1bb2f9340a0>"
      ]
     },
     "metadata": {},
     "output_type": "display_data"
    },
    {
     "data": {
      "application/vnd.jupyter.widget-view+json": {
       "model_id": "",
       "version_major": 2,
       "version_minor": 0
      },
      "text/plain": [
       "Processing:   0%|          | 0/61 [00:00<?, ?it/s]"
      ]
     },
     "metadata": {},
     "output_type": "display_data"
    }
   ],
   "source": [
    "best = compare_models(sort='Accuracy')"
   ]
  },
  {
   "cell_type": "code",
   "execution_count": 48,
   "id": "864b8451-97d9-464d-9ce8-dcb26b67e8a6",
   "metadata": {},
   "outputs": [
    {
     "data": {
      "text/html": [
       "<style>#sk-container-id-1 {color: black;background-color: white;}#sk-container-id-1 pre{padding: 0;}#sk-container-id-1 div.sk-toggleable {background-color: white;}#sk-container-id-1 label.sk-toggleable__label {cursor: pointer;display: block;width: 100%;margin-bottom: 0;padding: 0.3em;box-sizing: border-box;text-align: center;}#sk-container-id-1 label.sk-toggleable__label-arrow:before {content: \"▸\";float: left;margin-right: 0.25em;color: #696969;}#sk-container-id-1 label.sk-toggleable__label-arrow:hover:before {color: black;}#sk-container-id-1 div.sk-estimator:hover label.sk-toggleable__label-arrow:before {color: black;}#sk-container-id-1 div.sk-toggleable__content {max-height: 0;max-width: 0;overflow: hidden;text-align: left;background-color: #f0f8ff;}#sk-container-id-1 div.sk-toggleable__content pre {margin: 0.2em;color: black;border-radius: 0.25em;background-color: #f0f8ff;}#sk-container-id-1 input.sk-toggleable__control:checked~div.sk-toggleable__content {max-height: 200px;max-width: 100%;overflow: auto;}#sk-container-id-1 input.sk-toggleable__control:checked~label.sk-toggleable__label-arrow:before {content: \"▾\";}#sk-container-id-1 div.sk-estimator input.sk-toggleable__control:checked~label.sk-toggleable__label {background-color: #d4ebff;}#sk-container-id-1 div.sk-label input.sk-toggleable__control:checked~label.sk-toggleable__label {background-color: #d4ebff;}#sk-container-id-1 input.sk-hidden--visually {border: 0;clip: rect(1px 1px 1px 1px);clip: rect(1px, 1px, 1px, 1px);height: 1px;margin: -1px;overflow: hidden;padding: 0;position: absolute;width: 1px;}#sk-container-id-1 div.sk-estimator {font-family: monospace;background-color: #f0f8ff;border: 1px dotted black;border-radius: 0.25em;box-sizing: border-box;margin-bottom: 0.5em;}#sk-container-id-1 div.sk-estimator:hover {background-color: #d4ebff;}#sk-container-id-1 div.sk-parallel-item::after {content: \"\";width: 100%;border-bottom: 1px solid gray;flex-grow: 1;}#sk-container-id-1 div.sk-label:hover label.sk-toggleable__label {background-color: #d4ebff;}#sk-container-id-1 div.sk-serial::before {content: \"\";position: absolute;border-left: 1px solid gray;box-sizing: border-box;top: 0;bottom: 0;left: 50%;z-index: 0;}#sk-container-id-1 div.sk-serial {display: flex;flex-direction: column;align-items: center;background-color: white;padding-right: 0.2em;padding-left: 0.2em;position: relative;}#sk-container-id-1 div.sk-item {position: relative;z-index: 1;}#sk-container-id-1 div.sk-parallel {display: flex;align-items: stretch;justify-content: center;background-color: white;position: relative;}#sk-container-id-1 div.sk-item::before, #sk-container-id-1 div.sk-parallel-item::before {content: \"\";position: absolute;border-left: 1px solid gray;box-sizing: border-box;top: 0;bottom: 0;left: 50%;z-index: -1;}#sk-container-id-1 div.sk-parallel-item {display: flex;flex-direction: column;z-index: 1;position: relative;background-color: white;}#sk-container-id-1 div.sk-parallel-item:first-child::after {align-self: flex-end;width: 50%;}#sk-container-id-1 div.sk-parallel-item:last-child::after {align-self: flex-start;width: 50%;}#sk-container-id-1 div.sk-parallel-item:only-child::after {width: 0;}#sk-container-id-1 div.sk-dashed-wrapped {border: 1px dashed gray;margin: 0 0.4em 0.5em 0.4em;box-sizing: border-box;padding-bottom: 0.4em;background-color: white;}#sk-container-id-1 div.sk-label label {font-family: monospace;font-weight: bold;display: inline-block;line-height: 1.2em;}#sk-container-id-1 div.sk-label-container {text-align: center;}#sk-container-id-1 div.sk-container {/* jupyter's `normalize.less` sets `[hidden] { display: none; }` but bootstrap.min.css set `[hidden] { display: none !important; }` so we also need the `!important` here to be able to override the default hidden behavior on the sphinx rendered scikit-learn.org. See: https://github.com/scikit-learn/scikit-learn/issues/21755 */display: inline-block !important;position: relative;}#sk-container-id-1 div.sk-text-repr-fallback {display: none;}</style><div id=\"sk-container-id-1\" class=\"sk-top-container\"><div class=\"sk-text-repr-fallback\"><pre>RandomForestClassifier(bootstrap=True, ccp_alpha=0.0, class_weight=None,\n",
       "                       criterion=&#x27;gini&#x27;, max_depth=None, max_features=&#x27;sqrt&#x27;,\n",
       "                       max_leaf_nodes=None, max_samples=None,\n",
       "                       min_impurity_decrease=0.0, min_samples_leaf=1,\n",
       "                       min_samples_split=2, min_weight_fraction_leaf=0.0,\n",
       "                       n_estimators=100, n_jobs=-1, oob_score=False,\n",
       "                       random_state=3528, verbose=0, warm_start=False)</pre><b>In a Jupyter environment, please rerun this cell to show the HTML representation or trust the notebook. <br />On GitHub, the HTML representation is unable to render, please try loading this page with nbviewer.org.</b></div><div class=\"sk-container\" hidden><div class=\"sk-item\"><div class=\"sk-estimator sk-toggleable\"><input class=\"sk-toggleable__control sk-hidden--visually\" id=\"sk-estimator-id-1\" type=\"checkbox\" checked><label for=\"sk-estimator-id-1\" class=\"sk-toggleable__label sk-toggleable__label-arrow\">RandomForestClassifier</label><div class=\"sk-toggleable__content\"><pre>RandomForestClassifier(bootstrap=True, ccp_alpha=0.0, class_weight=None,\n",
       "                       criterion=&#x27;gini&#x27;, max_depth=None, max_features=&#x27;sqrt&#x27;,\n",
       "                       max_leaf_nodes=None, max_samples=None,\n",
       "                       min_impurity_decrease=0.0, min_samples_leaf=1,\n",
       "                       min_samples_split=2, min_weight_fraction_leaf=0.0,\n",
       "                       n_estimators=100, n_jobs=-1, oob_score=False,\n",
       "                       random_state=3528, verbose=0, warm_start=False)</pre></div></div></div></div></div>"
      ],
      "text/plain": [
       "RandomForestClassifier(bootstrap=True, ccp_alpha=0.0, class_weight=None,\n",
       "                       criterion='gini', max_depth=None, max_features='sqrt',\n",
       "                       max_leaf_nodes=None, max_samples=None,\n",
       "                       min_impurity_decrease=0.0, min_samples_leaf=1,\n",
       "                       min_samples_split=2, min_weight_fraction_leaf=0.0,\n",
       "                       n_estimators=100, n_jobs=-1, oob_score=False,\n",
       "                       random_state=3528, verbose=0, warm_start=False)"
      ]
     },
     "execution_count": 48,
     "metadata": {},
     "output_type": "execute_result"
    }
   ],
   "source": [
    "best"
   ]
  },
  {
   "cell_type": "code",
   "execution_count": 49,
   "id": "f4614ca7-16d2-495d-a418-dd30fe11365c",
   "metadata": {},
   "outputs": [
    {
     "data": {
      "text/html": [],
      "text/plain": [
       "<IPython.core.display.HTML object>"
      ]
     },
     "metadata": {},
     "output_type": "display_data"
    },
    {
     "data": {
      "image/png": "[encoded data removed]",
      "text/plain": [
       "<Figure size 800x550 with 1 Axes>"
      ]
     },
     "metadata": {},
     "output_type": "display_data"
    }
   ],
   "source": [
    "plot_model(best)"
   ]
  },
  {
   "cell_type": "code",
   "execution_count": 50,
   "id": "afd42020-a615-4d4d-8305-3831c75ec6f0",
   "metadata": {},
   "outputs": [],
   "source": [
    "from pycaret.classification import ClassificationExperiment\n",
    "exp1 = ClassificationExperiment()"
   ]
  },
  {
   "cell_type": "code",
   "execution_count": 51,
   "id": "2f8ba9de-6eb9-411a-9260-84ea0b477e0c",
   "metadata": {},
   "outputs": [
    {
     "data": {
      "text/html": [
       "<style type=\"text/css\">\n",
       "#T_19236_row9_col1 {\n",
       "  background-color: lightgreen;\n",
       "}\n",
       "</style>\n",
       "<table id=\"T_19236\">\n",
       "  <thead>\n",
       "    <tr>\n",
       "      <th class=\"blank level0\" >&nbsp;</th>\n",
       "      <th id=\"T_19236_level0_col0\" class=\"col_heading level0 col0\" >Description</th>\n",
       "      <th id=\"T_19236_level0_col1\" class=\"col_heading level0 col1\" >Value</th>\n",
       "    </tr>\n",
       "  </thead>\n",
       "  <tbody>\n",
       "    <tr>\n",
       "      <th id=\"T_19236_level0_row0\" class=\"row_heading level0 row0\" >0</th>\n",
       "      <td id=\"T_19236_row0_col0\" class=\"data row0 col0\" >Session id</td>\n",
       "      <td id=\"T_19236_row0_col1\" class=\"data row0 col1\" >249</td>\n",
       "    </tr>\n",
       "    <tr>\n",
       "      <th id=\"T_19236_level0_row1\" class=\"row_heading level0 row1\" >1</th>\n",
       "      <td id=\"T_19236_row1_col0\" class=\"data row1 col0\" >Target</td>\n",
       "      <td id=\"T_19236_row1_col1\" class=\"data row1 col1\" >target</td>\n",
       "    </tr>\n",
       "    <tr>\n",
       "      <th id=\"T_19236_level0_row2\" class=\"row_heading level0 row2\" >2</th>\n",
       "      <td id=\"T_19236_row2_col0\" class=\"data row2 col0\" >Target type</td>\n",
       "      <td id=\"T_19236_row2_col1\" class=\"data row2 col1\" >Binary</td>\n",
       "    </tr>\n",
       "    <tr>\n",
       "      <th id=\"T_19236_level0_row3\" class=\"row_heading level0 row3\" >3</th>\n",
       "      <td id=\"T_19236_row3_col0\" class=\"data row3 col0\" >Original data shape</td>\n",
       "      <td id=\"T_19236_row3_col1\" class=\"data row3 col1\" >(926, 7)</td>\n",
       "    </tr>\n",
       "    <tr>\n",
       "      <th id=\"T_19236_level0_row4\" class=\"row_heading level0 row4\" >4</th>\n",
       "      <td id=\"T_19236_row4_col0\" class=\"data row4 col0\" >Transformed data shape</td>\n",
       "      <td id=\"T_19236_row4_col1\" class=\"data row4 col1\" >(926, 6)</td>\n",
       "    </tr>\n",
       "    <tr>\n",
       "      <th id=\"T_19236_level0_row5\" class=\"row_heading level0 row5\" >5</th>\n",
       "      <td id=\"T_19236_row5_col0\" class=\"data row5 col0\" >Transformed train set shape</td>\n",
       "      <td id=\"T_19236_row5_col1\" class=\"data row5 col1\" >(648, 6)</td>\n",
       "    </tr>\n",
       "    <tr>\n",
       "      <th id=\"T_19236_level0_row6\" class=\"row_heading level0 row6\" >6</th>\n",
       "      <td id=\"T_19236_row6_col0\" class=\"data row6 col0\" >Transformed test set shape</td>\n",
       "      <td id=\"T_19236_row6_col1\" class=\"data row6 col1\" >(278, 6)</td>\n",
       "    </tr>\n",
       "    <tr>\n",
       "      <th id=\"T_19236_level0_row7\" class=\"row_heading level0 row7\" >7</th>\n",
       "      <td id=\"T_19236_row7_col0\" class=\"data row7 col0\" >Numeric features</td>\n",
       "      <td id=\"T_19236_row7_col1\" class=\"data row7 col1\" >2</td>\n",
       "    </tr>\n",
       "    <tr>\n",
       "      <th id=\"T_19236_level0_row8\" class=\"row_heading level0 row8\" >8</th>\n",
       "      <td id=\"T_19236_row8_col0\" class=\"data row8 col0\" >Categorical features</td>\n",
       "      <td id=\"T_19236_row8_col1\" class=\"data row8 col1\" >4</td>\n",
       "    </tr>\n",
       "    <tr>\n",
       "      <th id=\"T_19236_level0_row9\" class=\"row_heading level0 row9\" >9</th>\n",
       "      <td id=\"T_19236_row9_col0\" class=\"data row9 col0\" >Preprocess</td>\n",
       "      <td id=\"T_19236_row9_col1\" class=\"data row9 col1\" >True</td>\n",
       "    </tr>\n",
       "    <tr>\n",
       "      <th id=\"T_19236_level0_row10\" class=\"row_heading level0 row10\" >10</th>\n",
       "      <td id=\"T_19236_row10_col0\" class=\"data row10 col0\" >Imputation type</td>\n",
       "      <td id=\"T_19236_row10_col1\" class=\"data row10 col1\" >simple</td>\n",
       "    </tr>\n",
       "    <tr>\n",
       "      <th id=\"T_19236_level0_row11\" class=\"row_heading level0 row11\" >11</th>\n",
       "      <td id=\"T_19236_row11_col0\" class=\"data row11 col0\" >Numeric imputation</td>\n",
       "      <td id=\"T_19236_row11_col1\" class=\"data row11 col1\" >mean</td>\n",
       "    </tr>\n",
       "    <tr>\n",
       "      <th id=\"T_19236_level0_row12\" class=\"row_heading level0 row12\" >12</th>\n",
       "      <td id=\"T_19236_row12_col0\" class=\"data row12 col0\" >Categorical imputation</td>\n",
       "      <td id=\"T_19236_row12_col1\" class=\"data row12 col1\" >constant</td>\n",
       "    </tr>\n",
       "    <tr>\n",
       "      <th id=\"T_19236_level0_row13\" class=\"row_heading level0 row13\" >13</th>\n",
       "      <td id=\"T_19236_row13_col0\" class=\"data row13 col0\" >Maximum one-hot encoding</td>\n",
       "      <td id=\"T_19236_row13_col1\" class=\"data row13 col1\" >5</td>\n",
       "    </tr>\n",
       "    <tr>\n",
       "      <th id=\"T_19236_level0_row14\" class=\"row_heading level0 row14\" >14</th>\n",
       "      <td id=\"T_19236_row14_col0\" class=\"data row14 col0\" >Encoding method</td>\n",
       "      <td id=\"T_19236_row14_col1\" class=\"data row14 col1\" >None</td>\n",
       "    </tr>\n",
       "    <tr>\n",
       "      <th id=\"T_19236_level0_row15\" class=\"row_heading level0 row15\" >15</th>\n",
       "      <td id=\"T_19236_row15_col0\" class=\"data row15 col0\" >Low variance threshold</td>\n",
       "      <td id=\"T_19236_row15_col1\" class=\"data row15 col1\" >0</td>\n",
       "    </tr>\n",
       "    <tr>\n",
       "      <th id=\"T_19236_level0_row16\" class=\"row_heading level0 row16\" >16</th>\n",
       "      <td id=\"T_19236_row16_col0\" class=\"data row16 col0\" >Fold Generator</td>\n",
       "      <td id=\"T_19236_row16_col1\" class=\"data row16 col1\" >StratifiedKFold</td>\n",
       "    </tr>\n",
       "    <tr>\n",
       "      <th id=\"T_19236_level0_row17\" class=\"row_heading level0 row17\" >17</th>\n",
       "      <td id=\"T_19236_row17_col0\" class=\"data row17 col0\" >Fold Number</td>\n",
       "      <td id=\"T_19236_row17_col1\" class=\"data row17 col1\" >10</td>\n",
       "    </tr>\n",
       "    <tr>\n",
       "      <th id=\"T_19236_level0_row18\" class=\"row_heading level0 row18\" >18</th>\n",
       "      <td id=\"T_19236_row18_col0\" class=\"data row18 col0\" >CPU Jobs</td>\n",
       "      <td id=\"T_19236_row18_col1\" class=\"data row18 col1\" >-1</td>\n",
       "    </tr>\n",
       "    <tr>\n",
       "      <th id=\"T_19236_level0_row19\" class=\"row_heading level0 row19\" >19</th>\n",
       "      <td id=\"T_19236_row19_col0\" class=\"data row19 col0\" >Use GPU</td>\n",
       "      <td id=\"T_19236_row19_col1\" class=\"data row19 col1\" >False</td>\n",
       "    </tr>\n",
       "    <tr>\n",
       "      <th id=\"T_19236_level0_row20\" class=\"row_heading level0 row20\" >20</th>\n",
       "      <td id=\"T_19236_row20_col0\" class=\"data row20 col0\" >Log Experiment</td>\n",
       "      <td id=\"T_19236_row20_col1\" class=\"data row20 col1\" >False</td>\n",
       "    </tr>\n",
       "    <tr>\n",
       "      <th id=\"T_19236_level0_row21\" class=\"row_heading level0 row21\" >21</th>\n",
       "      <td id=\"T_19236_row21_col0\" class=\"data row21 col0\" >Experiment Name</td>\n",
       "      <td id=\"T_19236_row21_col1\" class=\"data row21 col1\" >clf-default-name</td>\n",
       "    </tr>\n",
       "    <tr>\n",
       "      <th id=\"T_19236_level0_row22\" class=\"row_heading level0 row22\" >22</th>\n",
       "      <td id=\"T_19236_row22_col0\" class=\"data row22 col0\" >USI</td>\n",
       "      <td id=\"T_19236_row22_col1\" class=\"data row22 col1\" >1751</td>\n",
       "    </tr>\n",
       "  </tbody>\n",
       "</table>\n"
      ],
      "text/plain": [
       "<pandas.io.formats.style.Styler at 0x1bb4a66fc70>"
      ]
     },
     "metadata": {},
     "output_type": "display_data"
    },
    {
     "data": {
      "text/plain": [
       "<pycaret.classification.oop.ClassificationExperiment at 0x1bb4a68ef70>"
      ]
     },
     "execution_count": 51,
     "metadata": {},
     "output_type": "execute_result"
    }
   ],
   "source": [
    "exp1.setup(df_train, target = 'target')"
   ]
  },
  {
   "cell_type": "code",
   "execution_count": 52,
   "id": "5a2f70ae-f689-47d0-85b2-afb5240c43ae",
   "metadata": {},
   "outputs": [],
   "source": [
    "#dir(exp1)"
   ]
  },
  {
   "cell_type": "markdown",
   "id": "db9a84d0-450e-4029-9528-3c2c66eb879f",
   "metadata": {},
   "source": [
    "- ##### Teste de Experimentação para ver se o modelo rf realmente é o melhor"
   ]
  },
  {
   "cell_type": "code",
   "execution_count": 53,
   "id": "7c526ee8-effa-4163-a552-78e96940f264",
   "metadata": {},
   "outputs": [
    {
     "data": {
      "text/html": [],
      "text/plain": [
       "<IPython.core.display.HTML object>"
      ]
     },
     "metadata": {},
     "output_type": "display_data"
    },
    {
     "data": {
      "text/html": [
       "<style type=\"text/css\">\n",
       "#T_eff94 th {\n",
       "  text-align: left;\n",
       "}\n",
       "#T_eff94_row0_col0, #T_eff94_row0_col2, #T_eff94_row0_col3, #T_eff94_row0_col4, #T_eff94_row1_col0, #T_eff94_row1_col1, #T_eff94_row1_col2, #T_eff94_row1_col4, #T_eff94_row1_col5, #T_eff94_row1_col6, #T_eff94_row1_col7, #T_eff94_row2_col0, #T_eff94_row2_col1, #T_eff94_row2_col3, #T_eff94_row2_col4, #T_eff94_row2_col5, #T_eff94_row2_col6, #T_eff94_row2_col7, #T_eff94_row3_col0, #T_eff94_row3_col1, #T_eff94_row3_col2, #T_eff94_row3_col3, #T_eff94_row3_col5, #T_eff94_row3_col6, #T_eff94_row3_col7, #T_eff94_row4_col0, #T_eff94_row4_col1, #T_eff94_row4_col2, #T_eff94_row4_col3, #T_eff94_row4_col4, #T_eff94_row4_col5, #T_eff94_row4_col6, #T_eff94_row4_col7, #T_eff94_row5_col0, #T_eff94_row5_col1, #T_eff94_row5_col2, #T_eff94_row5_col3, #T_eff94_row5_col4, #T_eff94_row5_col5, #T_eff94_row5_col6, #T_eff94_row5_col7, #T_eff94_row6_col0, #T_eff94_row6_col1, #T_eff94_row6_col2, #T_eff94_row6_col3, #T_eff94_row6_col4, #T_eff94_row6_col5, #T_eff94_row6_col6, #T_eff94_row6_col7, #T_eff94_row7_col0, #T_eff94_row7_col1, #T_eff94_row7_col2, #T_eff94_row7_col3, #T_eff94_row7_col4, #T_eff94_row7_col5, #T_eff94_row7_col6, #T_eff94_row7_col7, #T_eff94_row8_col0, #T_eff94_row8_col1, #T_eff94_row8_col2, #T_eff94_row8_col3, #T_eff94_row8_col4, #T_eff94_row8_col5, #T_eff94_row8_col6, #T_eff94_row8_col7, #T_eff94_row9_col0, #T_eff94_row9_col1, #T_eff94_row9_col2, #T_eff94_row9_col3, #T_eff94_row9_col4, #T_eff94_row9_col5, #T_eff94_row9_col6, #T_eff94_row9_col7, #T_eff94_row10_col0, #T_eff94_row10_col1, #T_eff94_row10_col2, #T_eff94_row10_col3, #T_eff94_row10_col4, #T_eff94_row10_col5, #T_eff94_row10_col6, #T_eff94_row10_col7, #T_eff94_row11_col0, #T_eff94_row11_col1, #T_eff94_row11_col2, #T_eff94_row11_col3, #T_eff94_row11_col4, #T_eff94_row11_col5, #T_eff94_row11_col6, #T_eff94_row11_col7, #T_eff94_row12_col0, #T_eff94_row12_col1, #T_eff94_row12_col2, #T_eff94_row12_col3, #T_eff94_row12_col4, #T_eff94_row12_col5, #T_eff94_row12_col6, #T_eff94_row12_col7, #T_eff94_row13_col0, #T_eff94_row13_col1, #T_eff94_row13_col2, #T_eff94_row13_col3, #T_eff94_row13_col4, #T_eff94_row13_col5, #T_eff94_row13_col6, #T_eff94_row13_col7 {\n",
       "  text-align: left;\n",
       "}\n",
       "#T_eff94_row0_col1, #T_eff94_row0_col5, #T_eff94_row0_col6, #T_eff94_row0_col7, #T_eff94_row1_col3, #T_eff94_row2_col2, #T_eff94_row3_col4 {\n",
       "  text-align: left;\n",
       "  background-color: yellow;\n",
       "}\n",
       "#T_eff94_row0_col8, #T_eff94_row1_col8, #T_eff94_row2_col8, #T_eff94_row3_col8, #T_eff94_row4_col8, #T_eff94_row5_col8, #T_eff94_row7_col8, #T_eff94_row8_col8, #T_eff94_row9_col8, #T_eff94_row10_col8, #T_eff94_row11_col8, #T_eff94_row12_col8, #T_eff94_row13_col8 {\n",
       "  text-align: left;\n",
       "  background-color: lightgrey;\n",
       "}\n",
       "#T_eff94_row6_col8 {\n",
       "  text-align: left;\n",
       "  background-color: yellow;\n",
       "  background-color: lightgrey;\n",
       "}\n",
       "</style>\n",
       "<table id=\"T_eff94\">\n",
       "  <thead>\n",
       "    <tr>\n",
       "      <th class=\"blank level0\" >&nbsp;</th>\n",
       "      <th id=\"T_eff94_level0_col0\" class=\"col_heading level0 col0\" >Model</th>\n",
       "      <th id=\"T_eff94_level0_col1\" class=\"col_heading level0 col1\" >Accuracy</th>\n",
       "      <th id=\"T_eff94_level0_col2\" class=\"col_heading level0 col2\" >AUC</th>\n",
       "      <th id=\"T_eff94_level0_col3\" class=\"col_heading level0 col3\" >Recall</th>\n",
       "      <th id=\"T_eff94_level0_col4\" class=\"col_heading level0 col4\" >Prec.</th>\n",
       "      <th id=\"T_eff94_level0_col5\" class=\"col_heading level0 col5\" >F1</th>\n",
       "      <th id=\"T_eff94_level0_col6\" class=\"col_heading level0 col6\" >Kappa</th>\n",
       "      <th id=\"T_eff94_level0_col7\" class=\"col_heading level0 col7\" >MCC</th>\n",
       "      <th id=\"T_eff94_level0_col8\" class=\"col_heading level0 col8\" >TT (Sec)</th>\n",
       "    </tr>\n",
       "  </thead>\n",
       "  <tbody>\n",
       "    <tr>\n",
       "      <th id=\"T_eff94_level0_row0\" class=\"row_heading level0 row0\" >rf</th>\n",
       "      <td id=\"T_eff94_row0_col0\" class=\"data row0 col0\" >Random Forest Classifier</td>\n",
       "      <td id=\"T_eff94_row0_col1\" class=\"data row0 col1\" >0.9106</td>\n",
       "      <td id=\"T_eff94_row0_col2\" class=\"data row0 col2\" >0.9422</td>\n",
       "      <td id=\"T_eff94_row0_col3\" class=\"data row0 col3\" >0.7362</td>\n",
       "      <td id=\"T_eff94_row0_col4\" class=\"data row0 col4\" >0.8505</td>\n",
       "      <td id=\"T_eff94_row0_col5\" class=\"data row0 col5\" >0.7810</td>\n",
       "      <td id=\"T_eff94_row0_col6\" class=\"data row0 col6\" >0.7260</td>\n",
       "      <td id=\"T_eff94_row0_col7\" class=\"data row0 col7\" >0.7343</td>\n",
       "      <td id=\"T_eff94_row0_col8\" class=\"data row0 col8\" >0.1020</td>\n",
       "    </tr>\n",
       "    <tr>\n",
       "      <th id=\"T_eff94_level0_row1\" class=\"row_heading level0 row1\" >qda</th>\n",
       "      <td id=\"T_eff94_row1_col0\" class=\"data row1 col0\" >Quadratic Discriminant Analysis</td>\n",
       "      <td id=\"T_eff94_row1_col1\" class=\"data row1 col1\" >0.8843</td>\n",
       "      <td id=\"T_eff94_row1_col2\" class=\"data row1 col2\" >0.9385</td>\n",
       "      <td id=\"T_eff94_row1_col3\" class=\"data row1 col3\" >0.8067</td>\n",
       "      <td id=\"T_eff94_row1_col4\" class=\"data row1 col4\" >0.7169</td>\n",
       "      <td id=\"T_eff94_row1_col5\" class=\"data row1 col5\" >0.7544</td>\n",
       "      <td id=\"T_eff94_row1_col6\" class=\"data row1 col6\" >0.6795</td>\n",
       "      <td id=\"T_eff94_row1_col7\" class=\"data row1 col7\" >0.6854</td>\n",
       "      <td id=\"T_eff94_row1_col8\" class=\"data row1 col8\" >0.0390</td>\n",
       "    </tr>\n",
       "    <tr>\n",
       "      <th id=\"T_eff94_level0_row2\" class=\"row_heading level0 row2\" >lr</th>\n",
       "      <td id=\"T_eff94_row2_col0\" class=\"data row2 col0\" >Logistic Regression</td>\n",
       "      <td id=\"T_eff94_row2_col1\" class=\"data row2 col1\" >0.8781</td>\n",
       "      <td id=\"T_eff94_row2_col2\" class=\"data row2 col2\" >0.9464</td>\n",
       "      <td id=\"T_eff94_row2_col3\" class=\"data row2 col3\" >0.6386</td>\n",
       "      <td id=\"T_eff94_row2_col4\" class=\"data row2 col4\" >0.7898</td>\n",
       "      <td id=\"T_eff94_row2_col5\" class=\"data row2 col5\" >0.6940</td>\n",
       "      <td id=\"T_eff94_row2_col6\" class=\"data row2 col6\" >0.6202</td>\n",
       "      <td id=\"T_eff94_row2_col7\" class=\"data row2 col7\" >0.6330</td>\n",
       "      <td id=\"T_eff94_row2_col8\" class=\"data row2 col8\" >0.2160</td>\n",
       "    </tr>\n",
       "    <tr>\n",
       "      <th id=\"T_eff94_level0_row3\" class=\"row_heading level0 row3\" >et</th>\n",
       "      <td id=\"T_eff94_row3_col0\" class=\"data row3 col0\" >Extra Trees Classifier</td>\n",
       "      <td id=\"T_eff94_row3_col1\" class=\"data row3 col1\" >0.8781</td>\n",
       "      <td id=\"T_eff94_row3_col2\" class=\"data row3 col2\" >0.9211</td>\n",
       "      <td id=\"T_eff94_row3_col3\" class=\"data row3 col3\" >0.4976</td>\n",
       "      <td id=\"T_eff94_row3_col4\" class=\"data row3 col4\" >0.9290</td>\n",
       "      <td id=\"T_eff94_row3_col5\" class=\"data row3 col5\" >0.6365</td>\n",
       "      <td id=\"T_eff94_row3_col6\" class=\"data row3 col6\" >0.5730</td>\n",
       "      <td id=\"T_eff94_row3_col7\" class=\"data row3 col7\" >0.6189</td>\n",
       "      <td id=\"T_eff94_row3_col8\" class=\"data row3 col8\" >0.0920</td>\n",
       "    </tr>\n",
       "    <tr>\n",
       "      <th id=\"T_eff94_level0_row4\" class=\"row_heading level0 row4\" >knn</th>\n",
       "      <td id=\"T_eff94_row4_col0\" class=\"data row4 col0\" >K Neighbors Classifier</td>\n",
       "      <td id=\"T_eff94_row4_col1\" class=\"data row4 col1\" >0.8766</td>\n",
       "      <td id=\"T_eff94_row4_col2\" class=\"data row4 col2\" >0.9014</td>\n",
       "      <td id=\"T_eff94_row4_col3\" class=\"data row4 col3\" >0.6924</td>\n",
       "      <td id=\"T_eff94_row4_col4\" class=\"data row4 col4\" >0.7418</td>\n",
       "      <td id=\"T_eff94_row4_col5\" class=\"data row4 col5\" >0.7121</td>\n",
       "      <td id=\"T_eff94_row4_col6\" class=\"data row4 col6\" >0.6341</td>\n",
       "      <td id=\"T_eff94_row4_col7\" class=\"data row4 col7\" >0.6377</td>\n",
       "      <td id=\"T_eff94_row4_col8\" class=\"data row4 col8\" >0.0600</td>\n",
       "    </tr>\n",
       "    <tr>\n",
       "      <th id=\"T_eff94_level0_row5\" class=\"row_heading level0 row5\" >nb</th>\n",
       "      <td id=\"T_eff94_row5_col0\" class=\"data row5 col0\" >Naive Bayes</td>\n",
       "      <td id=\"T_eff94_row5_col1\" class=\"data row5 col1\" >0.8765</td>\n",
       "      <td id=\"T_eff94_row5_col2\" class=\"data row5 col2\" >0.9355</td>\n",
       "      <td id=\"T_eff94_row5_col3\" class=\"data row5 col3\" >0.7776</td>\n",
       "      <td id=\"T_eff94_row5_col4\" class=\"data row5 col4\" >0.7050</td>\n",
       "      <td id=\"T_eff94_row5_col5\" class=\"data row5 col5\" >0.7350</td>\n",
       "      <td id=\"T_eff94_row5_col6\" class=\"data row5 col6\" >0.6554</td>\n",
       "      <td id=\"T_eff94_row5_col7\" class=\"data row5 col7\" >0.6601</td>\n",
       "      <td id=\"T_eff94_row5_col8\" class=\"data row5 col8\" >0.0410</td>\n",
       "    </tr>\n",
       "    <tr>\n",
       "      <th id=\"T_eff94_level0_row6\" class=\"row_heading level0 row6\" >ridge</th>\n",
       "      <td id=\"T_eff94_row6_col0\" class=\"data row6 col0\" >Ridge Classifier</td>\n",
       "      <td id=\"T_eff94_row6_col1\" class=\"data row6 col1\" >0.8719</td>\n",
       "      <td id=\"T_eff94_row6_col2\" class=\"data row6 col2\" >0.0000</td>\n",
       "      <td id=\"T_eff94_row6_col3\" class=\"data row6 col3\" >0.6038</td>\n",
       "      <td id=\"T_eff94_row6_col4\" class=\"data row6 col4\" >0.7925</td>\n",
       "      <td id=\"T_eff94_row6_col5\" class=\"data row6 col5\" >0.6731</td>\n",
       "      <td id=\"T_eff94_row6_col6\" class=\"data row6 col6\" >0.5966</td>\n",
       "      <td id=\"T_eff94_row6_col7\" class=\"data row6 col7\" >0.6127</td>\n",
       "      <td id=\"T_eff94_row6_col8\" class=\"data row6 col8\" >0.0290</td>\n",
       "    </tr>\n",
       "    <tr>\n",
       "      <th id=\"T_eff94_level0_row7\" class=\"row_heading level0 row7\" >lda</th>\n",
       "      <td id=\"T_eff94_row7_col0\" class=\"data row7 col0\" >Linear Discriminant Analysis</td>\n",
       "      <td id=\"T_eff94_row7_col1\" class=\"data row7 col1\" >0.8626</td>\n",
       "      <td id=\"T_eff94_row7_col2\" class=\"data row7 col2\" >0.9234</td>\n",
       "      <td id=\"T_eff94_row7_col3\" class=\"data row7 col3\" >0.6538</td>\n",
       "      <td id=\"T_eff94_row7_col4\" class=\"data row7 col4\" >0.7319</td>\n",
       "      <td id=\"T_eff94_row7_col5\" class=\"data row7 col5\" >0.6753</td>\n",
       "      <td id=\"T_eff94_row7_col6\" class=\"data row7 col6\" >0.5904</td>\n",
       "      <td id=\"T_eff94_row7_col7\" class=\"data row7 col7\" >0.6022</td>\n",
       "      <td id=\"T_eff94_row7_col8\" class=\"data row7 col8\" >0.0400</td>\n",
       "    </tr>\n",
       "    <tr>\n",
       "      <th id=\"T_eff94_level0_row8\" class=\"row_heading level0 row8\" >lightgbm</th>\n",
       "      <td id=\"T_eff94_row8_col0\" class=\"data row8 col0\" >Light Gradient Boosting Machine</td>\n",
       "      <td id=\"T_eff94_row8_col1\" class=\"data row8 col1\" >0.8471</td>\n",
       "      <td id=\"T_eff94_row8_col2\" class=\"data row8 col2\" >0.9223</td>\n",
       "      <td id=\"T_eff94_row8_col3\" class=\"data row8 col3\" >0.5333</td>\n",
       "      <td id=\"T_eff94_row8_col4\" class=\"data row8 col4\" >0.7289</td>\n",
       "      <td id=\"T_eff94_row8_col5\" class=\"data row8 col5\" >0.6047</td>\n",
       "      <td id=\"T_eff94_row8_col6\" class=\"data row8 col6\" >0.5142</td>\n",
       "      <td id=\"T_eff94_row8_col7\" class=\"data row8 col7\" >0.5302</td>\n",
       "      <td id=\"T_eff94_row8_col8\" class=\"data row8 col8\" >0.0490</td>\n",
       "    </tr>\n",
       "    <tr>\n",
       "      <th id=\"T_eff94_level0_row9\" class=\"row_heading level0 row9\" >ada</th>\n",
       "      <td id=\"T_eff94_row9_col0\" class=\"data row9 col0\" >Ada Boost Classifier</td>\n",
       "      <td id=\"T_eff94_row9_col1\" class=\"data row9 col1\" >0.8240</td>\n",
       "      <td id=\"T_eff94_row9_col2\" class=\"data row9 col2\" >0.9130</td>\n",
       "      <td id=\"T_eff94_row9_col3\" class=\"data row9 col3\" >0.6033</td>\n",
       "      <td id=\"T_eff94_row9_col4\" class=\"data row9 col4\" >0.6424</td>\n",
       "      <td id=\"T_eff94_row9_col5\" class=\"data row9 col5\" >0.6038</td>\n",
       "      <td id=\"T_eff94_row9_col6\" class=\"data row9 col6\" >0.4942</td>\n",
       "      <td id=\"T_eff94_row9_col7\" class=\"data row9 col7\" >0.5073</td>\n",
       "      <td id=\"T_eff94_row9_col8\" class=\"data row9 col8\" >0.0690</td>\n",
       "    </tr>\n",
       "    <tr>\n",
       "      <th id=\"T_eff94_level0_row10\" class=\"row_heading level0 row10\" >dt</th>\n",
       "      <td id=\"T_eff94_row10_col0\" class=\"data row10 col0\" >Decision Tree Classifier</td>\n",
       "      <td id=\"T_eff94_row10_col1\" class=\"data row10 col1\" >0.8225</td>\n",
       "      <td id=\"T_eff94_row10_col2\" class=\"data row10 col2\" >0.7566</td>\n",
       "      <td id=\"T_eff94_row10_col3\" class=\"data row10 col3\" >0.6376</td>\n",
       "      <td id=\"T_eff94_row10_col4\" class=\"data row10 col4\" >0.6487</td>\n",
       "      <td id=\"T_eff94_row10_col5\" class=\"data row10 col5\" >0.6230</td>\n",
       "      <td id=\"T_eff94_row10_col6\" class=\"data row10 col6\" >0.5117</td>\n",
       "      <td id=\"T_eff94_row10_col7\" class=\"data row10 col7\" >0.5255</td>\n",
       "      <td id=\"T_eff94_row10_col8\" class=\"data row10 col8\" >0.0390</td>\n",
       "    </tr>\n",
       "    <tr>\n",
       "      <th id=\"T_eff94_level0_row11\" class=\"row_heading level0 row11\" >gbc</th>\n",
       "      <td id=\"T_eff94_row11_col0\" class=\"data row11 col0\" >Gradient Boosting Classifier</td>\n",
       "      <td id=\"T_eff94_row11_col1\" class=\"data row11 col1\" >0.8038</td>\n",
       "      <td id=\"T_eff94_row11_col2\" class=\"data row11 col2\" >0.8891</td>\n",
       "      <td id=\"T_eff94_row11_col3\" class=\"data row11 col3\" >0.5538</td>\n",
       "      <td id=\"T_eff94_row11_col4\" class=\"data row11 col4\" >0.5807</td>\n",
       "      <td id=\"T_eff94_row11_col5\" class=\"data row11 col5\" >0.5555</td>\n",
       "      <td id=\"T_eff94_row11_col6\" class=\"data row11 col6\" >0.4318</td>\n",
       "      <td id=\"T_eff94_row11_col7\" class=\"data row11 col7\" >0.4392</td>\n",
       "      <td id=\"T_eff94_row11_col8\" class=\"data row11 col8\" >0.0710</td>\n",
       "    </tr>\n",
       "    <tr>\n",
       "      <th id=\"T_eff94_level0_row12\" class=\"row_heading level0 row12\" >dummy</th>\n",
       "      <td id=\"T_eff94_row12_col0\" class=\"data row12 col0\" >Dummy Classifier</td>\n",
       "      <td id=\"T_eff94_row12_col1\" class=\"data row12 col1\" >0.7793</td>\n",
       "      <td id=\"T_eff94_row12_col2\" class=\"data row12 col2\" >0.5000</td>\n",
       "      <td id=\"T_eff94_row12_col3\" class=\"data row12 col3\" >0.0000</td>\n",
       "      <td id=\"T_eff94_row12_col4\" class=\"data row12 col4\" >0.0000</td>\n",
       "      <td id=\"T_eff94_row12_col5\" class=\"data row12 col5\" >0.0000</td>\n",
       "      <td id=\"T_eff94_row12_col6\" class=\"data row12 col6\" >0.0000</td>\n",
       "      <td id=\"T_eff94_row12_col7\" class=\"data row12 col7\" >0.0000</td>\n",
       "      <td id=\"T_eff94_row12_col8\" class=\"data row12 col8\" >0.0400</td>\n",
       "    </tr>\n",
       "    <tr>\n",
       "      <th id=\"T_eff94_level0_row13\" class=\"row_heading level0 row13\" >svm</th>\n",
       "      <td id=\"T_eff94_row13_col0\" class=\"data row13 col0\" >SVM - Linear Kernel</td>\n",
       "      <td id=\"T_eff94_row13_col1\" class=\"data row13 col1\" >0.7454</td>\n",
       "      <td id=\"T_eff94_row13_col2\" class=\"data row13 col2\" >0.0000</td>\n",
       "      <td id=\"T_eff94_row13_col3\" class=\"data row13 col3\" >0.3143</td>\n",
       "      <td id=\"T_eff94_row13_col4\" class=\"data row13 col4\" >0.4127</td>\n",
       "      <td id=\"T_eff94_row13_col5\" class=\"data row13 col5\" >0.3214</td>\n",
       "      <td id=\"T_eff94_row13_col6\" class=\"data row13 col6\" >0.1801</td>\n",
       "      <td id=\"T_eff94_row13_col7\" class=\"data row13 col7\" >0.1982</td>\n",
       "      <td id=\"T_eff94_row13_col8\" class=\"data row13 col8\" >0.0320</td>\n",
       "    </tr>\n",
       "  </tbody>\n",
       "</table>\n"
      ],
      "text/plain": [
       "<pandas.io.formats.style.Styler at 0x1bb4a738460>"
      ]
     },
     "metadata": {},
     "output_type": "display_data"
    },
    {
     "data": {
      "application/vnd.jupyter.widget-view+json": {
       "model_id": "",
       "version_major": 2,
       "version_minor": 0
      },
      "text/plain": [
       "Processing:   0%|          | 0/61 [00:00<?, ?it/s]"
      ]
     },
     "metadata": {},
     "output_type": "display_data"
    },
    {
     "data": {
      "text/html": [
       "<style>#sk-container-id-2 {color: black;background-color: white;}#sk-container-id-2 pre{padding: 0;}#sk-container-id-2 div.sk-toggleable {background-color: white;}#sk-container-id-2 label.sk-toggleable__label {cursor: pointer;display: block;width: 100%;margin-bottom: 0;padding: 0.3em;box-sizing: border-box;text-align: center;}#sk-container-id-2 label.sk-toggleable__label-arrow:before {content: \"▸\";float: left;margin-right: 0.25em;color: #696969;}#sk-container-id-2 label.sk-toggleable__label-arrow:hover:before {color: black;}#sk-container-id-2 div.sk-estimator:hover label.sk-toggleable__label-arrow:before {color: black;}#sk-container-id-2 div.sk-toggleable__content {max-height: 0;max-width: 0;overflow: hidden;text-align: left;background-color: #f0f8ff;}#sk-container-id-2 div.sk-toggleable__content pre {margin: 0.2em;color: black;border-radius: 0.25em;background-color: #f0f8ff;}#sk-container-id-2 input.sk-toggleable__control:checked~div.sk-toggleable__content {max-height: 200px;max-width: 100%;overflow: auto;}#sk-container-id-2 input.sk-toggleable__control:checked~label.sk-toggleable__label-arrow:before {content: \"▾\";}#sk-container-id-2 div.sk-estimator input.sk-toggleable__control:checked~label.sk-toggleable__label {background-color: #d4ebff;}#sk-container-id-2 div.sk-label input.sk-toggleable__control:checked~label.sk-toggleable__label {background-color: #d4ebff;}#sk-container-id-2 input.sk-hidden--visually {border: 0;clip: rect(1px 1px 1px 1px);clip: rect(1px, 1px, 1px, 1px);height: 1px;margin: -1px;overflow: hidden;padding: 0;position: absolute;width: 1px;}#sk-container-id-2 div.sk-estimator {font-family: monospace;background-color: #f0f8ff;border: 1px dotted black;border-radius: 0.25em;box-sizing: border-box;margin-bottom: 0.5em;}#sk-container-id-2 div.sk-estimator:hover {background-color: #d4ebff;}#sk-container-id-2 div.sk-parallel-item::after {content: \"\";width: 100%;border-bottom: 1px solid gray;flex-grow: 1;}#sk-container-id-2 div.sk-label:hover label.sk-toggleable__label {background-color: #d4ebff;}#sk-container-id-2 div.sk-serial::before {content: \"\";position: absolute;border-left: 1px solid gray;box-sizing: border-box;top: 0;bottom: 0;left: 50%;z-index: 0;}#sk-container-id-2 div.sk-serial {display: flex;flex-direction: column;align-items: center;background-color: white;padding-right: 0.2em;padding-left: 0.2em;position: relative;}#sk-container-id-2 div.sk-item {position: relative;z-index: 1;}#sk-container-id-2 div.sk-parallel {display: flex;align-items: stretch;justify-content: center;background-color: white;position: relative;}#sk-container-id-2 div.sk-item::before, #sk-container-id-2 div.sk-parallel-item::before {content: \"\";position: absolute;border-left: 1px solid gray;box-sizing: border-box;top: 0;bottom: 0;left: 50%;z-index: -1;}#sk-container-id-2 div.sk-parallel-item {display: flex;flex-direction: column;z-index: 1;position: relative;background-color: white;}#sk-container-id-2 div.sk-parallel-item:first-child::after {align-self: flex-end;width: 50%;}#sk-container-id-2 div.sk-parallel-item:last-child::after {align-self: flex-start;width: 50%;}#sk-container-id-2 div.sk-parallel-item:only-child::after {width: 0;}#sk-container-id-2 div.sk-dashed-wrapped {border: 1px dashed gray;margin: 0 0.4em 0.5em 0.4em;box-sizing: border-box;padding-bottom: 0.4em;background-color: white;}#sk-container-id-2 div.sk-label label {font-family: monospace;font-weight: bold;display: inline-block;line-height: 1.2em;}#sk-container-id-2 div.sk-label-container {text-align: center;}#sk-container-id-2 div.sk-container {/* jupyter's `normalize.less` sets `[hidden] { display: none; }` but bootstrap.min.css set `[hidden] { display: none !important; }` so we also need the `!important` here to be able to override the default hidden behavior on the sphinx rendered scikit-learn.org. See: https://github.com/scikit-learn/scikit-learn/issues/21755 */display: inline-block !important;position: relative;}#sk-container-id-2 div.sk-text-repr-fallback {display: none;}</style><div id=\"sk-container-id-2\" class=\"sk-top-container\"><div class=\"sk-text-repr-fallback\"><pre>RandomForestClassifier(bootstrap=True, ccp_alpha=0.0, class_weight=None,\n",
       "                       criterion=&#x27;gini&#x27;, max_depth=None, max_features=&#x27;sqrt&#x27;,\n",
       "                       max_leaf_nodes=None, max_samples=None,\n",
       "                       min_impurity_decrease=0.0, min_samples_leaf=1,\n",
       "                       min_samples_split=2, min_weight_fraction_leaf=0.0,\n",
       "                       n_estimators=100, n_jobs=-1, oob_score=False,\n",
       "                       random_state=249, verbose=0, warm_start=False)</pre><b>In a Jupyter environment, please rerun this cell to show the HTML representation or trust the notebook. <br />On GitHub, the HTML representation is unable to render, please try loading this page with nbviewer.org.</b></div><div class=\"sk-container\" hidden><div class=\"sk-item\"><div class=\"sk-estimator sk-toggleable\"><input class=\"sk-toggleable__control sk-hidden--visually\" id=\"sk-estimator-id-2\" type=\"checkbox\" checked><label for=\"sk-estimator-id-2\" class=\"sk-toggleable__label sk-toggleable__label-arrow\">RandomForestClassifier</label><div class=\"sk-toggleable__content\"><pre>RandomForestClassifier(bootstrap=True, ccp_alpha=0.0, class_weight=None,\n",
       "                       criterion=&#x27;gini&#x27;, max_depth=None, max_features=&#x27;sqrt&#x27;,\n",
       "                       max_leaf_nodes=None, max_samples=None,\n",
       "                       min_impurity_decrease=0.0, min_samples_leaf=1,\n",
       "                       min_samples_split=2, min_weight_fraction_leaf=0.0,\n",
       "                       n_estimators=100, n_jobs=-1, oob_score=False,\n",
       "                       random_state=249, verbose=0, warm_start=False)</pre></div></div></div></div></div>"
      ],
      "text/plain": [
       "RandomForestClassifier(bootstrap=True, ccp_alpha=0.0, class_weight=None,\n",
       "                       criterion='gini', max_depth=None, max_features='sqrt',\n",
       "                       max_leaf_nodes=None, max_samples=None,\n",
       "                       min_impurity_decrease=0.0, min_samples_leaf=1,\n",
       "                       min_samples_split=2, min_weight_fraction_leaf=0.0,\n",
       "                       n_estimators=100, n_jobs=-1, oob_score=False,\n",
       "                       random_state=249, verbose=0, warm_start=False)"
      ]
     },
     "execution_count": 53,
     "metadata": {},
     "output_type": "execute_result"
    }
   ],
   "source": [
    "exp1.compare_models()"
   ]
  },
  {
   "cell_type": "code",
   "execution_count": 54,
   "id": "c521669e-4b44-4aae-91cd-6f8332a8a370",
   "metadata": {},
   "outputs": [],
   "source": [
    "#best.feature_names_in_"
   ]
  },
  {
   "cell_type": "markdown",
   "id": "2259d7e0-7441-40d0-ad43-0ed614821e73",
   "metadata": {},
   "source": [
    "- ##### Criação do modelo escolhido com melhor avaliação"
   ]
  },
  {
   "cell_type": "code",
   "execution_count": 55,
   "id": "2559dd1e-bc6e-4448-a63b-f1db0c57e8d4",
   "metadata": {},
   "outputs": [
    {
     "data": {
      "text/html": [],
      "text/plain": [
       "<IPython.core.display.HTML object>"
      ]
     },
     "metadata": {},
     "output_type": "display_data"
    },
    {
     "data": {
      "text/html": [
       "<style type=\"text/css\">\n",
       "#T_b36c0_row10_col0, #T_b36c0_row10_col1, #T_b36c0_row10_col2, #T_b36c0_row10_col3, #T_b36c0_row10_col4, #T_b36c0_row10_col5, #T_b36c0_row10_col6 {\n",
       "  background: yellow;\n",
       "}\n",
       "</style>\n",
       "<table id=\"T_b36c0\">\n",
       "  <thead>\n",
       "    <tr>\n",
       "      <th class=\"blank level0\" >&nbsp;</th>\n",
       "      <th id=\"T_b36c0_level0_col0\" class=\"col_heading level0 col0\" >Accuracy</th>\n",
       "      <th id=\"T_b36c0_level0_col1\" class=\"col_heading level0 col1\" >AUC</th>\n",
       "      <th id=\"T_b36c0_level0_col2\" class=\"col_heading level0 col2\" >Recall</th>\n",
       "      <th id=\"T_b36c0_level0_col3\" class=\"col_heading level0 col3\" >Prec.</th>\n",
       "      <th id=\"T_b36c0_level0_col4\" class=\"col_heading level0 col4\" >F1</th>\n",
       "      <th id=\"T_b36c0_level0_col5\" class=\"col_heading level0 col5\" >Kappa</th>\n",
       "      <th id=\"T_b36c0_level0_col6\" class=\"col_heading level0 col6\" >MCC</th>\n",
       "    </tr>\n",
       "    <tr>\n",
       "      <th class=\"index_name level0\" >Fold</th>\n",
       "      <th class=\"blank col0\" >&nbsp;</th>\n",
       "      <th class=\"blank col1\" >&nbsp;</th>\n",
       "      <th class=\"blank col2\" >&nbsp;</th>\n",
       "      <th class=\"blank col3\" >&nbsp;</th>\n",
       "      <th class=\"blank col4\" >&nbsp;</th>\n",
       "      <th class=\"blank col5\" >&nbsp;</th>\n",
       "      <th class=\"blank col6\" >&nbsp;</th>\n",
       "    </tr>\n",
       "  </thead>\n",
       "  <tbody>\n",
       "    <tr>\n",
       "      <th id=\"T_b36c0_level0_row0\" class=\"row_heading level0 row0\" >0</th>\n",
       "      <td id=\"T_b36c0_row0_col0\" class=\"data row0 col0\" >0.9538</td>\n",
       "      <td id=\"T_b36c0_row0_col1\" class=\"data row0 col1\" >0.9923</td>\n",
       "      <td id=\"T_b36c0_row0_col2\" class=\"data row0 col2\" >0.8571</td>\n",
       "      <td id=\"T_b36c0_row0_col3\" class=\"data row0 col3\" >0.9231</td>\n",
       "      <td id=\"T_b36c0_row0_col4\" class=\"data row0 col4\" >0.8889</td>\n",
       "      <td id=\"T_b36c0_row0_col5\" class=\"data row0 col5\" >0.8598</td>\n",
       "      <td id=\"T_b36c0_row0_col6\" class=\"data row0 col6\" >0.8608</td>\n",
       "    </tr>\n",
       "    <tr>\n",
       "      <th id=\"T_b36c0_level0_row1\" class=\"row_heading level0 row1\" >1</th>\n",
       "      <td id=\"T_b36c0_row1_col0\" class=\"data row1 col0\" >0.9231</td>\n",
       "      <td id=\"T_b36c0_row1_col1\" class=\"data row1 col1\" >0.9755</td>\n",
       "      <td id=\"T_b36c0_row1_col2\" class=\"data row1 col2\" >0.7857</td>\n",
       "      <td id=\"T_b36c0_row1_col3\" class=\"data row1 col3\" >0.8462</td>\n",
       "      <td id=\"T_b36c0_row1_col4\" class=\"data row1 col4\" >0.8148</td>\n",
       "      <td id=\"T_b36c0_row1_col5\" class=\"data row1 col5\" >0.7664</td>\n",
       "      <td id=\"T_b36c0_row1_col6\" class=\"data row1 col6\" >0.7672</td>\n",
       "    </tr>\n",
       "    <tr>\n",
       "      <th id=\"T_b36c0_level0_row2\" class=\"row_heading level0 row2\" >2</th>\n",
       "      <td id=\"T_b36c0_row2_col0\" class=\"data row2 col0\" >0.9231</td>\n",
       "      <td id=\"T_b36c0_row2_col1\" class=\"data row2 col1\" >0.9825</td>\n",
       "      <td id=\"T_b36c0_row2_col2\" class=\"data row2 col2\" >0.7143</td>\n",
       "      <td id=\"T_b36c0_row2_col3\" class=\"data row2 col3\" >0.9091</td>\n",
       "      <td id=\"T_b36c0_row2_col4\" class=\"data row2 col4\" >0.8000</td>\n",
       "      <td id=\"T_b36c0_row2_col5\" class=\"data row2 col5\" >0.7532</td>\n",
       "      <td id=\"T_b36c0_row2_col6\" class=\"data row2 col6\" >0.7616</td>\n",
       "    </tr>\n",
       "    <tr>\n",
       "      <th id=\"T_b36c0_level0_row3\" class=\"row_heading level0 row3\" >3</th>\n",
       "      <td id=\"T_b36c0_row3_col0\" class=\"data row3 col0\" >0.9692</td>\n",
       "      <td id=\"T_b36c0_row3_col1\" class=\"data row3 col1\" >0.9650</td>\n",
       "      <td id=\"T_b36c0_row3_col2\" class=\"data row3 col2\" >0.8571</td>\n",
       "      <td id=\"T_b36c0_row3_col3\" class=\"data row3 col3\" >1.0000</td>\n",
       "      <td id=\"T_b36c0_row3_col4\" class=\"data row3 col4\" >0.9231</td>\n",
       "      <td id=\"T_b36c0_row3_col5\" class=\"data row3 col5\" >0.9040</td>\n",
       "      <td id=\"T_b36c0_row3_col6\" class=\"data row3 col6\" >0.9082</td>\n",
       "    </tr>\n",
       "    <tr>\n",
       "      <th id=\"T_b36c0_level0_row4\" class=\"row_heading level0 row4\" >4</th>\n",
       "      <td id=\"T_b36c0_row4_col0\" class=\"data row4 col0\" >0.9231</td>\n",
       "      <td id=\"T_b36c0_row4_col1\" class=\"data row4 col1\" >0.9055</td>\n",
       "      <td id=\"T_b36c0_row4_col2\" class=\"data row4 col2\" >0.8571</td>\n",
       "      <td id=\"T_b36c0_row4_col3\" class=\"data row4 col3\" >0.8000</td>\n",
       "      <td id=\"T_b36c0_row4_col4\" class=\"data row4 col4\" >0.8276</td>\n",
       "      <td id=\"T_b36c0_row4_col5\" class=\"data row4 col5\" >0.7782</td>\n",
       "      <td id=\"T_b36c0_row4_col6\" class=\"data row4 col6\" >0.7789</td>\n",
       "    </tr>\n",
       "    <tr>\n",
       "      <th id=\"T_b36c0_level0_row5\" class=\"row_heading level0 row5\" >5</th>\n",
       "      <td id=\"T_b36c0_row5_col0\" class=\"data row5 col0\" >0.8769</td>\n",
       "      <td id=\"T_b36c0_row5_col1\" class=\"data row5 col1\" >0.9547</td>\n",
       "      <td id=\"T_b36c0_row5_col2\" class=\"data row5 col2\" >0.7333</td>\n",
       "      <td id=\"T_b36c0_row5_col3\" class=\"data row5 col3\" >0.7333</td>\n",
       "      <td id=\"T_b36c0_row5_col4\" class=\"data row5 col4\" >0.7333</td>\n",
       "      <td id=\"T_b36c0_row5_col5\" class=\"data row5 col5\" >0.6533</td>\n",
       "      <td id=\"T_b36c0_row5_col6\" class=\"data row5 col6\" >0.6533</td>\n",
       "    </tr>\n",
       "    <tr>\n",
       "      <th id=\"T_b36c0_level0_row6\" class=\"row_heading level0 row6\" >6</th>\n",
       "      <td id=\"T_b36c0_row6_col0\" class=\"data row6 col0\" >0.8615</td>\n",
       "      <td id=\"T_b36c0_row6_col1\" class=\"data row6 col1\" >0.9053</td>\n",
       "      <td id=\"T_b36c0_row6_col2\" class=\"data row6 col2\" >0.5333</td>\n",
       "      <td id=\"T_b36c0_row6_col3\" class=\"data row6 col3\" >0.8000</td>\n",
       "      <td id=\"T_b36c0_row6_col4\" class=\"data row6 col4\" >0.6400</td>\n",
       "      <td id=\"T_b36c0_row6_col5\" class=\"data row6 col5\" >0.5585</td>\n",
       "      <td id=\"T_b36c0_row6_col6\" class=\"data row6 col6\" >0.5761</td>\n",
       "    </tr>\n",
       "    <tr>\n",
       "      <th id=\"T_b36c0_level0_row7\" class=\"row_heading level0 row7\" >7</th>\n",
       "      <td id=\"T_b36c0_row7_col0\" class=\"data row7 col0\" >0.9077</td>\n",
       "      <td id=\"T_b36c0_row7_col1\" class=\"data row7 col1\" >0.9453</td>\n",
       "      <td id=\"T_b36c0_row7_col2\" class=\"data row7 col2\" >0.7333</td>\n",
       "      <td id=\"T_b36c0_row7_col3\" class=\"data row7 col3\" >0.8462</td>\n",
       "      <td id=\"T_b36c0_row7_col4\" class=\"data row7 col4\" >0.7857</td>\n",
       "      <td id=\"T_b36c0_row7_col5\" class=\"data row7 col5\" >0.7273</td>\n",
       "      <td id=\"T_b36c0_row7_col6\" class=\"data row7 col6\" >0.7303</td>\n",
       "    </tr>\n",
       "    <tr>\n",
       "      <th id=\"T_b36c0_level0_row8\" class=\"row_heading level0 row8\" >8</th>\n",
       "      <td id=\"T_b36c0_row8_col0\" class=\"data row8 col0\" >0.7656</td>\n",
       "      <td id=\"T_b36c0_row8_col1\" class=\"data row8 col1\" >0.8650</td>\n",
       "      <td id=\"T_b36c0_row8_col2\" class=\"data row8 col2\" >0.5714</td>\n",
       "      <td id=\"T_b36c0_row8_col3\" class=\"data row8 col3\" >0.4706</td>\n",
       "      <td id=\"T_b36c0_row8_col4\" class=\"data row8 col4\" >0.5161</td>\n",
       "      <td id=\"T_b36c0_row8_col5\" class=\"data row8 col5\" >0.3634</td>\n",
       "      <td id=\"T_b36c0_row8_col6\" class=\"data row8 col6\" >0.3664</td>\n",
       "    </tr>\n",
       "    <tr>\n",
       "      <th id=\"T_b36c0_level0_row9\" class=\"row_heading level0 row9\" >9</th>\n",
       "      <td id=\"T_b36c0_row9_col0\" class=\"data row9 col0\" >0.9375</td>\n",
       "      <td id=\"T_b36c0_row9_col1\" class=\"data row9 col1\" >0.9864</td>\n",
       "      <td id=\"T_b36c0_row9_col2\" class=\"data row9 col2\" >0.7143</td>\n",
       "      <td id=\"T_b36c0_row9_col3\" class=\"data row9 col3\" >1.0000</td>\n",
       "      <td id=\"T_b36c0_row9_col4\" class=\"data row9 col4\" >0.8333</td>\n",
       "      <td id=\"T_b36c0_row9_col5\" class=\"data row9 col5\" >0.7962</td>\n",
       "      <td id=\"T_b36c0_row9_col6\" class=\"data row9 col6\" >0.8133</td>\n",
       "    </tr>\n",
       "    <tr>\n",
       "      <th id=\"T_b36c0_level0_row10\" class=\"row_heading level0 row10\" >Mean</th>\n",
       "      <td id=\"T_b36c0_row10_col0\" class=\"data row10 col0\" >0.9042</td>\n",
       "      <td id=\"T_b36c0_row10_col1\" class=\"data row10 col1\" >0.9477</td>\n",
       "      <td id=\"T_b36c0_row10_col2\" class=\"data row10 col2\" >0.7357</td>\n",
       "      <td id=\"T_b36c0_row10_col3\" class=\"data row10 col3\" >0.8328</td>\n",
       "      <td id=\"T_b36c0_row10_col4\" class=\"data row10 col4\" >0.7763</td>\n",
       "      <td id=\"T_b36c0_row10_col5\" class=\"data row10 col5\" >0.7160</td>\n",
       "      <td id=\"T_b36c0_row10_col6\" class=\"data row10 col6\" >0.7216</td>\n",
       "    </tr>\n",
       "    <tr>\n",
       "      <th id=\"T_b36c0_level0_row11\" class=\"row_heading level0 row11\" >Std</th>\n",
       "      <td id=\"T_b36c0_row11_col0\" class=\"data row11 col0\" >0.0554</td>\n",
       "      <td id=\"T_b36c0_row11_col1\" class=\"data row11 col1\" >0.0403</td>\n",
       "      <td id=\"T_b36c0_row11_col2\" class=\"data row11 col2\" >0.1075</td>\n",
       "      <td id=\"T_b36c0_row11_col3\" class=\"data row11 col3\" >0.1461</td>\n",
       "      <td id=\"T_b36c0_row11_col4\" class=\"data row11 col4\" >0.1142</td>\n",
       "      <td id=\"T_b36c0_row11_col5\" class=\"data row11 col5\" >0.1495</td>\n",
       "      <td id=\"T_b36c0_row11_col6\" class=\"data row11 col6\" >0.1489</td>\n",
       "    </tr>\n",
       "  </tbody>\n",
       "</table>\n"
      ],
      "text/plain": [
       "<pandas.io.formats.style.Styler at 0x1bb4a3e0880>"
      ]
     },
     "metadata": {},
     "output_type": "display_data"
    },
    {
     "data": {
      "application/vnd.jupyter.widget-view+json": {
       "model_id": "",
       "version_major": 2,
       "version_minor": 0
      },
      "text/plain": [
       "Processing:   0%|          | 0/4 [00:00<?, ?it/s]"
      ]
     },
     "metadata": {},
     "output_type": "display_data"
    }
   ],
   "source": [
    "model = create_model(estimator='rf')"
   ]
  },
  {
   "cell_type": "markdown",
   "id": "01801cde-2b7e-4e71-b1ff-807dc90deb1f",
   "metadata": {},
   "source": [
    "- ##### Tuning do modelo"
   ]
  },
  {
   "cell_type": "code",
   "execution_count": 56,
   "id": "9e5a3394-a74b-4f03-aec5-668e8b777377",
   "metadata": {},
   "outputs": [
    {
     "data": {
      "text/html": [],
      "text/plain": [
       "<IPython.core.display.HTML object>"
      ]
     },
     "metadata": {},
     "output_type": "display_data"
    },
    {
     "data": {
      "text/html": [
       "<style type=\"text/css\">\n",
       "#T_1102f_row10_col0, #T_1102f_row10_col1, #T_1102f_row10_col2, #T_1102f_row10_col3, #T_1102f_row10_col4, #T_1102f_row10_col5, #T_1102f_row10_col6 {\n",
       "  background: yellow;\n",
       "}\n",
       "</style>\n",
       "<table id=\"T_1102f\">\n",
       "  <thead>\n",
       "    <tr>\n",
       "      <th class=\"blank level0\" >&nbsp;</th>\n",
       "      <th id=\"T_1102f_level0_col0\" class=\"col_heading level0 col0\" >Accuracy</th>\n",
       "      <th id=\"T_1102f_level0_col1\" class=\"col_heading level0 col1\" >AUC</th>\n",
       "      <th id=\"T_1102f_level0_col2\" class=\"col_heading level0 col2\" >Recall</th>\n",
       "      <th id=\"T_1102f_level0_col3\" class=\"col_heading level0 col3\" >Prec.</th>\n",
       "      <th id=\"T_1102f_level0_col4\" class=\"col_heading level0 col4\" >F1</th>\n",
       "      <th id=\"T_1102f_level0_col5\" class=\"col_heading level0 col5\" >Kappa</th>\n",
       "      <th id=\"T_1102f_level0_col6\" class=\"col_heading level0 col6\" >MCC</th>\n",
       "    </tr>\n",
       "    <tr>\n",
       "      <th class=\"index_name level0\" >Fold</th>\n",
       "      <th class=\"blank col0\" >&nbsp;</th>\n",
       "      <th class=\"blank col1\" >&nbsp;</th>\n",
       "      <th class=\"blank col2\" >&nbsp;</th>\n",
       "      <th class=\"blank col3\" >&nbsp;</th>\n",
       "      <th class=\"blank col4\" >&nbsp;</th>\n",
       "      <th class=\"blank col5\" >&nbsp;</th>\n",
       "      <th class=\"blank col6\" >&nbsp;</th>\n",
       "    </tr>\n",
       "  </thead>\n",
       "  <tbody>\n",
       "    <tr>\n",
       "      <th id=\"T_1102f_level0_row0\" class=\"row_heading level0 row0\" >0</th>\n",
       "      <td id=\"T_1102f_row0_col0\" class=\"data row0 col0\" >0.9692</td>\n",
       "      <td id=\"T_1102f_row0_col1\" class=\"data row0 col1\" >0.9944</td>\n",
       "      <td id=\"T_1102f_row0_col2\" class=\"data row0 col2\" >0.9286</td>\n",
       "      <td id=\"T_1102f_row0_col3\" class=\"data row0 col3\" >0.9286</td>\n",
       "      <td id=\"T_1102f_row0_col4\" class=\"data row0 col4\" >0.9286</td>\n",
       "      <td id=\"T_1102f_row0_col5\" class=\"data row0 col5\" >0.9090</td>\n",
       "      <td id=\"T_1102f_row0_col6\" class=\"data row0 col6\" >0.9090</td>\n",
       "    </tr>\n",
       "    <tr>\n",
       "      <th id=\"T_1102f_level0_row1\" class=\"row_heading level0 row1\" >1</th>\n",
       "      <td id=\"T_1102f_row1_col0\" class=\"data row1 col0\" >0.9538</td>\n",
       "      <td id=\"T_1102f_row1_col1\" class=\"data row1 col1\" >0.9699</td>\n",
       "      <td id=\"T_1102f_row1_col2\" class=\"data row1 col2\" >0.8571</td>\n",
       "      <td id=\"T_1102f_row1_col3\" class=\"data row1 col3\" >0.9231</td>\n",
       "      <td id=\"T_1102f_row1_col4\" class=\"data row1 col4\" >0.8889</td>\n",
       "      <td id=\"T_1102f_row1_col5\" class=\"data row1 col5\" >0.8598</td>\n",
       "      <td id=\"T_1102f_row1_col6\" class=\"data row1 col6\" >0.8608</td>\n",
       "    </tr>\n",
       "    <tr>\n",
       "      <th id=\"T_1102f_level0_row2\" class=\"row_heading level0 row2\" >2</th>\n",
       "      <td id=\"T_1102f_row2_col0\" class=\"data row2 col0\" >0.9538</td>\n",
       "      <td id=\"T_1102f_row2_col1\" class=\"data row2 col1\" >0.9860</td>\n",
       "      <td id=\"T_1102f_row2_col2\" class=\"data row2 col2\" >0.7857</td>\n",
       "      <td id=\"T_1102f_row2_col3\" class=\"data row2 col3\" >1.0000</td>\n",
       "      <td id=\"T_1102f_row2_col4\" class=\"data row2 col4\" >0.8800</td>\n",
       "      <td id=\"T_1102f_row2_col5\" class=\"data row2 col5\" >0.8519</td>\n",
       "      <td id=\"T_1102f_row2_col6\" class=\"data row2 col6\" >0.8614</td>\n",
       "    </tr>\n",
       "    <tr>\n",
       "      <th id=\"T_1102f_level0_row3\" class=\"row_heading level0 row3\" >3</th>\n",
       "      <td id=\"T_1102f_row3_col0\" class=\"data row3 col0\" >0.9692</td>\n",
       "      <td id=\"T_1102f_row3_col1\" class=\"data row3 col1\" >0.9594</td>\n",
       "      <td id=\"T_1102f_row3_col2\" class=\"data row3 col2\" >0.8571</td>\n",
       "      <td id=\"T_1102f_row3_col3\" class=\"data row3 col3\" >1.0000</td>\n",
       "      <td id=\"T_1102f_row3_col4\" class=\"data row3 col4\" >0.9231</td>\n",
       "      <td id=\"T_1102f_row3_col5\" class=\"data row3 col5\" >0.9040</td>\n",
       "      <td id=\"T_1102f_row3_col6\" class=\"data row3 col6\" >0.9082</td>\n",
       "    </tr>\n",
       "    <tr>\n",
       "      <th id=\"T_1102f_level0_row4\" class=\"row_heading level0 row4\" >4</th>\n",
       "      <td id=\"T_1102f_row4_col0\" class=\"data row4 col0\" >0.9538</td>\n",
       "      <td id=\"T_1102f_row4_col1\" class=\"data row4 col1\" >0.9454</td>\n",
       "      <td id=\"T_1102f_row4_col2\" class=\"data row4 col2\" >0.8571</td>\n",
       "      <td id=\"T_1102f_row4_col3\" class=\"data row4 col3\" >0.9231</td>\n",
       "      <td id=\"T_1102f_row4_col4\" class=\"data row4 col4\" >0.8889</td>\n",
       "      <td id=\"T_1102f_row4_col5\" class=\"data row4 col5\" >0.8598</td>\n",
       "      <td id=\"T_1102f_row4_col6\" class=\"data row4 col6\" >0.8608</td>\n",
       "    </tr>\n",
       "    <tr>\n",
       "      <th id=\"T_1102f_level0_row5\" class=\"row_heading level0 row5\" >5</th>\n",
       "      <td id=\"T_1102f_row5_col0\" class=\"data row5 col0\" >0.8923</td>\n",
       "      <td id=\"T_1102f_row5_col1\" class=\"data row5 col1\" >0.9387</td>\n",
       "      <td id=\"T_1102f_row5_col2\" class=\"data row5 col2\" >0.8000</td>\n",
       "      <td id=\"T_1102f_row5_col3\" class=\"data row5 col3\" >0.7500</td>\n",
       "      <td id=\"T_1102f_row5_col4\" class=\"data row5 col4\" >0.7742</td>\n",
       "      <td id=\"T_1102f_row5_col5\" class=\"data row5 col5\" >0.7036</td>\n",
       "      <td id=\"T_1102f_row5_col6\" class=\"data row5 col6\" >0.7042</td>\n",
       "    </tr>\n",
       "    <tr>\n",
       "      <th id=\"T_1102f_level0_row6\" class=\"row_heading level0 row6\" >6</th>\n",
       "      <td id=\"T_1102f_row6_col0\" class=\"data row6 col0\" >0.8615</td>\n",
       "      <td id=\"T_1102f_row6_col1\" class=\"data row6 col1\" >0.9047</td>\n",
       "      <td id=\"T_1102f_row6_col2\" class=\"data row6 col2\" >0.6000</td>\n",
       "      <td id=\"T_1102f_row6_col3\" class=\"data row6 col3\" >0.7500</td>\n",
       "      <td id=\"T_1102f_row6_col4\" class=\"data row6 col4\" >0.6667</td>\n",
       "      <td id=\"T_1102f_row6_col5\" class=\"data row6 col5\" >0.5806</td>\n",
       "      <td id=\"T_1102f_row6_col6\" class=\"data row6 col6\" >0.5864</td>\n",
       "    </tr>\n",
       "    <tr>\n",
       "      <th id=\"T_1102f_level0_row7\" class=\"row_heading level0 row7\" >7</th>\n",
       "      <td id=\"T_1102f_row7_col0\" class=\"data row7 col0\" >0.9077</td>\n",
       "      <td id=\"T_1102f_row7_col1\" class=\"data row7 col1\" >0.9467</td>\n",
       "      <td id=\"T_1102f_row7_col2\" class=\"data row7 col2\" >0.7333</td>\n",
       "      <td id=\"T_1102f_row7_col3\" class=\"data row7 col3\" >0.8462</td>\n",
       "      <td id=\"T_1102f_row7_col4\" class=\"data row7 col4\" >0.7857</td>\n",
       "      <td id=\"T_1102f_row7_col5\" class=\"data row7 col5\" >0.7273</td>\n",
       "      <td id=\"T_1102f_row7_col6\" class=\"data row7 col6\" >0.7303</td>\n",
       "    </tr>\n",
       "    <tr>\n",
       "      <th id=\"T_1102f_level0_row8\" class=\"row_heading level0 row8\" >8</th>\n",
       "      <td id=\"T_1102f_row8_col0\" class=\"data row8 col0\" >0.8750</td>\n",
       "      <td id=\"T_1102f_row8_col1\" class=\"data row8 col1\" >0.8529</td>\n",
       "      <td id=\"T_1102f_row8_col2\" class=\"data row8 col2\" >0.6429</td>\n",
       "      <td id=\"T_1102f_row8_col3\" class=\"data row8 col3\" >0.7500</td>\n",
       "      <td id=\"T_1102f_row8_col4\" class=\"data row8 col4\" >0.6923</td>\n",
       "      <td id=\"T_1102f_row8_col5\" class=\"data row8 col5\" >0.6145</td>\n",
       "      <td id=\"T_1102f_row8_col6\" class=\"data row8 col6\" >0.6173</td>\n",
       "    </tr>\n",
       "    <tr>\n",
       "      <th id=\"T_1102f_level0_row9\" class=\"row_heading level0 row9\" >9</th>\n",
       "      <td id=\"T_1102f_row9_col0\" class=\"data row9 col0\" >0.9375</td>\n",
       "      <td id=\"T_1102f_row9_col1\" class=\"data row9 col1\" >0.9971</td>\n",
       "      <td id=\"T_1102f_row9_col2\" class=\"data row9 col2\" >0.7143</td>\n",
       "      <td id=\"T_1102f_row9_col3\" class=\"data row9 col3\" >1.0000</td>\n",
       "      <td id=\"T_1102f_row9_col4\" class=\"data row9 col4\" >0.8333</td>\n",
       "      <td id=\"T_1102f_row9_col5\" class=\"data row9 col5\" >0.7962</td>\n",
       "      <td id=\"T_1102f_row9_col6\" class=\"data row9 col6\" >0.8133</td>\n",
       "    </tr>\n",
       "    <tr>\n",
       "      <th id=\"T_1102f_level0_row10\" class=\"row_heading level0 row10\" >Mean</th>\n",
       "      <td id=\"T_1102f_row10_col0\" class=\"data row10 col0\" >0.9274</td>\n",
       "      <td id=\"T_1102f_row10_col1\" class=\"data row10 col1\" >0.9495</td>\n",
       "      <td id=\"T_1102f_row10_col2\" class=\"data row10 col2\" >0.7776</td>\n",
       "      <td id=\"T_1102f_row10_col3\" class=\"data row10 col3\" >0.8871</td>\n",
       "      <td id=\"T_1102f_row10_col4\" class=\"data row10 col4\" >0.8262</td>\n",
       "      <td id=\"T_1102f_row10_col5\" class=\"data row10 col5\" >0.7807</td>\n",
       "      <td id=\"T_1102f_row10_col6\" class=\"data row10 col6\" >0.7852</td>\n",
       "    </tr>\n",
       "    <tr>\n",
       "      <th id=\"T_1102f_level0_row11\" class=\"row_heading level0 row11\" >Std</th>\n",
       "      <td id=\"T_1102f_row11_col0\" class=\"data row11 col0\" >0.0380</td>\n",
       "      <td id=\"T_1102f_row11_col1\" class=\"data row11 col1\" >0.0420</td>\n",
       "      <td id=\"T_1102f_row11_col2\" class=\"data row11 col2\" >0.0990</td>\n",
       "      <td id=\"T_1102f_row11_col3\" class=\"data row11 col3\" >0.1003</td>\n",
       "      <td id=\"T_1102f_row11_col4\" class=\"data row11 col4\" >0.0885</td>\n",
       "      <td id=\"T_1102f_row11_col5\" class=\"data row11 col5\" >0.1122</td>\n",
       "      <td id=\"T_1102f_row11_col6\" class=\"data row11 col6\" >0.1121</td>\n",
       "    </tr>\n",
       "  </tbody>\n",
       "</table>\n"
      ],
      "text/plain": [
       "<pandas.io.formats.style.Styler at 0x1bb4a3c9580>"
      ]
     },
     "metadata": {},
     "output_type": "display_data"
    },
    {
     "data": {
      "application/vnd.jupyter.widget-view+json": {
       "model_id": "",
       "version_major": 2,
       "version_minor": 0
      },
      "text/plain": [
       "Processing:   0%|          | 0/7 [00:00<?, ?it/s]"
      ]
     },
     "metadata": {},
     "output_type": "display_data"
    },
    {
     "name": "stdout",
     "output_type": "stream",
     "text": [
      "Fitting 10 folds for each of 10 candidates, totalling 100 fits\n"
     ]
    },
    {
     "data": {
      "text/html": [
       "<style>#sk-container-id-3 {color: black;background-color: white;}#sk-container-id-3 pre{padding: 0;}#sk-container-id-3 div.sk-toggleable {background-color: white;}#sk-container-id-3 label.sk-toggleable__label {cursor: pointer;display: block;width: 100%;margin-bottom: 0;padding: 0.3em;box-sizing: border-box;text-align: center;}#sk-container-id-3 label.sk-toggleable__label-arrow:before {content: \"▸\";float: left;margin-right: 0.25em;color: #696969;}#sk-container-id-3 label.sk-toggleable__label-arrow:hover:before {color: black;}#sk-container-id-3 div.sk-estimator:hover label.sk-toggleable__label-arrow:before {color: black;}#sk-container-id-3 div.sk-toggleable__content {max-height: 0;max-width: 0;overflow: hidden;text-align: left;background-color: #f0f8ff;}#sk-container-id-3 div.sk-toggleable__content pre {margin: 0.2em;color: black;border-radius: 0.25em;background-color: #f0f8ff;}#sk-container-id-3 input.sk-toggleable__control:checked~div.sk-toggleable__content {max-height: 200px;max-width: 100%;overflow: auto;}#sk-container-id-3 input.sk-toggleable__control:checked~label.sk-toggleable__label-arrow:before {content: \"▾\";}#sk-container-id-3 div.sk-estimator input.sk-toggleable__control:checked~label.sk-toggleable__label {background-color: #d4ebff;}#sk-container-id-3 div.sk-label input.sk-toggleable__control:checked~label.sk-toggleable__label {background-color: #d4ebff;}#sk-container-id-3 input.sk-hidden--visually {border: 0;clip: rect(1px 1px 1px 1px);clip: rect(1px, 1px, 1px, 1px);height: 1px;margin: -1px;overflow: hidden;padding: 0;position: absolute;width: 1px;}#sk-container-id-3 div.sk-estimator {font-family: monospace;background-color: #f0f8ff;border: 1px dotted black;border-radius: 0.25em;box-sizing: border-box;margin-bottom: 0.5em;}#sk-container-id-3 div.sk-estimator:hover {background-color: #d4ebff;}#sk-container-id-3 div.sk-parallel-item::after {content: \"\";width: 100%;border-bottom: 1px solid gray;flex-grow: 1;}#sk-container-id-3 div.sk-label:hover label.sk-toggleable__label {background-color: #d4ebff;}#sk-container-id-3 div.sk-serial::before {content: \"\";position: absolute;border-left: 1px solid gray;box-sizing: border-box;top: 0;bottom: 0;left: 50%;z-index: 0;}#sk-container-id-3 div.sk-serial {display: flex;flex-direction: column;align-items: center;background-color: white;padding-right: 0.2em;padding-left: 0.2em;position: relative;}#sk-container-id-3 div.sk-item {position: relative;z-index: 1;}#sk-container-id-3 div.sk-parallel {display: flex;align-items: stretch;justify-content: center;background-color: white;position: relative;}#sk-container-id-3 div.sk-item::before, #sk-container-id-3 div.sk-parallel-item::before {content: \"\";position: absolute;border-left: 1px solid gray;box-sizing: border-box;top: 0;bottom: 0;left: 50%;z-index: -1;}#sk-container-id-3 div.sk-parallel-item {display: flex;flex-direction: column;z-index: 1;position: relative;background-color: white;}#sk-container-id-3 div.sk-parallel-item:first-child::after {align-self: flex-end;width: 50%;}#sk-container-id-3 div.sk-parallel-item:last-child::after {align-self: flex-start;width: 50%;}#sk-container-id-3 div.sk-parallel-item:only-child::after {width: 0;}#sk-container-id-3 div.sk-dashed-wrapped {border: 1px dashed gray;margin: 0 0.4em 0.5em 0.4em;box-sizing: border-box;padding-bottom: 0.4em;background-color: white;}#sk-container-id-3 div.sk-label label {font-family: monospace;font-weight: bold;display: inline-block;line-height: 1.2em;}#sk-container-id-3 div.sk-label-container {text-align: center;}#sk-container-id-3 div.sk-container {/* jupyter's `normalize.less` sets `[hidden] { display: none; }` but bootstrap.min.css set `[hidden] { display: none !important; }` so we also need the `!important` here to be able to override the default hidden behavior on the sphinx rendered scikit-learn.org. See: https://github.com/scikit-learn/scikit-learn/issues/21755 */display: inline-block !important;position: relative;}#sk-container-id-3 div.sk-text-repr-fallback {display: none;}</style><div id=\"sk-container-id-3\" class=\"sk-top-container\"><div class=\"sk-text-repr-fallback\"><pre>RandomForestClassifier(bootstrap=True, ccp_alpha=0.0, class_weight={},\n",
       "                       criterion=&#x27;gini&#x27;, max_depth=5, max_features=&#x27;log2&#x27;,\n",
       "                       max_leaf_nodes=None, max_samples=None,\n",
       "                       min_impurity_decrease=0.0001, min_samples_leaf=5,\n",
       "                       min_samples_split=2, min_weight_fraction_leaf=0.0,\n",
       "                       n_estimators=40, n_jobs=-1, oob_score=False,\n",
       "                       random_state=3528, verbose=0, warm_start=False)</pre><b>In a Jupyter environment, please rerun this cell to show the HTML representation or trust the notebook. <br />On GitHub, the HTML representation is unable to render, please try loading this page with nbviewer.org.</b></div><div class=\"sk-container\" hidden><div class=\"sk-item\"><div class=\"sk-estimator sk-toggleable\"><input class=\"sk-toggleable__control sk-hidden--visually\" id=\"sk-estimator-id-3\" type=\"checkbox\" checked><label for=\"sk-estimator-id-3\" class=\"sk-toggleable__label sk-toggleable__label-arrow\">RandomForestClassifier</label><div class=\"sk-toggleable__content\"><pre>RandomForestClassifier(bootstrap=True, ccp_alpha=0.0, class_weight={},\n",
       "                       criterion=&#x27;gini&#x27;, max_depth=5, max_features=&#x27;log2&#x27;,\n",
       "                       max_leaf_nodes=None, max_samples=None,\n",
       "                       min_impurity_decrease=0.0001, min_samples_leaf=5,\n",
       "                       min_samples_split=2, min_weight_fraction_leaf=0.0,\n",
       "                       n_estimators=40, n_jobs=-1, oob_score=False,\n",
       "                       random_state=3528, verbose=0, warm_start=False)</pre></div></div></div></div></div>"
      ],
      "text/plain": [
       "RandomForestClassifier(bootstrap=True, ccp_alpha=0.0, class_weight={},\n",
       "                       criterion='gini', max_depth=5, max_features='log2',\n",
       "                       max_leaf_nodes=None, max_samples=None,\n",
       "                       min_impurity_decrease=0.0001, min_samples_leaf=5,\n",
       "                       min_samples_split=2, min_weight_fraction_leaf=0.0,\n",
       "                       n_estimators=40, n_jobs=-1, oob_score=False,\n",
       "                       random_state=3528, verbose=0, warm_start=False)"
      ]
     },
     "execution_count": 56,
     "metadata": {},
     "output_type": "execute_result"
    }
   ],
   "source": [
    "rf_tuned = tune_model(model)\n",
    "rf_tuned"
   ]
  },
  {
   "cell_type": "markdown",
   "id": "67f91fd6-d3ca-4181-853c-f1e98aa669a9",
   "metadata": {},
   "source": [
    "#### OBS: O modelo tunado apresentou não apresentou melhora siguinificativa no desempenho então vamos seguir com o padrao"
   ]
  },
  {
   "cell_type": "markdown",
   "id": "53ec1945-3a33-4076-8257-1d7d003ed57e",
   "metadata": {},
   "source": [
    "##### Proceguir como modelo sem tuning"
   ]
  },
  {
   "cell_type": "code",
   "execution_count": 57,
   "id": "9894b1b7-ea05-4721-bc93-74aee915b93c",
   "metadata": {},
   "outputs": [
    {
     "data": {
      "text/html": [
       "<style>#sk-container-id-4 {color: black;background-color: white;}#sk-container-id-4 pre{padding: 0;}#sk-container-id-4 div.sk-toggleable {background-color: white;}#sk-container-id-4 label.sk-toggleable__label {cursor: pointer;display: block;width: 100%;margin-bottom: 0;padding: 0.3em;box-sizing: border-box;text-align: center;}#sk-container-id-4 label.sk-toggleable__label-arrow:before {content: \"▸\";float: left;margin-right: 0.25em;color: #696969;}#sk-container-id-4 label.sk-toggleable__label-arrow:hover:before {color: black;}#sk-container-id-4 div.sk-estimator:hover label.sk-toggleable__label-arrow:before {color: black;}#sk-container-id-4 div.sk-toggleable__content {max-height: 0;max-width: 0;overflow: hidden;text-align: left;background-color: #f0f8ff;}#sk-container-id-4 div.sk-toggleable__content pre {margin: 0.2em;color: black;border-radius: 0.25em;background-color: #f0f8ff;}#sk-container-id-4 input.sk-toggleable__control:checked~div.sk-toggleable__content {max-height: 200px;max-width: 100%;overflow: auto;}#sk-container-id-4 input.sk-toggleable__control:checked~label.sk-toggleable__label-arrow:before {content: \"▾\";}#sk-container-id-4 div.sk-estimator input.sk-toggleable__control:checked~label.sk-toggleable__label {background-color: #d4ebff;}#sk-container-id-4 div.sk-label input.sk-toggleable__control:checked~label.sk-toggleable__label {background-color: #d4ebff;}#sk-container-id-4 input.sk-hidden--visually {border: 0;clip: rect(1px 1px 1px 1px);clip: rect(1px, 1px, 1px, 1px);height: 1px;margin: -1px;overflow: hidden;padding: 0;position: absolute;width: 1px;}#sk-container-id-4 div.sk-estimator {font-family: monospace;background-color: #f0f8ff;border: 1px dotted black;border-radius: 0.25em;box-sizing: border-box;margin-bottom: 0.5em;}#sk-container-id-4 div.sk-estimator:hover {background-color: #d4ebff;}#sk-container-id-4 div.sk-parallel-item::after {content: \"\";width: 100%;border-bottom: 1px solid gray;flex-grow: 1;}#sk-container-id-4 div.sk-label:hover label.sk-toggleable__label {background-color: #d4ebff;}#sk-container-id-4 div.sk-serial::before {content: \"\";position: absolute;border-left: 1px solid gray;box-sizing: border-box;top: 0;bottom: 0;left: 50%;z-index: 0;}#sk-container-id-4 div.sk-serial {display: flex;flex-direction: column;align-items: center;background-color: white;padding-right: 0.2em;padding-left: 0.2em;position: relative;}#sk-container-id-4 div.sk-item {position: relative;z-index: 1;}#sk-container-id-4 div.sk-parallel {display: flex;align-items: stretch;justify-content: center;background-color: white;position: relative;}#sk-container-id-4 div.sk-item::before, #sk-container-id-4 div.sk-parallel-item::before {content: \"\";position: absolute;border-left: 1px solid gray;box-sizing: border-box;top: 0;bottom: 0;left: 50%;z-index: -1;}#sk-container-id-4 div.sk-parallel-item {display: flex;flex-direction: column;z-index: 1;position: relative;background-color: white;}#sk-container-id-4 div.sk-parallel-item:first-child::after {align-self: flex-end;width: 50%;}#sk-container-id-4 div.sk-parallel-item:last-child::after {align-self: flex-start;width: 50%;}#sk-container-id-4 div.sk-parallel-item:only-child::after {width: 0;}#sk-container-id-4 div.sk-dashed-wrapped {border: 1px dashed gray;margin: 0 0.4em 0.5em 0.4em;box-sizing: border-box;padding-bottom: 0.4em;background-color: white;}#sk-container-id-4 div.sk-label label {font-family: monospace;font-weight: bold;display: inline-block;line-height: 1.2em;}#sk-container-id-4 div.sk-label-container {text-align: center;}#sk-container-id-4 div.sk-container {/* jupyter's `normalize.less` sets `[hidden] { display: none; }` but bootstrap.min.css set `[hidden] { display: none !important; }` so we also need the `!important` here to be able to override the default hidden behavior on the sphinx rendered scikit-learn.org. See: https://github.com/scikit-learn/scikit-learn/issues/21755 */display: inline-block !important;position: relative;}#sk-container-id-4 div.sk-text-repr-fallback {display: none;}</style><div id=\"sk-container-id-4\" class=\"sk-top-container\"><div class=\"sk-text-repr-fallback\"><pre>RandomForestClassifier(bootstrap=True, ccp_alpha=0.0, class_weight=None,\n",
       "                       criterion=&#x27;gini&#x27;, max_depth=None, max_features=&#x27;sqrt&#x27;,\n",
       "                       max_leaf_nodes=None, max_samples=None,\n",
       "                       min_impurity_decrease=0.0, min_samples_leaf=1,\n",
       "                       min_samples_split=2, min_weight_fraction_leaf=0.0,\n",
       "                       n_estimators=100, n_jobs=-1, oob_score=False,\n",
       "                       random_state=3528, verbose=0, warm_start=False)</pre><b>In a Jupyter environment, please rerun this cell to show the HTML representation or trust the notebook. <br />On GitHub, the HTML representation is unable to render, please try loading this page with nbviewer.org.</b></div><div class=\"sk-container\" hidden><div class=\"sk-item\"><div class=\"sk-estimator sk-toggleable\"><input class=\"sk-toggleable__control sk-hidden--visually\" id=\"sk-estimator-id-4\" type=\"checkbox\" checked><label for=\"sk-estimator-id-4\" class=\"sk-toggleable__label sk-toggleable__label-arrow\">RandomForestClassifier</label><div class=\"sk-toggleable__content\"><pre>RandomForestClassifier(bootstrap=True, ccp_alpha=0.0, class_weight=None,\n",
       "                       criterion=&#x27;gini&#x27;, max_depth=None, max_features=&#x27;sqrt&#x27;,\n",
       "                       max_leaf_nodes=None, max_samples=None,\n",
       "                       min_impurity_decrease=0.0, min_samples_leaf=1,\n",
       "                       min_samples_split=2, min_weight_fraction_leaf=0.0,\n",
       "                       n_estimators=100, n_jobs=-1, oob_score=False,\n",
       "                       random_state=3528, verbose=0, warm_start=False)</pre></div></div></div></div></div>"
      ],
      "text/plain": [
       "RandomForestClassifier(bootstrap=True, ccp_alpha=0.0, class_weight=None,\n",
       "                       criterion='gini', max_depth=None, max_features='sqrt',\n",
       "                       max_leaf_nodes=None, max_samples=None,\n",
       "                       min_impurity_decrease=0.0, min_samples_leaf=1,\n",
       "                       min_samples_split=2, min_weight_fraction_leaf=0.0,\n",
       "                       n_estimators=100, n_jobs=-1, oob_score=False,\n",
       "                       random_state=3528, verbose=0, warm_start=False)"
      ]
     },
     "execution_count": 57,
     "metadata": {},
     "output_type": "execute_result"
    }
   ],
   "source": [
    "model"
   ]
  },
  {
   "cell_type": "code",
   "execution_count": 58,
   "id": "e24e0933-8d9c-4bbd-9673-87f6eb64b0c0",
   "metadata": {},
   "outputs": [
    {
     "data": {
      "text/html": [],
      "text/plain": [
       "<IPython.core.display.HTML object>"
      ]
     },
     "metadata": {},
     "output_type": "display_data"
    },
    {
     "data": {
      "image/png": "[encoded data removed]",
      "text/plain": [
       "<Figure size 800x550 with 1 Axes>"
      ]
     },
     "metadata": {},
     "output_type": "display_data"
    }
   ],
   "source": [
    "# Comparar predições e resultados do banco de teste\n",
    "plot_model(model, plot='error')"
   ]
  },
  {
   "cell_type": "code",
   "execution_count": 59,
   "id": "cc343024-7d5a-4f47-9c47-8b6a46655e9a",
   "metadata": {},
   "outputs": [
    {
     "data": {
      "text/html": [],
      "text/plain": [
       "<IPython.core.display.HTML object>"
      ]
     },
     "metadata": {},
     "output_type": "display_data"
    },
    {
     "data": {
      "image/png": "[encoded data removed]",
      "text/plain": [
       "<Figure size 800x550 with 1 Axes>"
      ]
     },
     "metadata": {},
     "output_type": "display_data"
    }
   ],
   "source": [
    "# Ajuste ROC\n",
    "plot_model(model, plot='auc')"
   ]
  },
  {
   "cell_type": "code",
   "execution_count": 60,
   "id": "96a62ae5-1749-4781-8bdb-8adeaac44d6e",
   "metadata": {},
   "outputs": [
    {
     "data": {
      "text/html": [],
      "text/plain": [
       "<IPython.core.display.HTML object>"
      ]
     },
     "metadata": {},
     "output_type": "display_data"
    },
    {
     "data": {
      "image/png": "[encoded data removed]",
      "text/plain": [
       "<Figure size 800x500 with 1 Axes>"
      ]
     },
     "metadata": {},
     "output_type": "display_data"
    }
   ],
   "source": [
    "plot_model(model, 'feature')"
   ]
  },
  {
   "cell_type": "markdown",
   "id": "bbf34343-87f9-4d94-8e72-5fb38a4138f2",
   "metadata": {},
   "source": [
    "#### Salvar o modelo"
   ]
  },
  {
   "cell_type": "markdown",
   "id": "ac2637d5-4a41-47fd-8682-559f389c18cd",
   "metadata": {},
   "source": [
    "- ##### Efetuar predição sobre os dados sem classificação em level"
   ]
  },
  {
   "cell_type": "code",
   "execution_count": 61,
   "id": "1235049c-18fc-4db1-aafc-5a096b7a2e0e",
   "metadata": {},
   "outputs": [
    {
     "data": {
      "text/html": [],
      "text/plain": [
       "<IPython.core.display.HTML object>"
      ]
     },
     "metadata": {},
     "output_type": "display_data"
    }
   ],
   "source": [
    "mdl_rf = predict_model(model, data=df_test)"
   ]
  },
  {
   "cell_type": "code",
   "execution_count": 62,
   "id": "2e2c7498-45c2-401b-a759-219037de952b",
   "metadata": {},
   "outputs": [
    {
     "data": {
      "text/html": [
       "<div>\n",
       "<style scoped>\n",
       "    .dataframe tbody tr th:only-of-type {\n",
       "        vertical-align: middle;\n",
       "    }\n",
       "\n",
       "    .dataframe tbody tr th {\n",
       "        vertical-align: top;\n",
       "    }\n",
       "\n",
       "    .dataframe thead th {\n",
       "        text-align: right;\n",
       "    }\n",
       "</style>\n",
       "<table border=\"1\" class=\"dataframe\">\n",
       "  <thead>\n",
       "    <tr style=\"text-align: right;\">\n",
       "      <th></th>\n",
       "      <th>occupation</th>\n",
       "      <th>state</th>\n",
       "      <th>city</th>\n",
       "      <th>paid</th>\n",
       "      <th>unpaid</th>\n",
       "      <th>prediction_label</th>\n",
       "      <th>prediction_score</th>\n",
       "    </tr>\n",
       "  </thead>\n",
       "  <tbody>\n",
       "    <tr>\n",
       "      <th>0</th>\n",
       "      <td>0.047619</td>\n",
       "      <td>0.075377</td>\n",
       "      <td>0.220679</td>\n",
       "      <td>64.0</td>\n",
       "      <td>79.0</td>\n",
       "      <td>0</td>\n",
       "      <td>0.99</td>\n",
       "    </tr>\n",
       "    <tr>\n",
       "      <th>1</th>\n",
       "      <td>0.047619</td>\n",
       "      <td>0.182927</td>\n",
       "      <td>0.220679</td>\n",
       "      <td>167.0</td>\n",
       "      <td>42.0</td>\n",
       "      <td>0</td>\n",
       "      <td>1.00</td>\n",
       "    </tr>\n",
       "    <tr>\n",
       "      <th>2</th>\n",
       "      <td>0.068027</td>\n",
       "      <td>0.386792</td>\n",
       "      <td>0.220679</td>\n",
       "      <td>350.0</td>\n",
       "      <td>385.0</td>\n",
       "      <td>0</td>\n",
       "      <td>1.00</td>\n",
       "    </tr>\n",
       "    <tr>\n",
       "      <th>3</th>\n",
       "      <td>0.432432</td>\n",
       "      <td>0.533333</td>\n",
       "      <td>0.220679</td>\n",
       "      <td>482.0</td>\n",
       "      <td>190.0</td>\n",
       "      <td>0</td>\n",
       "      <td>0.73</td>\n",
       "    </tr>\n",
       "    <tr>\n",
       "      <th>4</th>\n",
       "      <td>0.160584</td>\n",
       "      <td>0.075377</td>\n",
       "      <td>0.220679</td>\n",
       "      <td>128.0</td>\n",
       "      <td>75.0</td>\n",
       "      <td>0</td>\n",
       "      <td>1.00</td>\n",
       "    </tr>\n",
       "    <tr>\n",
       "      <th>...</th>\n",
       "      <td>...</td>\n",
       "      <td>...</td>\n",
       "      <td>...</td>\n",
       "      <td>...</td>\n",
       "      <td>...</td>\n",
       "      <td>...</td>\n",
       "      <td>...</td>\n",
       "    </tr>\n",
       "    <tr>\n",
       "      <th>98</th>\n",
       "      <td>0.439024</td>\n",
       "      <td>0.000000</td>\n",
       "      <td>0.220679</td>\n",
       "      <td>27.0</td>\n",
       "      <td>9.0</td>\n",
       "      <td>0</td>\n",
       "      <td>0.96</td>\n",
       "    </tr>\n",
       "    <tr>\n",
       "      <th>99</th>\n",
       "      <td>0.068027</td>\n",
       "      <td>0.075377</td>\n",
       "      <td>0.220679</td>\n",
       "      <td>0.0</td>\n",
       "      <td>0.0</td>\n",
       "      <td>0</td>\n",
       "      <td>1.00</td>\n",
       "    </tr>\n",
       "    <tr>\n",
       "      <th>100</th>\n",
       "      <td>0.047619</td>\n",
       "      <td>0.075377</td>\n",
       "      <td>0.220679</td>\n",
       "      <td>11.0</td>\n",
       "      <td>10.0</td>\n",
       "      <td>0</td>\n",
       "      <td>0.88</td>\n",
       "    </tr>\n",
       "    <tr>\n",
       "      <th>101</th>\n",
       "      <td>0.529412</td>\n",
       "      <td>0.533333</td>\n",
       "      <td>0.220679</td>\n",
       "      <td>2.0</td>\n",
       "      <td>6.0</td>\n",
       "      <td>1</td>\n",
       "      <td>0.78</td>\n",
       "    </tr>\n",
       "    <tr>\n",
       "      <th>102</th>\n",
       "      <td>0.160584</td>\n",
       "      <td>0.386792</td>\n",
       "      <td>0.220679</td>\n",
       "      <td>0.0</td>\n",
       "      <td>6.0</td>\n",
       "      <td>0</td>\n",
       "      <td>0.86</td>\n",
       "    </tr>\n",
       "  </tbody>\n",
       "</table>\n",
       "<p>103 rows × 7 columns</p>\n",
       "</div>"
      ],
      "text/plain": [
       "     occupation     state      city   paid  unpaid  prediction_label  \\\n",
       "0      0.047619  0.075377  0.220679   64.0    79.0                 0   \n",
       "1      0.047619  0.182927  0.220679  167.0    42.0                 0   \n",
       "2      0.068027  0.386792  0.220679  350.0   385.0                 0   \n",
       "3      0.432432  0.533333  0.220679  482.0   190.0                 0   \n",
       "4      0.160584  0.075377  0.220679  128.0    75.0                 0   \n",
       "..          ...       ...       ...    ...     ...               ...   \n",
       "98     0.439024  0.000000  0.220679   27.0     9.0                 0   \n",
       "99     0.068027  0.075377  0.220679    0.0     0.0                 0   \n",
       "100    0.047619  0.075377  0.220679   11.0    10.0                 0   \n",
       "101    0.529412  0.533333  0.220679    2.0     6.0                 1   \n",
       "102    0.160584  0.386792  0.220679    0.0     6.0                 0   \n",
       "\n",
       "     prediction_score  \n",
       "0                0.99  \n",
       "1                1.00  \n",
       "2                1.00  \n",
       "3                0.73  \n",
       "4                1.00  \n",
       "..                ...  \n",
       "98               0.96  \n",
       "99               1.00  \n",
       "100              0.88  \n",
       "101              0.78  \n",
       "102              0.86  \n",
       "\n",
       "[103 rows x 7 columns]"
      ]
     },
     "execution_count": 62,
     "metadata": {},
     "output_type": "execute_result"
    }
   ],
   "source": [
    "mdl_rf"
   ]
  },
  {
   "cell_type": "code",
   "execution_count": 63,
   "id": "f1f2da7a-b52b-4f1d-bac4-b2f64bf9ead4",
   "metadata": {},
   "outputs": [],
   "source": [
    "df_test.reset_index(drop=True, inplace=True)"
   ]
  },
  {
   "cell_type": "code",
   "execution_count": 64,
   "id": "f640ba69-c035-4b36-ad07-924219dfab38",
   "metadata": {},
   "outputs": [
    {
     "name": "stdout",
     "output_type": "stream",
     "text": [
      "<class 'pandas.core.frame.DataFrame'>\n",
      "RangeIndex: 103 entries, 0 to 102\n",
      "Data columns (total 7 columns):\n",
      " #   Column          Non-Null Count  Dtype \n",
      "---  ------          --------------  ----- \n",
      " 0   account_number  103 non-null    object\n",
      " 1   occupation      103 non-null    object\n",
      " 2   state           103 non-null    object\n",
      " 3   city            103 non-null    object\n",
      " 4   paid            103 non-null    int32 \n",
      " 5   unpaid          103 non-null    int32 \n",
      " 6   fraud           103 non-null    int32 \n",
      "dtypes: int32(3), object(4)\n",
      "memory usage: 4.6+ KB\n"
     ]
    }
   ],
   "source": [
    "df_test['fraud'] = mdl_rf.prediction_label.astype(int)\n",
    "df_test.info()"
   ]
  },
  {
   "cell_type": "markdown",
   "id": "4629fc0a-c903-4778-a64d-ce1227803827",
   "metadata": {},
   "source": [
    "- ##### Visualizando qtd de previsoes as classes"
   ]
  },
  {
   "cell_type": "code",
   "execution_count": 65,
   "id": "a57f1a77-14a3-4c7b-9606-5498fe7fa63c",
   "metadata": {},
   "outputs": [
    {
     "data": {
      "text/plain": [
       "<AxesSubplot:>"
      ]
     },
     "execution_count": 65,
     "metadata": {},
     "output_type": "execute_result"
    },
    {
     "data": {
      "image/png": "[encoded data removed]",
      "text/plain": [
       "<Figure size 800x550 with 1 Axes>"
      ]
     },
     "metadata": {},
     "output_type": "display_data"
    }
   ],
   "source": [
    "mdl_rf.prediction_label.hist(bins=3)"
   ]
  },
  {
   "cell_type": "code",
   "execution_count": 66,
   "id": "2f631143-53db-4ea6-b4d7-f2bdcd9581e6",
   "metadata": {},
   "outputs": [
    {
     "data": {
      "text/plain": [
       "0    90\n",
       "1    13\n",
       "Name: prediction_label, dtype: int64"
      ]
     },
     "execution_count": 66,
     "metadata": {},
     "output_type": "execute_result"
    }
   ],
   "source": [
    "mdl_rf.prediction_label.value_counts()"
   ]
  },
  {
   "cell_type": "code",
   "execution_count": 67,
   "id": "71402eb3-d738-4521-87fe-76b2424f49b4",
   "metadata": {},
   "outputs": [],
   "source": [
    "# Finalize model\n",
    "final_rf = finalize_model(rf_tuned)"
   ]
  },
  {
   "cell_type": "markdown",
   "id": "88ffe35a-d79f-4fdb-83dd-fc6ba80a9fa8",
   "metadata": {},
   "source": [
    "- ##### Salvando o modelo para usar no Deploy com API Flask"
   ]
  },
  {
   "cell_type": "code",
   "execution_count": 68,
   "id": "c6c34cac-ed93-424d-ad20-2027f93aa2bb",
   "metadata": {},
   "outputs": [
    {
     "name": "stdout",
     "output_type": "stream",
     "text": [
      "Transformation Pipeline and Model Successfully Saved\n"
     ]
    },
    {
     "data": {
      "text/plain": [
       "(Pipeline(memory=Memory(location=C:\\Users\\Fabio\\AppData\\Local\\Temp\\joblib),\n",
       "          steps=[('numerical_imputer',\n",
       "                  TransformerWrapper(exclude=None, include=['paid', 'unpaid'],\n",
       "                                     transformer=SimpleImputer(add_indicator=False,\n",
       "                                                               copy=True,\n",
       "                                                               fill_value=None,\n",
       "                                                               missing_values=nan,\n",
       "                                                               strategy='mean',\n",
       "                                                               verbose='deprecated'))),\n",
       "                 ('categorical_imputer',\n",
       "                  TransformerWrapper(exclude=None,\n",
       "                                     incl...\n",
       "                  RandomForestClassifier(bootstrap=True, ccp_alpha=0.0,\n",
       "                                         class_weight={}, criterion='gini',\n",
       "                                         max_depth=5, max_features='log2',\n",
       "                                         max_leaf_nodes=None, max_samples=None,\n",
       "                                         min_impurity_decrease=0.0001,\n",
       "                                         min_samples_leaf=5, min_samples_split=2,\n",
       "                                         min_weight_fraction_leaf=0.0,\n",
       "                                         n_estimators=40, n_jobs=-1,\n",
       "                                         oob_score=False, random_state=3528,\n",
       "                                         verbose=0, warm_start=False))],\n",
       "          verbose=False),\n",
       " 'my_rf_pycaret_model.pkl')"
      ]
     },
     "execution_count": 68,
     "metadata": {},
     "output_type": "execute_result"
    }
   ],
   "source": [
    "# Save Model\n",
    "save_model(final_rf, 'my_rf_pycaret_model')"
   ]
  },
  {
   "cell_type": "markdown",
   "id": "8c456fe7-eb48-4cbb-b736-976427bc4a3d",
   "metadata": {},
   "source": [
    "### 4. DEPLOY - Disponibilizar a classificação obtida pelo modelo das contas presentes no banco que não possuem classificação na tabela levels, em duas formas de Deply:\n",
    "   - #### Opção 1 - Deploy com API Flask.\n",
    "   - #### Opção 2 - Deploy com arquivo CSV [account_number e fraud]."
   ]
  },
  {
   "cell_type": "markdown",
   "id": "00a727f9-88d7-4f54-ab4c-b8aaf763d56c",
   "metadata": {},
   "source": [
    "- ##### Deploy Opção 2 - CSV\n",
    "    - ##### Gerar um csv com as colunas account_number e fraud. Sendo que a coluna fraud deve ter os seguintes valores: 0 para contas lícitas e 1 para ilícitas"
   ]
  },
  {
   "cell_type": "code",
   "execution_count": 69,
   "id": "995deb4d-d039-4092-beee-e692223b8ec8",
   "metadata": {},
   "outputs": [],
   "source": [
    "# Filtrando apenas as colunas desejadas a coluna fraud esta preencgida pelo model_pedict()\n",
    "df_test[['account_number','fraud']].to_csv(\"deploy.csv\", index=False)"
   ]
  },
  {
   "cell_type": "markdown",
   "id": "ced110dc-5b28-41df-b28b-d12e7816dd24",
   "metadata": {
    "jp-MarkdownHeadingCollapsed": true,
    "tags": []
   },
   "source": [
    "- #### Gerando um JSON dos dados não classificados para Deploy na API Flask\n",
    "    - #### Opção 1: Deploy de uma API que disponibiliza um endpoit GET que recebe como parâmetro na URL o número da conta e retorna o valor 0 para conta que o modelo considere lícita e 1 caso o modelo considere ilícita. A rota deve seguir a seguinte estrutura: URL/?account_number=12345\n",
    "    - #### Exemplo do endpoint da API http://localhost:5000/?account_number=309054, o arquivo da API Flask esta com nome->app.py para execupar basta utilizar o cmd do conda por exemplo e digitar python app.py"
   ]
  },
  {
   "cell_type": "code",
   "execution_count": 70,
   "id": "8044bee4-2192-45b7-bc76-56a977c62123",
   "metadata": {},
   "outputs": [],
   "source": [
    "data = df_test.drop(columns=['fraud'])\n",
    "data.to_json('data.json',orient= 'records', index=True)"
   ]
  },
  {
   "cell_type": "markdown",
   "id": "d96fc93d-53ad-4889-9cd4-66a344839540",
   "metadata": {},
   "source": [
    "#### Bibliotecas necessarias para API"
   ]
  },
  {
   "cell_type": "code",
   "execution_count": 71,
   "id": "c7e6de45-672b-4ec4-927d-a73d7186dc01",
   "metadata": {},
   "outputs": [],
   "source": [
    "#!pip install Flask\n",
    "#!pip install uvicorn\n",
    "#!pip install pickle5\n",
    "#!pip install pydantic\n",
    "#!pip install scikit-learn\n",
    "#!pip install requests\n",
    "#!pip install pypi-json\n",
    "#!pip install joblib\n",
    "#!pip install json"
   ]
  }
 ],
 "metadata": {
  "kernelspec": {
   "display_name": "Python 3 (ipykernel)",
   "language": "python",
   "name": "python3"
  },
  "language_info": {
   "codemirror_mode": {
    "name": "ipython",
    "version": 3
   },
   "file_extension": ".py",
   "mimetype": "text/x-python",
   "name": "python",
   "nbconvert_exporter": "python",
   "pygments_lexer": "ipython3",
   "version": "3.9.13"
  }
 },
 "nbformat": 4,
 "nbformat_minor": 5
}
